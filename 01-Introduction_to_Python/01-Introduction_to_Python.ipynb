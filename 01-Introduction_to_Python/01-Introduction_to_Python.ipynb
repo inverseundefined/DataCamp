{
 "cells": [
  {
   "cell_type": "markdown",
   "metadata": {},
   "source": [
    "# Introduction to Python"
   ]
  },
  {
   "cell_type": "markdown",
   "metadata": {},
   "source": [
    "## 1. Python Basics"
   ]
  },
  {
   "cell_type": "markdown",
   "metadata": {},
   "source": [
    "### The Python Interface"
   ]
  },
  {
   "cell_type": "code",
   "execution_count": 1,
   "metadata": {},
   "outputs": [
    {
     "name": "stdout",
     "output_type": "stream",
     "text": [
      "0.625\n",
      "17\n"
     ]
    }
   ],
   "source": [
    "# Example, do not modify!\n",
    "print(5 / 8)\n",
    "\n",
    "# Put code below here\n",
    "print(7 + 10)"
   ]
  },
  {
   "cell_type": "markdown",
   "metadata": {},
   "source": [
    "### Any comments?"
   ]
  },
  {
   "cell_type": "code",
   "execution_count": 2,
   "metadata": {},
   "outputs": [
    {
     "name": "stdout",
     "output_type": "stream",
     "text": [
      "0.625\n",
      "17\n"
     ]
    }
   ],
   "source": [
    "# Division\n",
    "print(5 / 8)\n",
    "\n",
    "# Addition\n",
    "print(7 + 10)"
   ]
  },
  {
   "cell_type": "markdown",
   "metadata": {},
   "source": [
    "### Python as a calculator"
   ]
  },
  {
   "cell_type": "code",
   "execution_count": 3,
   "metadata": {},
   "outputs": [
    {
     "name": "stdout",
     "output_type": "stream",
     "text": [
      "10\n",
      "0\n",
      "15\n",
      "5.0\n",
      "4\n",
      "16\n",
      "194.87171000000012\n"
     ]
    }
   ],
   "source": [
    "# Addition, subtraction\n",
    "print(5 + 5)\n",
    "print(5 - 5)\n",
    "\n",
    "# Multiplication, division, modulo, and exponentiation\n",
    "print(3 * 5)\n",
    "print(10 / 2)\n",
    "print(18 % 7)\n",
    "print(4 ** 2)\n",
    "\n",
    "# How much is your $100 worth after 7 years?\n",
    "print(100 * 1.1 ** 7)"
   ]
  },
  {
   "cell_type": "markdown",
   "metadata": {},
   "source": [
    "### Variable Assignment"
   ]
  },
  {
   "cell_type": "code",
   "execution_count": 4,
   "metadata": {},
   "outputs": [
    {
     "name": "stdout",
     "output_type": "stream",
     "text": [
      "100\n"
     ]
    }
   ],
   "source": [
    "# Create a variable savings\n",
    "savings = 100\n",
    "\n",
    "# Print out savings\n",
    "print(savings)"
   ]
  },
  {
   "cell_type": "markdown",
   "metadata": {},
   "source": [
    "### Calculations with variables"
   ]
  },
  {
   "cell_type": "code",
   "execution_count": 5,
   "metadata": {},
   "outputs": [
    {
     "name": "stdout",
     "output_type": "stream",
     "text": [
      "194.87171000000012\n"
     ]
    }
   ],
   "source": [
    "# Create a variable savings\n",
    "savings = 100\n",
    "\n",
    "# Create a variable growth_multiplier\n",
    "growth_multiplier = 1.1\n",
    "\n",
    "# Calculate result\n",
    "result = savings * growth_multiplier ** 7\n",
    "\n",
    "# Print out result\n",
    "print(result)"
   ]
  },
  {
   "cell_type": "markdown",
   "metadata": {},
   "source": [
    "### Other variable types"
   ]
  },
  {
   "cell_type": "code",
   "execution_count": 6,
   "metadata": {},
   "outputs": [],
   "source": [
    "# Create a variable desc\n",
    "desc = 'compound interest'\n",
    "\n",
    "# Create a variable profitable\n",
    "profitable = True"
   ]
  },
  {
   "cell_type": "markdown",
   "metadata": {},
   "source": [
    "### Operations with other types"
   ]
  },
  {
   "cell_type": "code",
   "execution_count": 7,
   "metadata": {},
   "outputs": [
    {
     "name": "stdout",
     "output_type": "stream",
     "text": [
      "<class 'float'>\n",
      "compound interestcompound interest\n"
     ]
    }
   ],
   "source": [
    "savings = 100\n",
    "growth_multiplier = 1.1\n",
    "desc = \"compound interest\"\n",
    "\n",
    "# Assign product of growth_multiplier and savings to year1\n",
    "year1 = growth_multiplier * savings\n",
    "\n",
    "# Print the type of year1\n",
    "print(type(year1))\n",
    "\n",
    "# Assign sum of desc and desc to doubledesc\n",
    "doubledesc = desc + desc\n",
    "\n",
    "# Print out doubledesc\n",
    "print(doubledesc)"
   ]
  },
  {
   "cell_type": "markdown",
   "metadata": {},
   "source": [
    "### Type conversion"
   ]
  },
  {
   "cell_type": "code",
   "execution_count": 8,
   "metadata": {},
   "outputs": [
    {
     "name": "stdout",
     "output_type": "stream",
     "text": [
      "I started with $100 and now have $194.87171000000012. Awesome!\n"
     ]
    }
   ],
   "source": [
    "# Definition of savings and result\n",
    "savings = 100\n",
    "result = 100 * 1.10 ** 7\n",
    "\n",
    "# Fix the printout\n",
    "print(\"I started with $\" + str(savings) + \" and now have $\" + str(result) + \". Awesome!\")\n",
    "\n",
    "# Definition of pi_string\n",
    "pi_string = \"3.1415926\"\n",
    "\n",
    "# Convert pi_string into float: pi_float\n",
    "pi_float = float(pi_string)"
   ]
  },
  {
   "cell_type": "markdown",
   "metadata": {},
   "source": [
    "## 2. Python Lists"
   ]
  },
  {
   "cell_type": "markdown",
   "metadata": {},
   "source": [
    "### Create a list"
   ]
  },
  {
   "cell_type": "code",
   "execution_count": 9,
   "metadata": {},
   "outputs": [
    {
     "name": "stdout",
     "output_type": "stream",
     "text": [
      "[11.25, 18.0, 20.0, 10.75, 9.5]\n"
     ]
    }
   ],
   "source": [
    "# area variables (in square meters)\n",
    "hall = 11.25\n",
    "kit = 18.0\n",
    "liv = 20.0\n",
    "bed = 10.75\n",
    "bath = 9.50\n",
    "\n",
    "# Create list areas\n",
    "areas = [hall, kit, liv, bed, bath]\n",
    "\n",
    "# Print areas\n",
    "print(areas)"
   ]
  },
  {
   "cell_type": "markdown",
   "metadata": {},
   "source": [
    "### Create list with different types"
   ]
  },
  {
   "cell_type": "code",
   "execution_count": 10,
   "metadata": {},
   "outputs": [
    {
     "name": "stdout",
     "output_type": "stream",
     "text": [
      "['hallway', 11.25, 'kitchen', 18.0, 'living room', 20.0, 'bedroom', 10.75, 'bathroom', 9.5]\n"
     ]
    }
   ],
   "source": [
    "# area variables (in square meters)\n",
    "hall = 11.25\n",
    "kit = 18.0\n",
    "liv = 20.0\n",
    "bed = 10.75\n",
    "bath = 9.50\n",
    "\n",
    "# Adapt list areas\n",
    "areas = [\"hallway\", hall, \"kitchen\", kit, \"living room\", liv, \"bedroom\", bed, \"bathroom\", bath]\n",
    "\n",
    "# Print areas\n",
    "print(areas)"
   ]
  },
  {
   "cell_type": "markdown",
   "metadata": {},
   "source": [
    "### List of lists"
   ]
  },
  {
   "cell_type": "code",
   "execution_count": 11,
   "metadata": {},
   "outputs": [
    {
     "name": "stdout",
     "output_type": "stream",
     "text": [
      "[['hallway', 11.25], ['kitchen', 18.0], ['living room', 20.0], ['bedroom', 10.75], ['bathroom', 9.5]]\n",
      "<class 'list'>\n"
     ]
    }
   ],
   "source": [
    "# area variables (in square meters)\n",
    "hall = 11.25\n",
    "kit = 18.0\n",
    "liv = 20.0\n",
    "bed = 10.75\n",
    "bath = 9.50\n",
    "\n",
    "# house information as list of lists\n",
    "house = [[\"hallway\", hall],\n",
    "         [\"kitchen\", kit],\n",
    "         [\"living room\", liv],\n",
    "         [\"bedroom\", bed],\n",
    "         ['bathroom', bath]]\n",
    "\n",
    "# Print out house\n",
    "print(house)\n",
    "\n",
    "# Print out the type of house\n",
    "print(type(house))"
   ]
  },
  {
   "cell_type": "markdown",
   "metadata": {},
   "source": [
    "### Subset and conquer"
   ]
  },
  {
   "cell_type": "code",
   "execution_count": 12,
   "metadata": {},
   "outputs": [
    {
     "name": "stdout",
     "output_type": "stream",
     "text": [
      "11.25\n",
      "9.5\n",
      "20.0\n"
     ]
    }
   ],
   "source": [
    "# Create the areas list\n",
    "areas = [\"hallway\", 11.25, \"kitchen\", 18.0, \"living room\", 20.0, \"bedroom\", 10.75, \"bathroom\", 9.50]\n",
    "\n",
    "# Print out second element from areas\n",
    "print(areas[1])\n",
    "\n",
    "# Print out last element from areas\n",
    "print(areas[-1])\n",
    "\n",
    "# Print out the area of the living room\n",
    "print(areas[5])"
   ]
  },
  {
   "cell_type": "markdown",
   "metadata": {},
   "source": [
    "### Subset and calculate"
   ]
  },
  {
   "cell_type": "code",
   "execution_count": 13,
   "metadata": {},
   "outputs": [
    {
     "name": "stdout",
     "output_type": "stream",
     "text": [
      "28.75\n"
     ]
    }
   ],
   "source": [
    "# Create the areas list\n",
    "areas = [\"hallway\", 11.25, \"kitchen\", 18.0, \"living room\", 20.0, \"bedroom\", 10.75, \"bathroom\", 9.50]\n",
    "\n",
    "# Sum of kitchen and bedroom area: eat_sleep_area\n",
    "eat_sleep_area = areas[3] + areas[7]\n",
    "\n",
    "# Print the variable eat_sleep_area\n",
    "print(eat_sleep_area)"
   ]
  },
  {
   "cell_type": "markdown",
   "metadata": {},
   "source": [
    "### Slicing and dicing"
   ]
  },
  {
   "cell_type": "code",
   "execution_count": 14,
   "metadata": {},
   "outputs": [
    {
     "name": "stdout",
     "output_type": "stream",
     "text": [
      "['hallway', 11.25, 'kitchen', 18.0, 'living room', 20.0]\n",
      "['bedroom', 10.75, 'bathroom']\n"
     ]
    }
   ],
   "source": [
    "# Create the areas list\n",
    "areas = [\"hallway\", 11.25, \"kitchen\", 18.0, \"living room\", 20.0, \"bedroom\", 10.75, \"bathroom\", 9.50]\n",
    "\n",
    "# Use slicing to create downstairs\n",
    "downstairs = areas[0:6]\n",
    "\n",
    "# Use slicing to create upstairs\n",
    "upstairs = areas[6:-1]\n",
    "\n",
    "# Print out downstairs and upstairs\n",
    "print(downstairs)\n",
    "print(upstairs)"
   ]
  },
  {
   "cell_type": "markdown",
   "metadata": {},
   "source": [
    "### Slicing and dicing (2)"
   ]
  },
  {
   "cell_type": "code",
   "execution_count": 15,
   "metadata": {},
   "outputs": [
    {
     "name": "stdout",
     "output_type": "stream",
     "text": [
      "['hallway', 11.25, 'kitchen', 18.0, 'living room', 20.0]\n",
      "['bedroom', 10.75, 'bathroom', 9.5]\n"
     ]
    }
   ],
   "source": [
    "# Create the areas list\n",
    "areas = [\"hallway\", 11.25, \"kitchen\", 18.0, \"living room\", 20.0, \"bedroom\", 10.75, \"bathroom\", 9.50]\n",
    "\n",
    "# Alternative slicing to create downstairs\n",
    "downstairs = areas[:6]\n",
    "\n",
    "# Alternative slicing to create upstairs\n",
    "upstairs = areas[6:]\n",
    "\n",
    "# Print out downstairs and upstairs\n",
    "print(downstairs)\n",
    "print(upstairs)"
   ]
  },
  {
   "cell_type": "markdown",
   "metadata": {},
   "source": [
    "### Replace list elements"
   ]
  },
  {
   "cell_type": "code",
   "execution_count": 16,
   "metadata": {},
   "outputs": [
    {
     "name": "stdout",
     "output_type": "stream",
     "text": [
      "['hallway', 11.25, 'kitchen', 18.0, 'chill zone', 20.0, 'bedroom', 10.75, 'bathroom', 10.5]\n"
     ]
    }
   ],
   "source": [
    "# Create the areas list\n",
    "areas = [\"hallway\", 11.25, \"kitchen\", 18.0, \"living room\", 20.0, \"bedroom\", 10.75, \"bathroom\", 9.50]\n",
    "\n",
    "# Correct the bathroom area\n",
    "areas[-1] = 10.50\n",
    "\n",
    "# Change \"living room\" to \"chill zone\"\n",
    "areas[4] = 'chill zone'\n",
    "\n",
    "print(areas)"
   ]
  },
  {
   "cell_type": "markdown",
   "metadata": {},
   "source": [
    "### Extend a list"
   ]
  },
  {
   "cell_type": "code",
   "execution_count": 17,
   "metadata": {},
   "outputs": [
    {
     "name": "stdout",
     "output_type": "stream",
     "text": [
      "['hallway', 11.25, 'kitchen', 18.0, 'chill zone', 20.0, 'bedroom', 10.75, 'bathroom', 10.5, 'poolhouse', 24.5, 'garage', 15.45]\n"
     ]
    }
   ],
   "source": [
    "# Create the areas list and make some changes\n",
    "areas = [\"hallway\", 11.25, \"kitchen\", 18.0, \"chill zone\", 20.0,\n",
    "         \"bedroom\", 10.75, \"bathroom\", 10.50]\n",
    "\n",
    "# Add poolhouse data to areas, new list is areas_1\n",
    "areas_1 = areas + ['poolhouse', 24.5]\n",
    "\n",
    "# Add garage data to areas_1, new list is areas_2\n",
    "areas_2 = areas_1 +  ['garage', 15.45]\n",
    "\n",
    "print(areas_2)"
   ]
  },
  {
   "cell_type": "markdown",
   "metadata": {},
   "source": [
    "### Delete list elements"
   ]
  },
  {
   "cell_type": "code",
   "execution_count": 18,
   "metadata": {},
   "outputs": [
    {
     "name": "stdout",
     "output_type": "stream",
     "text": [
      "['hallway', 11.25, 'kitchen', 18.0, 'chill zone', 20.0, 'bedroom', 10.75, 'bathroom', 10.5, 'garage', 15.45]\n"
     ]
    }
   ],
   "source": [
    "areas = [\"hallway\", 11.25, \"kitchen\", 18.0,\n",
    "        \"chill zone\", 20.0, \"bedroom\", 10.75,\n",
    "         \"bathroom\", 10.50, \"poolhouse\", 24.5,\n",
    "         \"garage\", 15.45]\n",
    "del(areas[-4:-2]) # note -2 is not inclusive\n",
    "print(areas)"
   ]
  },
  {
   "cell_type": "markdown",
   "metadata": {},
   "source": [
    "### Inner workings of lists"
   ]
  },
  {
   "cell_type": "code",
   "execution_count": 19,
   "metadata": {},
   "outputs": [
    {
     "name": "stdout",
     "output_type": "stream",
     "text": [
      "[11.25, 18.0, 20.0, 10.75, 9.5]\n",
      "[5.0, 18.0, 20.0, 10.75, 9.5]\n"
     ]
    }
   ],
   "source": [
    "# Create list areas\n",
    "areas = [11.25, 18.0, 20.0, 10.75, 9.50]\n",
    "\n",
    "# Create areas_copy\n",
    "areas_copy = areas[:] #explicit copy\n",
    "\n",
    "# Change areas_copy\n",
    "areas_copy[0] = 5.0\n",
    "\n",
    "# Print areas\n",
    "print(areas)\n",
    "print(areas_copy)"
   ]
  },
  {
   "cell_type": "markdown",
   "metadata": {},
   "source": [
    "## 3. Functions and Packages"
   ]
  },
  {
   "cell_type": "markdown",
   "metadata": {},
   "source": [
    "### Familiar functions"
   ]
  },
  {
   "cell_type": "code",
   "execution_count": 20,
   "metadata": {},
   "outputs": [
    {
     "name": "stdout",
     "output_type": "stream",
     "text": [
      "<class 'list'>\n",
      "4\n",
      "1\n"
     ]
    }
   ],
   "source": [
    "# Create variables var1 and var2\n",
    "var1 = [1, 2, 3, 4]\n",
    "var2 = True\n",
    "\n",
    "# Print out type of var1\n",
    "print(type(var1))\n",
    "\n",
    "# Print out length of var1\n",
    "print(len(var1))\n",
    "\n",
    "# Convert var2 to an integer: out2\n",
    "out2 = int(var2)\n",
    "print(out2)"
   ]
  },
  {
   "cell_type": "markdown",
   "metadata": {},
   "source": [
    "### Help!"
   ]
  },
  {
   "cell_type": "code",
   "execution_count": 21,
   "metadata": {},
   "outputs": [
    {
     "name": "stdout",
     "output_type": "stream",
     "text": [
      "Help on class complex in module builtins:\n",
      "\n",
      "class complex(object)\n",
      " |  complex(real=0, imag=0)\n",
      " |  \n",
      " |  Create a complex number from a real part and an optional imaginary part.\n",
      " |  \n",
      " |  This is equivalent to (real + imag*1j) where imag defaults to 0.\n",
      " |  \n",
      " |  Methods defined here:\n",
      " |  \n",
      " |  __abs__(self, /)\n",
      " |      abs(self)\n",
      " |  \n",
      " |  __add__(self, value, /)\n",
      " |      Return self+value.\n",
      " |  \n",
      " |  __bool__(self, /)\n",
      " |      self != 0\n",
      " |  \n",
      " |  __divmod__(self, value, /)\n",
      " |      Return divmod(self, value).\n",
      " |  \n",
      " |  __eq__(self, value, /)\n",
      " |      Return self==value.\n",
      " |  \n",
      " |  __float__(self, /)\n",
      " |      float(self)\n",
      " |  \n",
      " |  __floordiv__(self, value, /)\n",
      " |      Return self//value.\n",
      " |  \n",
      " |  __format__(...)\n",
      " |      complex.__format__() -> str\n",
      " |      \n",
      " |      Convert to a string according to format_spec.\n",
      " |  \n",
      " |  __ge__(self, value, /)\n",
      " |      Return self>=value.\n",
      " |  \n",
      " |  __getattribute__(self, name, /)\n",
      " |      Return getattr(self, name).\n",
      " |  \n",
      " |  __getnewargs__(...)\n",
      " |  \n",
      " |  __gt__(self, value, /)\n",
      " |      Return self>value.\n",
      " |  \n",
      " |  __hash__(self, /)\n",
      " |      Return hash(self).\n",
      " |  \n",
      " |  __int__(self, /)\n",
      " |      int(self)\n",
      " |  \n",
      " |  __le__(self, value, /)\n",
      " |      Return self<=value.\n",
      " |  \n",
      " |  __lt__(self, value, /)\n",
      " |      Return self<value.\n",
      " |  \n",
      " |  __mod__(self, value, /)\n",
      " |      Return self%value.\n",
      " |  \n",
      " |  __mul__(self, value, /)\n",
      " |      Return self*value.\n",
      " |  \n",
      " |  __ne__(self, value, /)\n",
      " |      Return self!=value.\n",
      " |  \n",
      " |  __neg__(self, /)\n",
      " |      -self\n",
      " |  \n",
      " |  __pos__(self, /)\n",
      " |      +self\n",
      " |  \n",
      " |  __pow__(self, value, mod=None, /)\n",
      " |      Return pow(self, value, mod).\n",
      " |  \n",
      " |  __radd__(self, value, /)\n",
      " |      Return value+self.\n",
      " |  \n",
      " |  __rdivmod__(self, value, /)\n",
      " |      Return divmod(value, self).\n",
      " |  \n",
      " |  __repr__(self, /)\n",
      " |      Return repr(self).\n",
      " |  \n",
      " |  __rfloordiv__(self, value, /)\n",
      " |      Return value//self.\n",
      " |  \n",
      " |  __rmod__(self, value, /)\n",
      " |      Return value%self.\n",
      " |  \n",
      " |  __rmul__(self, value, /)\n",
      " |      Return value*self.\n",
      " |  \n",
      " |  __rpow__(self, value, mod=None, /)\n",
      " |      Return pow(value, self, mod).\n",
      " |  \n",
      " |  __rsub__(self, value, /)\n",
      " |      Return value-self.\n",
      " |  \n",
      " |  __rtruediv__(self, value, /)\n",
      " |      Return value/self.\n",
      " |  \n",
      " |  __str__(self, /)\n",
      " |      Return str(self).\n",
      " |  \n",
      " |  __sub__(self, value, /)\n",
      " |      Return self-value.\n",
      " |  \n",
      " |  __truediv__(self, value, /)\n",
      " |      Return self/value.\n",
      " |  \n",
      " |  conjugate(...)\n",
      " |      complex.conjugate() -> complex\n",
      " |      \n",
      " |      Return the complex conjugate of its argument. (3-4j).conjugate() == 3+4j.\n",
      " |  \n",
      " |  ----------------------------------------------------------------------\n",
      " |  Static methods defined here:\n",
      " |  \n",
      " |  __new__(*args, **kwargs) from builtins.type\n",
      " |      Create and return a new object.  See help(type) for accurate signature.\n",
      " |  \n",
      " |  ----------------------------------------------------------------------\n",
      " |  Data descriptors defined here:\n",
      " |  \n",
      " |  imag\n",
      " |      the imaginary part of a complex number\n",
      " |  \n",
      " |  real\n",
      " |      the real part of a complex number\n",
      "\n"
     ]
    }
   ],
   "source": [
    "help(complex)\n",
    "#complex() takes two arguments: real and imag. real is a required argument, imag is an optional argument."
   ]
  },
  {
   "cell_type": "markdown",
   "metadata": {},
   "source": [
    "### Multiple arguments"
   ]
  },
  {
   "cell_type": "code",
   "execution_count": 22,
   "metadata": {},
   "outputs": [
    {
     "name": "stdout",
     "output_type": "stream",
     "text": [
      "[20.0, 18.0, 11.25, 10.75, 9.5]\n"
     ]
    }
   ],
   "source": [
    "# Create lists first and second\n",
    "first = [11.25, 18.0, 20.0]\n",
    "second = [10.75, 9.50]\n",
    "\n",
    "# Paste together first and second: full\n",
    "full = first + second\n",
    "\n",
    "# Sort full in descending order: full_sorted\n",
    "full_sorted = sorted(full, reverse=True)\n",
    "\n",
    "# Print out full_sorted\n",
    "print(full_sorted)"
   ]
  },
  {
   "cell_type": "markdown",
   "metadata": {},
   "source": [
    "### String Methods"
   ]
  },
  {
   "cell_type": "code",
   "execution_count": 23,
   "metadata": {},
   "outputs": [
    {
     "name": "stdout",
     "output_type": "stream",
     "text": [
      "poolhouse\n",
      "POOLHOUSE\n",
      "3\n"
     ]
    }
   ],
   "source": [
    "# string to experiment with: place\n",
    "place = \"poolhouse\"\n",
    "\n",
    "# Use upper() on place: place_up\n",
    "place_up = place.upper()\n",
    "\n",
    "# Print out place and place_up\n",
    "print(place)\n",
    "print(place_up)\n",
    "# Print out the number of o's in place\n",
    "print(place.count('o'))"
   ]
  },
  {
   "cell_type": "markdown",
   "metadata": {},
   "source": [
    "### List Methods"
   ]
  },
  {
   "cell_type": "code",
   "execution_count": 24,
   "metadata": {},
   "outputs": [
    {
     "name": "stdout",
     "output_type": "stream",
     "text": [
      "2\n",
      "1\n"
     ]
    }
   ],
   "source": [
    "# Create list areas\n",
    "areas = [11.25, 18.0, 20.0, 10.75, 9.50]\n",
    "\n",
    "# Print out the index of the element 20.0\n",
    "print(areas.index(20.0))\n",
    "\n",
    "# Print out how often 9.50 appears in areas\n",
    "print(areas.count(9.50))"
   ]
  },
  {
   "cell_type": "markdown",
   "metadata": {},
   "source": [
    "### List Methods (2)"
   ]
  },
  {
   "cell_type": "code",
   "execution_count": 25,
   "metadata": {},
   "outputs": [
    {
     "name": "stdout",
     "output_type": "stream",
     "text": [
      "[11.25, 18.0, 20.0, 10.75, 9.5, 24.5, 15.45]\n",
      "[15.45, 24.5, 9.5, 10.75, 20.0, 18.0, 11.25]\n"
     ]
    }
   ],
   "source": [
    "# Create list areas\n",
    "areas = [11.25, 18.0, 20.0, 10.75, 9.50]\n",
    "\n",
    "# Use append twice to add poolhouse and garage size\n",
    "areas.append(24.5)\n",
    "areas.append(15.45)\n",
    "\n",
    "# Print out areas\n",
    "print(areas)\n",
    "\n",
    "# Reverse the orders of the elements in areas\n",
    "areas.reverse()\n",
    "\n",
    "# Print out areas\n",
    "print(areas)"
   ]
  },
  {
   "cell_type": "markdown",
   "metadata": {},
   "source": [
    "### Import package"
   ]
  },
  {
   "cell_type": "code",
   "execution_count": 26,
   "metadata": {},
   "outputs": [
    {
     "name": "stdout",
     "output_type": "stream",
     "text": [
      "Circumference: 2.701769682087222\n",
      "Area: 0.5808804816487527\n"
     ]
    }
   ],
   "source": [
    "# Definition of radius\n",
    "r = 0.43\n",
    "\n",
    "# Import the math package\n",
    "import math\n",
    "\n",
    "# Calculate C\n",
    "C = 2 * math.pi * r\n",
    "\n",
    "# Calculate A\n",
    "A = math.pi * r ** 2\n",
    "\n",
    "# Build printout\n",
    "print(\"Circumference: \" + str(C))\n",
    "print(\"Area: \" + str(A))"
   ]
  },
  {
   "cell_type": "markdown",
   "metadata": {},
   "source": [
    "### Selective import"
   ]
  },
  {
   "cell_type": "code",
   "execution_count": 27,
   "metadata": {},
   "outputs": [
    {
     "name": "stdout",
     "output_type": "stream",
     "text": [
      "0.20943951023931956\n",
      "40317.10572106901\n"
     ]
    }
   ],
   "source": [
    "# Definition of radius\n",
    "r = 192500\n",
    "\n",
    "# Import radians function of math package\n",
    "from math import radians\n",
    "\n",
    "# Travel distance of Moon over 12 degrees. Store in dist.\n",
    "phi = radians(12)\n",
    "dist = r * phi\n",
    "\n",
    "# Print out dist\n",
    "print(phi)\n",
    "print(dist)"
   ]
  },
  {
   "cell_type": "markdown",
   "metadata": {},
   "source": [
    "## 4. NumPy"
   ]
  },
  {
   "cell_type": "markdown",
   "metadata": {},
   "source": [
    "### Your First NumPy Array"
   ]
  },
  {
   "cell_type": "code",
   "execution_count": 28,
   "metadata": {},
   "outputs": [
    {
     "name": "stdout",
     "output_type": "stream",
     "text": [
      "<class 'numpy.ndarray'>\n",
      "[180 215 210 210 188 176 209 200]\n"
     ]
    }
   ],
   "source": [
    "# Create list baseball\n",
    "baseball = [180, 215, 210, 210, 188, 176, 209, 200]\n",
    "\n",
    "# Import the numpy package as np\n",
    "import numpy as np\n",
    "\n",
    "# Create a numpy array from baseball: np_baseball\n",
    "np_baseball = np.array(baseball)\n",
    "\n",
    "# Print out type of np_baseball\n",
    "print(type(np_baseball))\n",
    "print(np_baseball)"
   ]
  },
  {
   "cell_type": "markdown",
   "metadata": {},
   "source": [
    "### Baseball players' height"
   ]
  },
  {
   "cell_type": "code",
   "execution_count": 29,
   "metadata": {},
   "outputs": [
    {
     "name": "stdout",
     "output_type": "stream",
     "text": [
      "[74 74 72 ... 75 75 73]\n",
      "[1.8796 1.8796 1.8288 ... 1.905  1.905  1.8542]\n"
     ]
    }
   ],
   "source": [
    "# height_in retrieved via print str(mylist)\n",
    "height_in = [74, 74, 72, 72, 73, 69, 69, 71, 76, 71, 73, 73, 74, 74, 69, 70, 73, 75, 78, 79, 76, 74, 76, 72, 71, 75, 77, 74, 73, 74, 78, 73, 75, 73, 75, 75, 74, 69, 71, 74, 73, 73, 76, 74, 74, 70, 72, 77, 74, 70, 73, 75, 76, 76, 78, 74, 74, 76, 77, 81, 78, 75, 77, 75, 76, 74, 72, 72, 75, 73, 73, 73, 70, 70, 70, 76, 68, 71, 72, 75, 75, 75, 75, 68, 74, 78, 71, 73, 76, 74, 74, 79, 75, 73, 76, 74, 74, 73, 72, 74, 73, 74, 72, 73, 69, 72, 73, 75, 75, 73, 72, 72, 76, 74, 72, 77, 74, 77, 75, 76, 80, 74, 74, 75, 78, 73, 73, 74, 75, 76, 71, 73, 74, 76, 76, 74, 73, 74, 70, 72, 73, 73, 73, 73, 71, 74, 74, 72, 74, 71, 74, 73, 75, 75, 79, 73, 75, 76, 74, 76, 78, 74, 76, 72, 74, 76, 74, 75, 78, 75, 72, 74, 72, 74, 70, 71, 70, 75, 71, 71, 73, 72, 71, 73, 72, 75, 74, 74, 75, 73, 77, 73, 76, 75, 74, 76, 75, 73, 71, 76, 75, 72, 71, 77, 73, 74, 71, 72, 74, 75, 73, 72, 75, 75, 74, 72, 74, 71, 70, 74, 77, 77, 75, 75, 78, 75, 76, 73, 75, 75, 79, 77, 76, 71, 75, 74, 69, 71, 76, 72, 72, 70, 72, 73, 71, 72, 71, 73, 72, 73, 74, 74, 72, 75, 74, 74, 77, 75, 73, 72, 71, 74, 77, 75, 75, 75, 78, 78, 74, 76, 78, 76, 70, 72, 80, 74, 74, 71, 70, 72, 71, 74, 71, 72, 71, 74, 69, 76, 75, 75, 76, 73, 76, 73, 77, 73, 72, 72, 77, 77, 71, 74, 74, 73, 78, 75, 73, 70, 74, 72, 73, 73, 75, 75, 74, 76, 73, 74, 75, 75, 72, 73, 73, 72, 74, 78, 76, 73, 74, 75, 70, 75, 71, 72, 78, 75, 73, 73, 71, 75, 77, 72, 69, 73, 74, 72, 70, 75, 70, 72, 72, 74, 73, 74, 76, 75, 80, 72, 75, 73, 74, 74, 73, 75, 75, 71, 73, 75, 74, 74, 72, 74, 74, 74, 73, 76, 75, 72, 73, 73, 73, 72, 72, 72, 72, 71, 75, 75, 74, 73, 75, 79, 74, 76, 73, 74, 74, 72, 74, 74, 75, 78, 74, 74, 74, 77, 70, 73, 74, 73, 71, 75, 71, 72, 77, 74, 70, 77, 73, 72, 76, 71, 76, 78, 75, 73, 78, 74, 79, 75, 76, 72, 75, 75, 70, 72, 70, 74, 71, 76, 73, 76, 71, 69, 72, 72, 69, 73, 69, 73, 74, 74, 72, 71, 72, 72, 76, 76, 76, 74, 76, 75, 71, 72, 71, 73, 75, 76, 75, 71, 75, 74, 72, 73, 73, 73, 73, 76, 72, 76, 73, 73, 73, 75, 75, 77, 73, 72, 75, 70, 74, 72, 80, 71, 71, 74, 74, 73, 75, 76, 73, 77, 72, 73, 77, 76, 71, 75, 73, 74, 77, 71, 72, 73, 69, 73, 70, 74, 76, 73, 73, 75, 73, 79, 74, 73, 74, 77, 75, 74, 73, 77, 73, 77, 74, 74, 73, 77, 74, 77, 75, 77, 75, 71, 74, 70, 79, 72, 72, 70, 74, 74, 72, 73, 72, 74, 74, 76, 82, 74, 74, 70, 73, 73, 74, 77, 72, 76, 73, 73, 72, 74, 74, 71, 72, 75, 74, 74, 77, 70, 71, 73, 76, 71, 75, 74, 72, 76, 79, 76, 73, 76, 78, 75, 76, 72, 72, 73, 73, 75, 71, 76, 70, 75, 74, 75, 73, 71, 71, 72, 73, 73, 72, 69, 73, 78, 71, 73, 75, 76, 70, 74, 77, 75, 79, 72, 77, 73, 75, 75, 75, 73, 73, 76, 77, 75, 70, 71, 71, 75, 74, 69, 70, 75, 72, 75, 73, 72, 72, 72, 76, 75, 74, 69, 73, 72, 72, 75, 77, 76, 80, 77, 76, 79, 71, 75, 73, 76, 77, 73, 76, 70, 75, 73, 75, 70, 69, 71, 72, 72, 73, 70, 70, 73, 76, 75, 72, 73, 79, 71, 72, 74, 74, 74, 72, 76, 76, 72, 72, 71, 72, 72, 70, 77, 74, 72, 76, 71, 76, 71, 73, 70, 73, 73, 72, 71, 71, 71, 72, 72, 74, 74, 74, 71, 72, 75, 72, 71, 72, 72, 72, 72, 74, 74, 77, 75, 73, 75, 73, 76, 72, 77, 75, 72, 71, 71, 75, 72, 73, 73, 71, 70, 75, 71, 76, 73, 68, 71, 72, 74, 77, 72, 76, 78, 81, 72, 73, 76, 72, 72, 74, 76, 73, 76, 75, 70, 71, 74, 72, 73, 76, 76, 73, 71, 68, 71, 71, 74, 77, 69, 72, 76, 75, 76, 75, 76, 72, 74, 76, 74, 72, 75, 78, 77, 70, 72, 79, 74, 71, 68, 77, 75, 71, 72, 70, 72, 72, 73, 72, 74, 72, 72, 75, 72, 73, 74, 72, 78, 75, 72, 74, 75, 75, 76, 74, 74, 73, 74, 71, 74, 75, 76, 74, 76, 76, 73, 75, 75, 74, 68, 72, 75, 71, 70, 72, 73, 72, 75, 74, 70, 76, 71, 82, 72, 73, 74, 71, 75, 77, 72, 74, 72, 73, 78, 77, 73, 73, 73, 73, 73, 76, 75, 70, 73, 72, 73, 75, 74, 73, 73, 76, 73, 75, 70, 77, 72, 77, 74, 75, 75, 75, 75, 72, 74, 71, 76, 71, 75, 76, 83, 75, 74, 76, 72, 72, 75, 75, 72, 77, 73, 72, 70, 74, 72, 74, 72, 71, 70, 71, 76, 74, 76, 74, 74, 74, 75, 75, 71, 71, 74, 77, 71, 74, 75, 77, 76, 74, 76, 72, 71, 72, 75, 73, 68, 72, 69, 73, 73, 75, 70, 70, 74, 75, 74, 74, 73, 74, 75, 77, 73, 74, 76, 74, 75, 73, 76, 78, 75, 73, 77, 74, 72, 74, 72, 71, 73, 75, 73, 67, 67, 76, 74, 73, 70, 75, 70, 72, 77, 79, 78, 74, 75, 75, 78, 76, 75, 69, 75, 72, 75, 73, 74, 75, 75, 73]\n",
    "\n",
    "# Import numpy\n",
    "import numpy as np\n",
    "\n",
    "# Create a numpy array from height_in: np_height_in\n",
    "np_height_in = np.array(height_in)\n",
    "\n",
    "# Print out np_height_in\n",
    "print(np_height_in)\n",
    "\n",
    "# Convert np_height_in to m: np_height_m\n",
    "np_height_m = np_height_in * 0.0254\n",
    "\n",
    "# Print np_height_m\n",
    "print(np_height_m)"
   ]
  },
  {
   "cell_type": "markdown",
   "metadata": {},
   "source": [
    "### Baseball player's BMI"
   ]
  },
  {
   "cell_type": "code",
   "execution_count": 30,
   "metadata": {},
   "outputs": [
    {
     "name": "stdout",
     "output_type": "stream",
     "text": [
      "[23.11037639 27.60406069 28.48080465 ... 25.62295933 23.74810865\n",
      " 25.72686361]\n"
     ]
    }
   ],
   "source": [
    "# height and weight are available as regular lists\n",
    "weight_lb = [180, 215, 210, 210, 188, 176, 209, 200, 231, 180, 188, 180, 185, 160, 180, 185, 189, 185, 219, 230, 205, 230, 195, 180, 192, 225, 203, 195, 182, 188, 200, 180, 200, 200, 245, 240, 215, 185, 175, 199, 200, 215, 200, 205, 206, 186, 188, 220, 210, 195, 200, 200, 212, 224, 210, 205, 220, 195, 200, 260, 228, 270, 200, 210, 190, 220, 180, 205, 210, 220, 211, 200, 180, 190, 170, 230, 155, 185, 185, 200, 225, 225, 220, 160, 205, 235, 250, 210, 190, 160, 200, 205, 222, 195, 205, 220, 220, 170, 185, 195, 220, 230, 180, 220, 180, 180, 170, 210, 215, 200, 213, 180, 192, 235, 185, 235, 210, 222, 210, 230, 220, 180, 190, 200, 210, 194, 180, 190, 240, 200, 198, 200, 195, 210, 220, 190, 210, 225, 180, 185, 170, 185, 185, 180, 178, 175, 200, 204, 211, 190, 210, 190, 190, 185, 290, 175, 185, 200, 220, 170, 220, 190, 220, 205, 200, 250, 225, 215, 210, 215, 195, 200, 194, 220, 180, 180, 170, 195, 180, 170, 206, 205, 200, 225, 201, 225, 233, 180, 225, 180, 220, 180, 237, 215, 190, 235, 190, 180, 165, 195, 200, 190, 190, 185, 185, 205, 190, 205, 206, 220, 208, 170, 195, 210, 190, 211, 230, 170, 185, 185, 241, 225, 210, 175, 230, 200, 215, 198, 226, 278, 215, 230, 240, 184, 219, 170, 218, 190, 225, 220, 176, 190, 197, 204, 167, 180, 195, 220, 215, 185, 190, 205, 205, 200, 210, 215, 200, 205, 211, 190, 208, 200, 210, 232, 230, 210, 220, 210, 202, 212, 225, 170, 190, 200, 237, 220, 170, 193, 190, 150, 220, 200, 190, 185, 185, 200, 172, 220, 225, 190, 195, 219, 190, 197, 200, 195, 210, 177, 220, 235, 180, 195, 195, 190, 230, 190, 200, 190, 190, 200, 200, 184, 200, 180, 219, 187, 200, 220, 205, 190, 170, 160, 215, 175, 205, 200, 214, 200, 190, 180, 205, 220, 190, 215, 235, 191, 200, 181, 200, 210, 240, 185, 165, 190, 185, 175, 155, 210, 170, 175, 220, 210, 205, 200, 205, 195, 240, 150, 200, 215, 202, 200, 190, 205, 190, 160, 215, 185, 200, 190, 210, 185, 220, 190, 202, 205, 220, 175, 160, 190, 200, 229, 206, 220, 180, 195, 175, 188, 230, 190, 200, 190, 219, 235, 180, 180, 180, 200, 234, 185, 220, 223, 200, 210, 200, 210, 190, 177, 227, 180, 195, 199, 175, 185, 240, 210, 180, 194, 225, 180, 205, 193, 230, 230, 220, 200, 249, 190, 208, 245, 250, 160, 192, 220, 170, 197, 155, 190, 200, 220, 210, 228, 190, 160, 184, 180, 180, 200, 176, 160, 222, 211, 195, 200, 175, 206, 240, 185, 260, 185, 221, 205, 200, 170, 201, 205, 185, 205, 245, 220, 210, 220, 185, 175, 170, 180, 200, 210, 175, 220, 206, 180, 210, 195, 200, 200, 164, 180, 220, 195, 205, 170, 240, 210, 195, 200, 205, 192, 190, 170, 240, 200, 205, 175, 250, 220, 224, 210, 195, 180, 245, 175, 180, 215, 175, 180, 195, 230, 230, 205, 215, 195, 180, 205, 180, 190, 180, 190, 190, 220, 210, 255, 190, 230, 200, 205, 210, 225, 215, 220, 205, 200, 220, 197, 225, 187, 245, 185, 185, 175, 200, 180, 188, 225, 200, 210, 245, 213, 231, 165, 228, 210, 250, 191, 190, 200, 215, 254, 232, 180, 215, 220, 180, 200, 170, 195, 210, 200, 220, 165, 180, 200, 200, 170, 224, 220, 180, 198, 240, 239, 185, 210, 220, 200, 195, 220, 230, 170, 220, 230, 165, 205, 192, 210, 205, 200, 210, 185, 195, 202, 205, 195, 180, 200, 185, 240, 185, 220, 205, 205, 180, 201, 190, 208, 240, 180, 230, 195, 215, 190, 195, 215, 215, 220, 220, 230, 195, 190, 195, 209, 204, 170, 185, 205, 175, 210, 190, 180, 180, 160, 235, 200, 210, 180, 190, 197, 203, 205, 170, 200, 250, 200, 220, 200, 190, 170, 190, 220, 215, 206, 215, 185, 235, 188, 230, 195, 168, 190, 160, 200, 200, 189, 180, 190, 200, 220, 187, 240, 190, 180, 185, 210, 220, 219, 190, 193, 175, 180, 215, 210, 200, 190, 185, 220, 170, 195, 205, 195, 210, 190, 190, 180, 220, 190, 186, 185, 190, 180, 190, 170, 210, 240, 220, 180, 210, 210, 195, 160, 180, 205, 200, 185, 245, 190, 210, 200, 200, 222, 215, 240, 170, 220, 156, 190, 202, 221, 200, 190, 210, 190, 200, 165, 190, 185, 230, 208, 209, 175, 180, 200, 205, 200, 250, 210, 230, 244, 202, 240, 200, 215, 177, 210, 170, 215, 217, 198, 200, 220, 170, 200, 230, 231, 183, 192, 167, 190, 180, 180, 215, 160, 205, 223, 175, 170, 190, 240, 175, 230, 223, 196, 167, 195, 190, 250, 190, 190, 190, 170, 160, 150, 225, 220, 209, 210, 176, 260, 195, 190, 184, 180, 195, 195, 219, 225, 212, 202, 185, 200, 209, 200, 195, 228, 210, 190, 212, 190, 218, 220, 190, 235, 210, 200, 188, 210, 235, 188, 215, 216, 220, 180, 185, 200, 210, 220, 185, 231, 210, 195, 200, 205, 200, 190, 250, 185, 180, 170, 180, 208, 235, 215, 244, 220, 185, 230, 190, 200, 180, 190, 196, 180, 230, 224, 160, 178, 205, 185, 210, 180, 190, 200, 257, 190, 220, 165, 205, 200, 208, 185, 215, 170, 235, 210, 170, 180, 170, 190, 150, 230, 203, 260, 246, 186, 210, 198, 210, 215, 180, 200, 245, 200, 192, 192, 200, 192, 205, 190, 186, 170, 197, 219, 200, 220, 207, 225, 207, 212, 225, 170, 190, 210, 230, 210, 200, 238, 234, 222, 200, 190, 170, 220, 223, 210, 215, 196, 175, 175, 189, 205, 210, 180, 180, 197, 220, 228, 190, 204, 165, 216, 220, 208, 210, 215, 195, 200, 215, 229, 240, 207, 205, 208, 185, 190, 170, 208, 225, 190, 225, 185, 180, 165, 240, 220, 212, 163, 215, 175, 205, 210, 205, 208, 215, 180, 200, 230, 211, 230, 190, 220, 180, 205, 190, 180, 205, 190, 195]\n",
    "\n",
    "# Import numpy\n",
    "import numpy as np\n",
    "\n",
    "# Create array from height_in with metric units: np_height_m\n",
    "np_height_m = np.array(height_in) * 0.0254\n",
    "\n",
    "# Create array from weight_lb with metric units: np_weight_kg\n",
    "np_weight_kg = np.array(weight_lb) * 0.453592\n",
    "\n",
    "# Calculate the BMI: bmi\n",
    "bmi = np_weight_kg / np_height_m ** 2\n",
    "\n",
    "# Print out bmi\n",
    "print(str(bmi))"
   ]
  },
  {
   "cell_type": "markdown",
   "metadata": {},
   "source": [
    "### Lightweight baseball players"
   ]
  },
  {
   "cell_type": "code",
   "execution_count": 31,
   "metadata": {},
   "outputs": [
    {
     "name": "stdout",
     "output_type": "stream",
     "text": [
      "[False False False ... False False False]\n",
      "[20.54255679 20.54255679 20.69282047 20.69282047 20.34343189 20.34343189\n",
      " 20.69282047 20.15883472 19.4984471  20.69282047 20.9205219 ]\n"
     ]
    }
   ],
   "source": [
    "# height and weight are available as a regular lists\n",
    "\n",
    "# Import numpy\n",
    "import numpy as np\n",
    "\n",
    "# Calculate the BMI: bmi\n",
    "np_height_m = np.array(height_in) * 0.0254\n",
    "np_weight_kg = np.array(weight_lb) * 0.453592\n",
    "bmi = np_weight_kg / np_height_m ** 2\n",
    "\n",
    "# Create the light array\n",
    "light = bmi < 21\n",
    "\n",
    "# Print out light\n",
    "print(light)\n",
    "\n",
    "# Print out BMIs of all baseball players whose BMI is below 21\n",
    "print(bmi[light])"
   ]
  },
  {
   "cell_type": "markdown",
   "metadata": {},
   "source": [
    "### NumPy Side Effects"
   ]
  },
  {
   "cell_type": "code",
   "execution_count": 32,
   "metadata": {},
   "outputs": [
    {
     "name": "stdout",
     "output_type": "stream",
     "text": [
      "[ True  True  True]\n"
     ]
    }
   ],
   "source": [
    "print(np.array([True, 1, 2]) + np.array([3, 4, False]) == np.array([4, 3, 0]) + np.array([0, 2, 2]))"
   ]
  },
  {
   "cell_type": "markdown",
   "metadata": {},
   "source": [
    "### Subsetting NumPy Arrays"
   ]
  },
  {
   "cell_type": "code",
   "execution_count": 33,
   "metadata": {},
   "outputs": [
    {
     "name": "stdout",
     "output_type": "stream",
     "text": [
      "200\n",
      "[73 74 72 73 69 72 73 75 75 73 72]\n"
     ]
    }
   ],
   "source": [
    "# height and weight are available as a regular lists\n",
    "\n",
    "# Import numpy\n",
    "import numpy as np\n",
    "\n",
    "# Store weight and height lists as numpy arrays\n",
    "np_weight_lb = np.array(weight_lb)\n",
    "np_height_in = np.array(height_in)\n",
    "\n",
    "# Print out the weight at index 50\n",
    "print(np_weight_lb[50])\n",
    "\n",
    "# Print out sub-array of np_height_in: index 100 up to and including index 110\n",
    "print(np_height_in[100:111])"
   ]
  },
  {
   "cell_type": "markdown",
   "metadata": {},
   "source": [
    "### Your First 2D NumPy Array"
   ]
  },
  {
   "cell_type": "code",
   "execution_count": 34,
   "metadata": {},
   "outputs": [
    {
     "name": "stdout",
     "output_type": "stream",
     "text": [
      "<class 'numpy.ndarray'>\n",
      "(4, 2)\n"
     ]
    }
   ],
   "source": [
    "# Create baseball, a list of lists\n",
    "baseball = [[180, 78.4],\n",
    "            [215, 102.7],\n",
    "            [210, 98.5],\n",
    "            [188, 75.2]]\n",
    "\n",
    "# Import numpy\n",
    "import numpy as np\n",
    "\n",
    "# Create a 2D numpy array from baseball: np_baseball\n",
    "np_baseball = np.array(baseball)\n",
    "\n",
    "# Print out the type of np_baseball\n",
    "print(type(np_baseball))\n",
    "\n",
    "# Print out the shape of np_baseball\n",
    "print(np_baseball.shape)"
   ]
  },
  {
   "cell_type": "markdown",
   "metadata": {},
   "source": [
    "### Baseball data in 2D form"
   ]
  },
  {
   "cell_type": "code",
   "execution_count": 35,
   "metadata": {},
   "outputs": [
    {
     "name": "stdout",
     "output_type": "stream",
     "text": [
      "(1015, 2)\n"
     ]
    }
   ],
   "source": [
    "# baseball is available as a regular list of lists\n",
    "baseball = [[74, 180], [74, 215], [72, 210], [72, 210], [73, 188], [69, 176], [69, 209], [71, 200], [76, 231], [71, 180], [73, 188], [73, 180], [74, 185], [74, 160], [69, 180], [70, 185], [73, 189], [75, 185], [78, 219], [79, 230], [76, 205], [74, 230], [76, 195], [72, 180], [71, 192], [75, 225], [77, 203], [74, 195], [73, 182], [74, 188], [78, 200], [73, 180], [75, 200], [73, 200], [75, 245], [75, 240], [74, 215], [69, 185], [71, 175], [74, 199], [73, 200], [73, 215], [76, 200], [74, 205], [74, 206], [70, 186], [72, 188], [77, 220], [74, 210], [70, 195], [73, 200], [75, 200], [76, 212], [76, 224], [78, 210], [74, 205], [74, 220], [76, 195], [77, 200], [81, 260], [78, 228], [75, 270], [77, 200], [75, 210], [76, 190], [74, 220], [72, 180], [72, 205], [75, 210], [73, 220], [73, 211], [73, 200], [70, 180], [70, 190], [70, 170], [76, 230], [68, 155], [71, 185], [72, 185], [75, 200], [75, 225], [75, 225], [75, 220], [68, 160], [74, 205], [78, 235], [71, 250], [73, 210], [76, 190], [74, 160], [74, 200], [79, 205], [75, 222], [73, 195], [76, 205], [74, 220], [74, 220], [73, 170], [72, 185], [74, 195], [73, 220], [74, 230], [72, 180], [73, 220], [69, 180], [72, 180], [73, 170], [75, 210], [75, 215], [73, 200], [72, 213], [72, 180], [76, 192], [74, 235], [72, 185], [77, 235], [74, 210], [77, 222], [75, 210], [76, 230], [80, 220], [74, 180], [74, 190], [75, 200], [78, 210], [73, 194], [73, 180], [74, 190], [75, 240], [76, 200], [71, 198], [73, 200], [74, 195], [76, 210], [76, 220], [74, 190], [73, 210], [74, 225], [70, 180], [72, 185], [73, 170], [73, 185], [73, 185], [73, 180], [71, 178], [74, 175], [74, 200], [72, 204], [74, 211], [71, 190], [74, 210], [73, 190], [75, 190], [75, 185], [79, 290], [73, 175], [75, 185], [76, 200], [74, 220], [76, 170], [78, 220], [74, 190], [76, 220], [72, 205], [74, 200], [76, 250], [74, 225], [75, 215], [78, 210], [75, 215], [72, 195], [74, 200], [72, 194], [74, 220], [70, 180], [71, 180], [70, 170], [75, 195], [71, 180], [71, 170], [73, 206], [72, 205], [71, 200], [73, 225], [72, 201], [75, 225], [74, 233], [74, 180], [75, 225], [73, 180], [77, 220], [73, 180], [76, 237], [75, 215], [74, 190], [76, 235], [75, 190], [73, 180], [71, 165], [76, 195], [75, 200], [72, 190], [71, 190], [77, 185], [73, 185], [74, 205], [71, 190], [72, 205], [74, 206], [75, 220], [73, 208], [72, 170], [75, 195], [75, 210], [74, 190], [72, 211], [74, 230], [71, 170], [70, 185], [74, 185], [77, 241], [77, 225], [75, 210], [75, 175], [78, 230], [75, 200], [76, 215], [73, 198], [75, 226], [75, 278], [79, 215], [77, 230], [76, 240], [71, 184], [75, 219], [74, 170], [69, 218], [71, 190], [76, 225], [72, 220], [72, 176], [70, 190], [72, 197], [73, 204], [71, 167], [72, 180], [71, 195], [73, 220], [72, 215], [73, 185], [74, 190], [74, 205], [72, 205], [75, 200], [74, 210], [74, 215], [77, 200], [75, 205], [73, 211], [72, 190], [71, 208], [74, 200], [77, 210], [75, 232], [75, 230], [75, 210], [78, 220], [78, 210], [74, 202], [76, 212], [78, 225], [76, 170], [70, 190], [72, 200], [80, 237], [74, 220], [74, 170], [71, 193], [70, 190], [72, 150], [71, 220], [74, 200], [71, 190], [72, 185], [71, 185], [74, 200], [69, 172], [76, 220], [75, 225], [75, 190], [76, 195], [73, 219], [76, 190], [73, 197], [77, 200], [73, 195], [72, 210], [72, 177], [77, 220], [77, 235], [71, 180], [74, 195], [74, 195], [73, 190], [78, 230], [75, 190], [73, 200], [70, 190], [74, 190], [72, 200], [73, 200], [73, 184], [75, 200], [75, 180], [74, 219], [76, 187], [73, 200], [74, 220], [75, 205], [75, 190], [72, 170], [73, 160], [73, 215], [72, 175], [74, 205], [78, 200], [76, 214], [73, 200], [74, 190], [75, 180], [70, 205], [75, 220], [71, 190], [72, 215], [78, 235], [75, 191], [73, 200], [73, 181], [71, 200], [75, 210], [77, 240], [72, 185], [69, 165], [73, 190], [74, 185], [72, 175], [70, 155], [75, 210], [70, 170], [72, 175], [72, 220], [74, 210], [73, 205], [74, 200], [76, 205], [75, 195], [80, 240], [72, 150], [75, 200], [73, 215], [74, 202], [74, 200], [73, 190], [75, 205], [75, 190], [71, 160], [73, 215], [75, 185], [74, 200], [74, 190], [72, 210], [74, 185], [74, 220], [74, 190], [73, 202], [76, 205], [75, 220], [72, 175], [73, 160], [73, 190], [73, 200], [72, 229], [72, 206], [72, 220], [72, 180], [71, 195], [75, 175], [75, 188], [74, 230], [73, 190], [75, 200], [79, 190], [74, 219], [76, 235], [73, 180], [74, 180], [74, 180], [72, 200], [74, 234], [74, 185], [75, 220], [78, 223], [74, 200], [74, 210], [74, 200], [77, 210], [70, 190], [73, 177], [74, 227], [73, 180], [71, 195], [75, 199], [71, 175], [72, 185], [77, 240], [74, 210], [70, 180], [77, 194], [73, 225], [72, 180], [76, 205], [71, 193], [76, 230], [78, 230], [75, 220], [73, 200], [78, 249], [74, 190], [79, 208], [75, 245], [76, 250], [72, 160], [75, 192], [75, 220], [70, 170], [72, 197], [70, 155], [74, 190], [71, 200], [76, 220], [73, 210], [76, 228], [71, 190], [69, 160], [72, 184], [72, 180], [69, 180], [73, 200], [69, 176], [73, 160], [74, 222], [74, 211], [72, 195], [71, 200], [72, 175], [72, 206], [76, 240], [76, 185], [76, 260], [74, 185], [76, 221], [75, 205], [71, 200], [72, 170], [71, 201], [73, 205], [75, 185], [76, 205], [75, 245], [71, 220], [75, 210], [74, 220], [72, 185], [73, 175], [73, 170], [73, 180], [73, 200], [76, 210], [72, 175], [76, 220], [73, 206], [73, 180], [73, 210], [75, 195], [75, 200], [77, 200], [73, 164], [72, 180], [75, 220], [70, 195], [74, 205], [72, 170], [80, 240], [71, 210], [71, 195], [74, 200], [74, 205], [73, 192], [75, 190], [76, 170], [73, 240], [77, 200], [72, 205], [73, 175], [77, 250], [76, 220], [71, 224], [75, 210], [73, 195], [74, 180], [77, 245], [71, 175], [72, 180], [73, 215], [69, 175], [73, 180], [70, 195], [74, 230], [76, 230], [73, 205], [73, 215], [75, 195], [73, 180], [79, 205], [74, 180], [73, 190], [74, 180], [77, 190], [75, 190], [74, 220], [73, 210], [77, 255], [73, 190], [77, 230], [74, 200], [74, 205], [73, 210], [77, 225], [74, 215], [77, 220], [75, 205], [77, 200], [75, 220], [71, 197], [74, 225], [70, 187], [79, 245], [72, 185], [72, 185], [70, 175], [74, 200], [74, 180], [72, 188], [73, 225], [72, 200], [74, 210], [74, 245], [76, 213], [82, 231], [74, 165], [74, 228], [70, 210], [73, 250], [73, 191], [74, 190], [77, 200], [72, 215], [76, 254], [73, 232], [73, 180], [72, 215], [74, 220], [74, 180], [71, 200], [72, 170], [75, 195], [74, 210], [74, 200], [77, 220], [70, 165], [71, 180], [73, 200], [76, 200], [71, 170], [75, 224], [74, 220], [72, 180], [76, 198], [79, 240], [76, 239], [73, 185], [76, 210], [78, 220], [75, 200], [76, 195], [72, 220], [72, 230], [73, 170], [73, 220], [75, 230], [71, 165], [76, 205], [70, 192], [75, 210], [74, 205], [75, 200], [73, 210], [71, 185], [71, 195], [72, 202], [73, 205], [73, 195], [72, 180], [69, 200], [73, 185], [78, 240], [71, 185], [73, 220], [75, 205], [76, 205], [70, 180], [74, 201], [77, 190], [75, 208], [79, 240], [72, 180], [77, 230], [73, 195], [75, 215], [75, 190], [75, 195], [73, 215], [73, 215], [76, 220], [77, 220], [75, 230], [70, 195], [71, 190], [71, 195], [75, 209], [74, 204], [69, 170], [70, 185], [75, 205], [72, 175], [75, 210], [73, 190], [72, 180], [72, 180], [72, 160], [76, 235], [75, 200], [74, 210], [69, 180], [73, 190], [72, 197], [72, 203], [75, 205], [77, 170], [76, 200], [80, 250], [77, 200], [76, 220], [79, 200], [71, 190], [75, 170], [73, 190], [76, 220], [77, 215], [73, 206], [76, 215], [70, 185], [75, 235], [73, 188], [75, 230], [70, 195], [69, 168], [71, 190], [72, 160], [72, 200], [73, 200], [70, 189], [70, 180], [73, 190], [76, 200], [75, 220], [72, 187], [73, 240], [79, 190], [71, 180], [72, 185], [74, 210], [74, 220], [74, 219], [72, 190], [76, 193], [76, 175], [72, 180], [72, 215], [71, 210], [72, 200], [72, 190], [70, 185], [77, 220], [74, 170], [72, 195], [76, 205], [71, 195], [76, 210], [71, 190], [73, 190], [70, 180], [73, 220], [73, 190], [72, 186], [71, 185], [71, 190], [71, 180], [72, 190], [72, 170], [74, 210], [74, 240], [74, 220], [71, 180], [72, 210], [75, 210], [72, 195], [71, 160], [72, 180], [72, 205], [72, 200], [72, 185], [74, 245], [74, 190], [77, 210], [75, 200], [73, 200], [75, 222], [73, 215], [76, 240], [72, 170], [77, 220], [75, 156], [72, 190], [71, 202], [71, 221], [75, 200], [72, 190], [73, 210], [73, 190], [71, 200], [70, 165], [75, 190], [71, 185], [76, 230], [73, 208], [68, 209], [71, 175], [72, 180], [74, 200], [77, 205], [72, 200], [76, 250], [78, 210], [81, 230], [72, 244], [73, 202], [76, 240], [72, 200], [72, 215], [74, 177], [76, 210], [73, 170], [76, 215], [75, 217], [70, 198], [71, 200], [74, 220], [72, 170], [73, 200], [76, 230], [76, 231], [73, 183], [71, 192], [68, 167], [71, 190], [71, 180], [74, 180], [77, 215], [69, 160], [72, 205], [76, 223], [75, 175], [76, 170], [75, 190], [76, 240], [72, 175], [74, 230], [76, 223], [74, 196], [72, 167], [75, 195], [78, 190], [77, 250], [70, 190], [72, 190], [79, 190], [74, 170], [71, 160], [68, 150], [77, 225], [75, 220], [71, 209], [72, 210], [70, 176], [72, 260], [72, 195], [73, 190], [72, 184], [74, 180], [72, 195], [72, 195], [75, 219], [72, 225], [73, 212], [74, 202], [72, 185], [78, 200], [75, 209], [72, 200], [74, 195], [75, 228], [75, 210], [76, 190], [74, 212], [74, 190], [73, 218], [74, 220], [71, 190], [74, 235], [75, 210], [76, 200], [74, 188], [76, 210], [76, 235], [73, 188], [75, 215], [75, 216], [74, 220], [68, 180], [72, 185], [75, 200], [71, 210], [70, 220], [72, 185], [73, 231], [72, 210], [75, 195], [74, 200], [70, 205], [76, 200], [71, 190], [82, 250], [72, 185], [73, 180], [74, 170], [71, 180], [75, 208], [77, 235], [72, 215], [74, 244], [72, 220], [73, 185], [78, 230], [77, 190], [73, 200], [73, 180], [73, 190], [73, 196], [73, 180], [76, 230], [75, 224], [70, 160], [73, 178], [72, 205], [73, 185], [75, 210], [74, 180], [73, 190], [73, 200], [76, 257], [73, 190], [75, 220], [70, 165], [77, 205], [72, 200], [77, 208], [74, 185], [75, 215], [75, 170], [75, 235], [75, 210], [72, 170], [74, 180], [71, 170], [76, 190], [71, 150], [75, 230], [76, 203], [83, 260], [75, 246], [74, 186], [76, 210], [72, 198], [72, 210], [75, 215], [75, 180], [72, 200], [77, 245], [73, 200], [72, 192], [70, 192], [74, 200], [72, 192], [74, 205], [72, 190], [71, 186], [70, 170], [71, 197], [76, 219], [74, 200], [76, 220], [74, 207], [74, 225], [74, 207], [75, 212], [75, 225], [71, 170], [71, 190], [74, 210], [77, 230], [71, 210], [74, 200], [75, 238], [77, 234], [76, 222], [74, 200], [76, 190], [72, 170], [71, 220], [72, 223], [75, 210], [73, 215], [68, 196], [72, 175], [69, 175], [73, 189], [73, 205], [75, 210], [70, 180], [70, 180], [74, 197], [75, 220], [74, 228], [74, 190], [73, 204], [74, 165], [75, 216], [77, 220], [73, 208], [74, 210], [76, 215], [74, 195], [75, 200], [73, 215], [76, 229], [78, 240], [75, 207], [73, 205], [77, 208], [74, 185], [72, 190], [74, 170], [72, 208], [71, 225], [73, 190], [75, 225], [73, 185], [67, 180], [67, 165], [76, 240], [74, 220], [73, 212], [70, 163], [75, 215], [70, 175], [72, 205], [77, 210], [79, 205], [78, 208], [74, 215], [75, 180], [75, 200], [78, 230], [76, 211], [75, 230], [69, 190], [75, 220], [72, 180], [75, 205], [73, 190], [74, 180], [75, 205], [75, 190], [73, 195]]\n",
    "# Import numpy package\n",
    "import numpy as np\n",
    "\n",
    "# Create a 2D numpy array from baseball: np_baseball\n",
    "np_baseball = np.array(baseball)\n",
    "\n",
    "# Print out the shape of np_baseball\n",
    "print(np_baseball.shape)"
   ]
  },
  {
   "cell_type": "markdown",
   "metadata": {},
   "source": [
    "### Subsetting 2D NumPy Arrays"
   ]
  },
  {
   "cell_type": "code",
   "execution_count": 36,
   "metadata": {},
   "outputs": [
    {
     "name": "stdout",
     "output_type": "stream",
     "text": [
      "[ 70 195]\n",
      "[180 215 210 ... 205 190 195]\n",
      "75\n"
     ]
    }
   ],
   "source": [
    "# baseball is available as a regular list of lists\n",
    "\n",
    "# Import numpy package\n",
    "import numpy as np\n",
    "\n",
    "# Create np_baseball (2 cols)\n",
    "np_baseball = np.array(baseball)\n",
    "\n",
    "# Print out the 50th row of np_baseball\n",
    "print(np_baseball[49,:])\n",
    "\n",
    "# Select the entire second column of np_baseball: np_weight_lb\n",
    "np_weight_lb = np_baseball[:,1]\n",
    "print(np_weight_lb)\n",
    "# Print out height of 124th player\n",
    "print(np_baseball[123,0])"
   ]
  },
  {
   "cell_type": "markdown",
   "metadata": {},
   "source": [
    "### 2D Arithmetic"
   ]
  },
  {
   "cell_type": "code",
   "execution_count": 37,
   "metadata": {
    "scrolled": true
   },
   "outputs": [
    {
     "name": "stdout",
     "output_type": "stream",
     "text": [
      "[[  2.4607118  -22.32449796   2.        ]\n",
      " [  2.05228504  32.19464618   2.        ]\n",
      " [  2.3088456   10.16335282   2.        ]\n",
      " ...\n",
      " [  2.1869985    8.47781556   2.        ]\n",
      " [  1.64571338 -35.5640007    2.        ]\n",
      " [  1.98968446  16.28805422   2.        ]]\n",
      "[[ 0.03125104 -5.06310684  1.        ]\n",
      " [ 0.02606402  7.30161698  1.        ]\n",
      " [ 0.02932234  2.30500777  1.        ]\n",
      " ...\n",
      " [ 0.02777488  1.92273466  1.        ]\n",
      " [ 0.02090056 -8.0657731   1.        ]\n",
      " [ 0.02526899  3.69406554  1.        ]]\n"
     ]
    }
   ],
   "source": [
    "# baseball is available as a regular list of lists\n",
    "# updated is available as 2D numpy array via print(str(list(updated)))\n",
    "baseball = [[  1.2303559 , -11.16224898,   1       ], [  1.02614252,  16.09732309,   1       ], [ 1.1544228 ,  5.08167641,  1       ], [ 0.64427532, -5.09538071,  1       ], [ 1.00590086,  2.24342718,  1       ], [  0.97953547,  12.19841763,   1       ], [  0.62874324,  13.72324216,   1       ], [ 1.27075194, -8.87946313,  1       ], [  0.47655945, -10.82495536,   1       ], [ 0.91699376, -7.01116249,  1       ], [ 1.17179326,  1.19946614,  1       ], [  1.14509104, -12.00385685,   1       ], [  1.20684945, -13.29830645,   1       ], [ 1.03436155,  3.01324251,  1       ], [  0.87747454,  10.51779503,   1       ], [ 0.9813308 , -1.55666485,  1       ], [ 1.03051228,  4.47971582,  1       ], [  1.21042271, -19.04502745,   1       ], [ 1.34612414,  6.74418894,  1       ], [ 0.97544726,  7.27211497,  1       ], [ 0.84711851,  0.02282715,  1       ], [ 0.82614864,  4.64024712,  1       ], [ 0.55364871, -2.94317618,  1       ], [  0.7556705 ,  11.14954986,   1       ], [  0.98519666, -25.69452386,   1       ], [ 0.86212637,  2.01882766,  1       ], [  0.71977578,  14.82388419,   1       ], [ 0.84475116,  5.92416221,  1       ], [ 0.99190473, -9.42474862,  1       ], [  1.04509915, -12.83900278,   1       ], [ 1.01190093, -6.61469619,  1       ], [  0.74433699, -14.12330423,   1       ], [ 0.85311961,  4.59921617,  1       ], [ 0.75942552,  8.024013  ,  1       ], [  0.58757035,  11.2257852 ,   1       ], [ 1.2422773 ,  7.85257416,  1       ], [ 0.98261494,  6.34371387,  1       ], [ 1.01614715,  5.40345796,  1       ], [ 1.18089923, -0.14617619,  1       ], [  1.17378685,  21.72939346,   1       ], [ 1.21762004, -5.59877709,  1       ], [ 1.33124703,  0.97491774,  1       ], [  0.95807979, -17.99017237,   1       ], [ 0.97402648,  3.14487561,  1       ], [ 1.06126875,  8.32652888,  1       ], [ 0.84786507,  7.83194047,  1       ], [  0.94290809, -11.87343847,   1       ], [ 0.7761381 , -9.22310373,  1       ], [ 0.76868428, -4.21309427,  1       ], [  0.78518765, -16.89546965,   1       ], [ 0.91584889, -5.96619357,  1       ], [  0.98453118, -14.67621393,   1       ], [ 1.10626605,  3.45103902,  1       ], [ 0.85310016,  0.56957706,  1       ], [ 1.12869803, -3.96011563,  1       ], [ 0.92851329, -1.23132496,  1       ], [  1.07512017,  17.29242921,   1       ], [  0.73591083,  17.72718063,   1       ], [ 0.98124189, -7.83222849,  1       ], [ 1.22849824, -2.41199106,  1       ], [ 0.96863267, -5.49584278,  1       ], [  0.8221164 , -20.26564754,   1       ], [ 1.35300136, -7.89083698,  1       ], [ 1.27588359, -4.07022942,  1       ], [ 1.12014611, -5.2543372 ,  1       ], [ 1.20086535, -4.35920475,  1       ], [  1.01474253,  10.75277435,   1       ], [ 1.30559742,  2.0157442 ,  1       ], [ 1.1145867 ,  9.13482984,  1       ], [ 0.98313856,  1.13273019,  1       ], [  1.28281453, -17.77041074,   1       ], [  0.78062742, -12.66653167,   1       ], [ 1.24417229,  6.09616799,  1       ], [  0.90223755, -14.35217863,   1       ], [  1.00096375, -12.10005769,   1       ], [  1.37301747, -11.55344116,   1       ], [ 1.23565502, -4.91764512,  1       ], [ 1.36885262,  0.22427392,  1       ], [ 0.80401145, -4.68100488,  1       ], [  0.89983467, -15.48693644,   1       ], [ 0.78190308,  2.59105269,  1       ], [ 1.04114399,  2.64632863,  1       ], [ 1.29785513,  0.89285044,  1       ], [ 1.07116337,  1.34762494,  1       ], [ 1.13793746,  6.38742629,  1       ], [  1.21981376,  15.21864296,   1       ], [  0.9066118 ,  14.19827444,   1       ], [  1.16829089,  17.30703317,   1       ], [ 1.10037453,  3.96675508,  1       ], [ 1.15409938,  9.59207164,  1       ], [  1.30192549,  13.23825885,   1       ], [ 0.75091708, -7.44871258,  1       ], [ 0.86204929, -1.06911035,  1       ], [ 1.57365214,  0.72424814,  1       ], [  1.32624369, -10.10044754,   1       ], [ 1.26514287,  7.93447934,  1       ], [ 1.01105831,  9.48770909,  1       ], [ 0.85591249, -5.69631504,  1       ], [ 0.96551322,  5.75500942,  1       ], [ 1.16848557, -9.01626266,  1       ], [ 1.01293558, -6.95968852,  1       ], [ 0.76396481, -4.18809722,  1       ], [  0.92989139, -14.40105702,   1       ], [ 1.18950323, -2.6229572 ,  1       ], [  0.97024912, -16.65344797,   1       ], [ 0.98959801, -7.11283119,  1       ], [ 1.1864806, -5.5277144,  1      ], [ 1.01864209, -8.0816326 ,  1       ], [ 0.96730766, -8.80011111,  1       ], [ 1.28034779,  3.85942772,  1       ], [ 0.51542346,  1.2050864 ,  1       ], [ 1.03332146, -4.9746867 ,  1       ], [ 0.95116564,  2.74427276,  1       ], [ 0.80992941, -2.14157409,  1       ], [  0.88300888, -22.2054922 ,   1       ], [  1.10549185, -12.94948227,   1       ], [ 0.77864148, -6.7059475 ,  1       ], [ 0.91717833,  0.06838626,  1       ], [  0.92911821,  12.85268788,   1       ], [  0.97089371, -12.26170374,   1       ], [ 1.19649132, -1.47529111,  1       ], [  1.16328581, -10.48086287,   1       ], [ 0.70973893,  4.54818041,  1       ], [ 0.8902844 , -0.20304616,  1       ], [  1.38702901,  10.68141371,   1       ], [ 1.08198633,  3.68343478,  1       ], [ 0.76563597, -3.63954289,  1       ], [  1.22937497, -12.80681632,   1       ], [ 1.4329826 , -1.01949975,  1       ], [  1.01237228,  27.34561475,   1       ], [  0.96411535, -10.98615136,   1       ], [ 1.00310698,  2.19956942,  1       ], [  1.17226982, -12.15920344,   1       ], [ 1.09358637,  9.79234201,  1       ], [ 1.16036905,  5.77730234,  1       ], [ 0.90695199, -1.0435948 ,  1       ], [  1.26638874, -13.39114654,   1       ], [ 1.04407613, -0.09631734,  1       ], [ 1.00529206,  6.00578038,  1       ], [ 0.85042798,  7.87816608,  1       ], [ 1.43911179, -7.07929758,  1       ], [  1.17875604, -19.30478334,   1       ], [ 0.87563349,  5.7531421 ,  1       ], [  1.0682169 , -12.95601962,   1       ], [ 0.92608922, -2.45039365,  1       ], [ 1.10738229,  0.0877411 ,  1       ], [ 1.31569805,  0.00248448,  1       ], [ 1.08509415,  6.04013293,  1       ], [ 0.96742556, -8.32530035,  1       ], [ 0.88794377, -7.8013167 ,  1       ], [ 1.40225358, -4.97747379,  1       ], [  0.83866615, -10.11214262,   1       ], [ 1.07986872,  9.94275024,  1       ], [ 1.18274127,  6.23527473,  1       ], [  0.88380289,  12.55163039,   1       ], [  1.18472791,  10.35862893,   1       ], [  1.06628647,  10.76176105,   1       ], [ 1.09895831, -0.77904857,  1       ], [ 0.78175751, -6.08810116,  1       ], [ 0.84503197,  4.1065555 ,  1       ], [ 1.1007033 , -8.36011415,  1       ], [  1.09720842,  15.570857  ,   1       ], [ 1.51228454,  1.62084372,  1       ], [  0.91541711, -22.25906038,   1       ], [  1.41187694, -18.28151229,   1       ], [ 0.88862395, -6.43936562,  1       ], [  0.90212272, -20.07686894,   1       ], [  0.914639  ,  10.71764799,   1       ], [ 1.20891164,  5.87631471,  1       ], [ 1.12670523, -6.16196302,  1       ], [  1.11083364, -18.74139552,   1       ], [ 0.79803357,  6.11685464,  1       ], [  1.34366323, -11.92192851,   1       ], [  1.1613484 ,  10.32483656,   1       ], [ 1.25420453, -0.75979067,  1       ], [  0.89974424,  12.65014985,   1       ], [ 1.14383365,  0.05346449,  1       ], [  0.85582531, -23.26471982,   1       ], [ 1.22296211, -0.79851932,  1       ], [ 0.92172362,  1.45011203,  1       ], [  0.97630958, -15.72073281,   1       ], [ 0.96714742, -3.39598454,  1       ], [ 0.96694393, -5.80002664,  1       ], [ 0.98553612,  6.86117639,  1       ], [ 1.20361515, -1.73314575,  1       ], [ 0.81939825,  0.28314361,  1       ], [ 1.12256634,  0.71833194,  1       ], [  0.78462201,  12.4142567 ,   1       ], [  0.92492151,  21.24460277,   1       ], [ 0.93624634,  2.49080332,  1       ], [  1.08455248,  24.64452526,   1       ], [  0.88322895, -18.10540943,   1       ], [  1.06422551, -14.43391341,   1       ], [ 0.78134569, -0.84436292,  1       ], [  1.18269706,  13.6630874 ,   1       ], [ 0.80032464, -3.45137707,  1       ], [ 0.81315039, -1.22527305,  1       ], [ 1.19148807, -3.37761255,  1       ], [  1.05022766,  14.64763329,   1       ], [  0.7853969 , -19.86802645,   1       ], [ 1.16151403, -5.07562914,  1       ], [ 0.87865037,  3.66742523,  1       ], [  1.1960878 , -11.03777299,   1       ], [ 1.18155398, -3.50606827,  1       ], [  0.83995949,  11.39355653,   1       ], [ 1.22276108, -1.71092659,  1       ], [ 1.2120807 ,  5.26035165,  1       ], [ 0.98242196,  5.2630116 ,  1       ], [ 0.83162877, -6.24054635,  1       ], [ 0.95552986, -9.87448955,  1       ], [  0.64265518,  12.33744252,   1       ], [ 0.9880861 ,  5.42622509,  1       ], [ 0.96092336,  0.86919478,  1       ], [ 1.16040929, -0.77678216,  1       ], [ 0.87595706, -0.77123156,  1       ], [ 1.18175238,  6.59684037,  1       ], [ 1.29473351, -4.37023665,  1       ], [ 0.93011933, -6.43018153,  1       ], [ 0.61975792, -4.0879551 ,  1       ], [ 0.94444698,  0.00580681,  1       ], [ 0.98265449, -8.54508981,  1       ], [  1.09380186,  12.80065222,   1       ], [ 0.5073242,  8.6524341,  1      ], [  1.0443085 ,  20.72875806,   1       ], [  1.03884026, -19.92399393,   1       ], [ 1.05767037,  0.0698605 ,  1       ], [ 0.91277168, -9.83247421,  1       ], [ 1.46795881,  0.75670525,  1       ], [ 0.8906995 , -7.40619422,  1       ], [ 1.09670271,  8.71434036,  1       ], [  0.97619701,  13.44097556,   1       ], [ 1.28303922,  1.72502172,  1       ], [ 1.07354148, -0.30222787,  1       ], [  1.10406628, -15.5364676 ,   1       ], [  0.822913  , -13.79766914,   1       ], [  0.69587592,  18.2815534 ,   1       ], [ 0.78999612, -8.28777759,  1       ], [ 1.33529029,  0.52385502,  1       ], [  1.37724928, -31.54322454,   1       ], [ 1.13188395, -0.18754505,  1       ], [ 0.98134509, -5.96598135,  1       ], [ 0.88583827,  6.49574896,  1       ], [ 1.10544746, -4.73772946,  1       ], [ 0.73780056, -3.11040858,  1       ], [ 1.1580096 ,  5.15995306,  1       ], [ 0.95485011,  6.13379149,  1       ], [ 0.79394524,  0.27910148,  1       ], [ 1.28826526, -3.54865622,  1       ], [ 1.21116417, -3.37233767,  1       ], [ 0.71295279, -3.7469179 ,  1       ], [  1.10116658,  20.38713254,   1       ], [ 1.03101841, -7.64444368,  1       ], [ 1.23441898,  3.01095435,  1       ], [ 0.70936833,  3.52401185,  1       ], [  0.77283688,  14.02982131,   1       ], [ 1.20491144,  9.2288063 ,  1       ], [ 0.74053294, -0.11857537,  1       ], [ 0.96795309, -5.88067911,  1       ], [ 1.30315386, -7.86659777,  1       ], [  1.14416698, -19.99825669,   1       ], [  1.24885026,  17.7151886 ,   1       ], [  0.79023356,  13.46209627,   1       ], [ 0.54322681, -0.69958376,  1       ], [  0.71678144,  25.84328917,   1       ], [ 0.99824521, -2.26647353,  1       ], [  1.055585  ,  17.56542186,   1       ], [  1.1639438, -13.176316 ,   1      ], [ 1.00447615,  2.10534198,  1       ], [ 0.56077009, -7.29722999,  1       ], [ 0.97293967,  3.87254052,  1       ], [ 0.89765065,  1.62259374,  1       ], [ 1.42819133,  7.20008101,  1       ], [ 0.82130845,  4.33466166,  1       ], [  0.79484302,  11.29230733,   1       ], [  1.19564207,  21.56607751,   1       ], [ 0.84535564,  0.10610917,  1       ], [  0.99649798, -10.97723011,   1       ], [  0.98737825,  12.3134939 ,   1       ], [  0.70729418,  15.6637214 ,   1       ], [ 0.9441376 , -4.61763512,  1       ], [ 0.72770723,  2.08694754,  1       ], [ 0.92372697,  1.02699816,  1       ], [ 0.94922006,  2.22545587,  1       ], [ 0.9423793 ,  4.77229513,  1       ], [ 0.92471064,  1.17688147,  1       ], [ 0.92722967,  9.32112917,  1       ], [ 0.73841593,  6.1566835 ,  1       ], [  0.83576232, -11.1713015 ,   1       ], [  1.13774662, -19.81980531,   1       ], [ 1.0609771 , -1.58378078,  1       ], [ 1.02104879, -9.75009952,  1       ], [  0.8930701 ,  10.40415945,   1       ], [ 1.1812981 , -7.05787665,  1       ], [ 0.73427473, -9.32202962,  1       ], [  1.0217231 , -11.74475119,   1       ], [  0.75409872,  16.0200506 ,   1       ], [ 1.37437533,  4.61187946,  1       ], [ 1.2782781 , -6.16769799,  1       ], [  0.80802949,  20.24703072,   1       ], [ 1.10672134,  1.85224203,  1       ], [ 0.75453538, -0.87912144,  1       ], [ 0.68532478,  4.04549016,  1       ], [ 0.78291243,  1.73467977,  1       ], [ 1.05160066,  5.58308777,  1       ], [ 1.25612247,  6.20099419,  1       ], [ 1.14419009,  6.02907542,  1       ], [ 0.64354272, -3.88433134,  1       ], [ 1.12142621,  5.65503384,  1       ], [ 0.70272522,  9.99907525,  1       ], [ 1.0961204 ,  6.46291253,  1       ], [ 0.98670667, -5.93614663,  1       ], [ 0.81871771,  7.40393907,  1       ], [ 1.08913462, -5.89520247,  1       ], [  0.67354991, -15.72611319,   1       ], [ 1.30101316,  6.78682325,  1       ], [  0.66534569,  10.98917369,   1       ], [ 0.64720789, -5.95154512,  1       ], [ 1.10791135,  2.66077474,  1       ], [ 1.18454114,  4.69574222,  1       ], [ 0.83419872, -2.29530523,  1       ], [ 0.99835304,  2.10669295,  1       ], [ 0.97153784,  1.33361864,  1       ], [ 0.82671949,  0.34505783,  1       ], [  1.30146475,  13.84533457,   1       ], [ 1.25415933, -5.74056173,  1       ], [ 1.2730586 ,  8.94552176,  1       ], [  0.90954177, -15.47539306,   1       ], [ 0.70278906,  0.96125447,  1       ], [ 0.87395466, -5.16482264,  1       ], [ 1.16908602,  2.80413027,  1       ], [  1.03912684, -10.70928719,   1       ], [  0.88669291,  10.05584679,   1       ], [ 0.76260699, -8.7758038 ,  1       ], [ 0.87031071,  6.46064216,  1       ], [ 1.04477418,  5.15460079,  1       ], [  1.0875493 , -10.62241559,   1       ], [  0.83386738, -15.33892231,   1       ], [ 1.16215216, -5.10819977,  1       ], [ 1.0054793 , -1.82098198,  1       ], [ 0.75844194, -2.4415105 ,  1       ], [  0.93329968,  11.77057557,   1       ], [ 0.92372085,  0.64863651,  1       ], [ 1.15454426, -6.84924339,  1       ], [  0.97070677, -11.91485235,   1       ], [  0.72110165, -13.37999778,   1       ], [ 1.1786155 ,  3.59578788,  1       ], [ 1.18709659,  3.1095577 ,  1       ], [ 1.03373832, -7.31619133,  1       ], [  0.80074611, -13.84098074,   1       ], [ 0.71741433, -2.89096045,  1       ], [  1.04251668, -12.8502816 ,   1       ], [ 0.68421015,  8.60396458,  1       ], [ 0.99297664,  5.22409493,  1       ], [ 1.04652662, -6.66473273,  1       ], [  0.51606618,  10.94908664,   1       ], [ 0.94702751,  0.1747297 ,  1       ], [  1.03613273, -11.70434385,   1       ], [ 0.99966687, -6.53842605,  1       ], [ 0.74860045,  4.94152504,  1       ], [ 0.89176616,  9.871648  ,  1       ], [ 1.03841706, -3.68670426,  1       ], [ 1.07849177, -0.74975432,  1       ], [ 1.00900045,  8.79151881,  1       ], [ 0.42367859,  7.09085715,  1       ], [ 1.26468514,  7.44263733,  1       ], [ 1.0758365 ,  4.08441519,  1       ], [  1.00886759,  11.02517735,   1       ], [  0.76377341, -11.76432768,   1       ], [  1.10805559,  12.31695721,   1       ], [ 0.70570231,  5.9509547 ,  1       ], [ 1.39712548, -1.29203926,  1       ], [ 0.95159159, -3.80577044,  1       ], [ 1.1006803 ,  2.15622773,  1       ], [ 1.55218141,  2.02229264,  1       ], [ 0.90864049, -1.12847277,  1       ], [ 0.96922243, -8.49430692,  1       ], [  0.85111814, -22.49819861,   1       ], [ 0.84592201,  5.56157857,  1       ], [ 0.86075936,  5.2766625 ,  1       ], [ 0.99114169,  1.2103746 ,  1       ], [  1.17100546, -16.73324598,   1       ], [ 1.30167279,  5.30543094,  1       ], [ 1.1224347,  6.5704791,  1      ], [ 1.28760186,  9.31387707,  1       ], [ 0.95353455,  5.62765545,  1       ], [ 1.23226025, -3.34361968,  1       ], [ 0.95082084, -1.53135163,  1       ], [ 0.87116282, -0.03232178,  1       ], [ 1.03926633, -1.71739963,  1       ], [ 1.35266074, -2.97273227,  1       ], [ 0.69829668,  6.99433823,  1       ], [  0.97068573,  12.81487423,   1       ], [ 1.08086885,  0.19955414,  1       ], [ 1.53633936,  3.24962514,  1       ], [  1.24882668, -15.14797521,   1       ], [  1.15889799,  21.41389214,   1       ], [ 0.96171718, -5.03285282,  1       ], [  0.85421804,  10.95855448,   1       ], [ 0.73504065,  1.48880096,  1       ], [ 1.09305687, -6.46621685,  1       ], [ 0.98932994,  8.94953783,  1       ], [  0.97293899, -11.19232561,   1       ], [ 0.96610713,  5.93202339,  1       ], [  0.9684787 ,  10.59497087,   1       ], [ 0.59985774,  5.74298658,  1       ], [ 1.03812225, -3.65485916,  1       ], [ 0.7853144 , -3.66275037,  1       ], [  1.12374247,  13.05814611,   1       ], [ 1.43528171,  1.15092519,  1       ], [  1.03905474, -14.90236815,   1       ], [ 0.94336819,  8.1128994 ,  1       ], [  1.22167285, -10.90330997,   1       ], [ 1.14785   , -0.81099452,  1       ], [  0.85366197,  16.49827867,   1       ], [  1.00295192,  34.64496287,   1       ], [ 1.31787235,  3.1586076 ,  1       ], [  1.02283805,  16.54967229,   1       ], [ 1.03147671, -5.26879864,  1       ], [  0.76581066,  12.84096293,   1       ], [ 0.7779436 ,  8.32536381,  1       ], [ 1.0798399 , -2.11012045,  1       ], [ 1.31036948, -1.11182074,  1       ], [ 1.29808461, -2.77349267,  1       ], [  0.79037494,  13.45051825,   1       ], [  1.00276705, -23.48980714,   1       ], [  0.91357375, -13.63941683,   1       ], [ 1.14830248, -1.76295417,  1       ], [ 1.00282954,  2.70568222,  1       ], [ 0.86250319, -1.95212069,  1       ], [ 1.013751  , -6.61194582,  1       ], [ 1.03873425,  5.50732232,  1       ], [ 0.53644585, -0.78191657,  1       ], [ 1.17205291, -8.45218098,  1       ], [ 1.08849826,  5.05257524,  1       ], [ 1.14303239, -2.74565719,  1       ], [ 1.37784077,  4.05637895,  1       ], [ 1.36957632,  2.09262988,  1       ], [ 1.51399103,  1.05189754,  1       ], [  1.11131264, -22.0473087 ,   1       ], [ 1.27923097,  0.6030637 ,  1       ], [ 1.24418468,  9.59976314,  1       ], [ 0.91240997, -7.11491468,  1       ], [ 0.81489118, -1.28409914,  1       ], [ 0.87702826, -1.81363266,  1       ], [ 1.06621881, -9.53265987,  1       ], [ 1.49001324, -6.5359022 ,  1       ], [  1.2427316 ,  24.85268836,   1       ], [ 1.04684969, -6.12866558,  1       ], [ 0.5662154 ,  4.54666387,  1       ], [ 1.02819736, -4.39118008,  1       ], [ 1.30421113,  1.24177551,  1       ], [ 0.97918474,  6.24386281,  1       ], [  0.76810722, -12.39610445,   1       ], [ 0.99780856, -7.01958196,  1       ], [  1.14046573, -19.70140194,   1       ], [  1.31457237, -15.44526188,   1       ], [ 0.97608291, -9.13807992,  1       ], [  1.0128414 ,  17.14058505,   1       ], [  1.21740653,  20.80372288,   1       ], [  1.00810857, -13.31309207,   1       ], [ 1.03943815, -0.59654041,  1       ], [ 1.18292977,  0.47785865,  1       ], [ 0.80464358,  9.56112976,  1       ], [ 0.95584119, -0.48843893,  1       ], [ 0.82503946, -8.38533241,  1       ], [  0.89614671, -29.82282151,   1       ], [  0.76594958, -19.64878219,   1       ], [ 1.03934896,  1.14893191,  1       ], [  1.22280375,  11.63702369,   1       ], [  1.09563549,  11.47512122,   1       ], [ 0.93841915,  3.59955939,  1       ], [  1.03103115, -16.06906354,   1       ], [  1.0500736 ,  14.15073059,   1       ], [  1.01598551, -11.94055581,   1       ], [ 0.8568628 , -8.86746421,  1       ], [  1.1512113 , -15.15063126,   1       ], [ 0.60594557, -0.41931958,  1       ], [  1.34381616,  14.16929568,   1       ], [ 0.865752 ,  5.5523679,  1      ], [ 1.09106874, -5.96263794,  1       ], [  1.18212183,  10.57420138,   1       ], [ 1.40215345,  9.30698523,  1       ], [  0.77952793,  15.29336073,   1       ], [ 1.15349391, -2.34436131,  1       ], [  1.26951459,  13.65202225,   1       ], [ 1.16575564, -1.7581552 ,  1       ], [  0.96368384, -22.65227552,   1       ], [ 0.86751036, -6.50307355,  1       ], [ 0.77050131,  3.06679982,  1       ], [ 1.0883783 ,  1.13843691,  1       ], [ 1.17540363,  9.28048228,  1       ], [ 1.09651453,  5.20236705,  1       ], [ 1.05237303, -3.74192536,  1       ], [  0.93107414, -35.21206538,   1       ], [ 1.61343854,  3.54308197,  1       ], [  1.09762609, -15.03719459,   1       ], [  1.13130137, -10.89877518,   1       ], [ 0.81714205, -8.81486561,  1       ], [  1.17050449,  14.16165615,   1       ], [  0.9722288 , -16.71262649,   1       ], [ 0.98674502,  2.92770215,  1       ], [  1.03989836,  15.3933276 ,   1       ], [ 1.21691486,  7.69787835,  1       ], [  0.87487015,  11.83086436,   1       ], [ 1.17151643,  1.19239058,  1       ], [ 0.76563512, -9.27565037,  1       ], [ 1.11509772,  0.51818013,  1       ], [  1.17636082,  17.88747232,   1       ], [ 1.08322013, -2.80880298,  1       ], [  1.20873349,  20.76323468,   1       ], [ 0.6902273 , -1.88912385,  1       ], [  1.05865809, -19.02778705,   1       ], [ 0.66820439, -6.155403  ,  1       ], [  1.06554183,  14.06449405,   1       ], [  1.17880724,  11.55304621,   1       ], [ 1.09920494, -1.92221728,  1       ], [ 0.79585212,  2.85738221,  1       ], [  0.88382816, -14.82086944,   1       ], [ 0.95450509,  4.85408721,  1       ], [ 0.5488583 , -0.46939842,  1       ], [  0.94406311,  16.42647536,   1       ], [ 0.7145557 ,  4.98530356,  1       ], [ 1.03069806, -7.87887865,  1       ], [  0.96047151, -10.5096112 ,   1       ], [ 0.78991282,  8.24211815,  1       ], [ 0.92776992,  3.62487535,  1       ], [ 0.72719147,  4.72589262,  1       ], [  0.95859185,  11.02765896,   1       ], [ 1.09339652, -7.45238865,  1       ], [ 1.2399866 ,  1.27954304,  1       ], [  0.90054838, -14.69665308,   1       ], [  0.92185672,  10.9596158 ,   1       ], [  1.03877884, -14.37977338,   1       ], [  1.21712993,  17.46210207,   1       ], [  0.99854825, -14.64760635,   1       ], [ 0.65089946, -0.84336472,  1       ], [ 1.1380791 , -1.50266345,  1       ], [ 0.99174148, -4.231056  ,  1       ], [ 1.32683519, -8.07916914,  1       ], [  1.13673325, -11.36742009,   1       ], [ 1.05864199, -9.19140063,  1       ], [  0.8212941 , -11.33209344,   1       ], [  0.87141781,  13.97359108,   1       ], [  0.94220245, -15.01822991,   1       ], [ 1.10558175,  8.72247172,  1       ], [ 0.89415329,  3.48581478,  1       ], [ 0.97874785,  0.04724697,  1       ], [ 0.94141423,  5.75699841,  1       ], [ 1.09488767, -2.95344327,  1       ], [ 0.83893633, -6.29659496,  1       ], [  0.86253551,  17.78507514,   1       ], [  0.99008129, -12.06669437,   1       ], [ 0.79058953, -7.65422179,  1       ], [  1.19487282, -12.94026043,   1       ], [  1.06841534,  27.09765151,   1       ], [  0.92929481, -11.85703612,   1       ], [ 0.83969176, -6.34221154,  1       ], [  1.53111371, -20.10468795,   1       ], [ 0.94482096, -6.60513306,  1       ], [ 1.04738517,  2.80848708,  1       ], [ 0.77281598, -5.88534891,  1       ], [ 0.68780344,  1.0415012 ,  1       ], [ 1.38930299, -3.69166132,  1       ], [ 0.70982345,  8.80982596,  1       ], [ 0.88762111, -4.30262939,  1       ], [ 0.95263296,  6.8898687 ,  1       ], [  0.79324434, -15.3292008 ,   1       ], [ 1.08616654,  8.19774983,  1       ], [  1.05053116,  10.5602157 ,   1       ], [  0.98030225,  10.01814168,   1       ], [ 0.85091403,  0.12276145,  1       ], [  0.80898073,  12.28276634,   1       ], [ 0.95238363, -0.59071497,  1       ], [ 0.90534167,  8.82677429,  1       ], [ 0.86911941,  3.81637772,  1       ], [ 0.8432487 ,  3.59828326,  1       ], [ 0.64557202, -3.81808969,  1       ], [ 1.06571671,  0.63360278,  1       ], [ 0.80574009, -5.90387075,  1       ], [ 1.15092807, -8.22861368,  1       ], [ 0.85983301, -5.88920606,  1       ], [ 0.60729069,  0.12327551,  1       ], [  0.86068999, -11.59070028,   1       ], [ 0.85885553, -2.60558168,  1       ], [ 0.95242344, -1.21738824,  1       ], [  1.2469052 , -13.37026255,   1       ], [  1.12910036, -27.09012367,   1       ], [ 1.34237667, -6.52373641,  1       ], [ 1.17850351, -3.87186046,  1       ], [  1.04190231, -16.35047672,   1       ], [  1.07120976, -18.34309732,   1       ], [  0.96837425, -11.93397366,   1       ], [ 0.91520347,  0.33519527,  1       ], [ 1.12158918,  1.07530279,  1       ], [  1.22635367,  14.74324592,   1       ], [  1.04599829,  13.49739817,   1       ], [  1.18056149, -16.23497574,   1       ], [ 1.10154815, -7.31876064,  1       ], [ 1.27910346,  4.24224912,  1       ], [ 1.0556853 ,  7.79754703,  1       ], [ 0.74162487,  8.32687391,  1       ], [ 1.06134853, -7.17945456,  1       ], [ 1.28264159, -4.84678028,  1       ], [ 1.13868585,  0.1432825 ,  1       ], [ 0.75740564, -8.7072825 ,  1       ], [ 1.10286004, -1.26749937,  1       ], [  1.10407127, -10.79335839,   1       ], [  1.27358663,  10.6799301 ,   1       ], [ 0.82907062,  2.07367224,  1       ], [  0.75935834, -27.34603132,   1       ], [ 1.21559108,  1.92497181,  1       ], [ 0.99804664,  2.12121452,  1       ], [  0.79901981,  10.59063023,   1       ], [ 1.31271221, -4.50166135,  1       ], [ 1.0888381 , -3.25973405,  1       ], [  1.00170661, -14.42314285,   1       ], [ 1.25330409,  6.99368742,  1       ], [ 1.37153985, -4.92014053,  1       ], [ 0.89622604,  5.60893236,  1       ], [  1.01578037, -21.47573735,   1       ], [ 1.24905597,  3.80230553,  1       ], [  0.79112116, -11.6046266 ,   1       ], [ 0.84667732,  9.64974017,  1       ], [ 1.16807303, -3.80398551,  1       ], [ 1.18981166, -4.56958697,  1       ], [ 0.87873754,  6.91159546,  1       ], [  1.06568382,  10.09626184,   1       ], [ 1.2242415 ,  8.05490123,  1       ], [  0.9797915 ,  14.33591989,   1       ], [ 1.08147564,  3.2066683 ,  1       ], [ 1.23100365, -2.61628299,  1       ], [ 1.18487157,  1.96264358,  1       ], [  1.18514135, -13.58569804,   1       ], [  1.06662911, -11.19852886,   1       ], [ 0.93330874, -8.76657661,  1       ], [  1.07916364, -21.36908792,   1       ], [ 0.67508356,  6.89958046,  1       ], [ 0.86775105,  6.95527478,  1       ], [  1.6259783 , -28.69550786,   1       ], [ 0.85058789, -1.17592996,  1       ], [ 0.83646383, -8.60124687,  1       ], [ 1.12986573, -4.40574183,  1       ], [  0.88960861,  16.55283489,   1       ], [  1.09102541, -12.99936741,   1       ], [  1.19497691, -10.76108289,   1       ], [ 1.07086855, -5.12382368,  1       ], [ 1.08761425, -3.04798417,  1       ], [  1.30719003, -14.22071349,   1       ], [ 0.69881192, -2.24210297,  1       ], [  1.05179142, -10.78317264,   1       ], [ 1.15844769,  5.10134028,  1       ], [ 0.95518768, -0.9566366 ,  1       ], [  0.81368811, -13.94996   ,   1       ], [ 1.13339459,  9.55073692,  1       ], [  1.39316798, -18.56125664,   1       ], [  1.08418725,  26.91338535,   1       ], [  0.65740885,  12.56864718,   1       ], [ 1.14639349,  8.10148036,  1       ], [ 1.11017231, -5.34822793,  1       ], [ 1.01779817, -5.69424865,  1       ], [ 1.10517044, -4.6188217 ,  1       ], [ 0.92796013, -6.23292921,  1       ], [  0.81078775, -12.75656439,   1       ], [ 0.97570253, -3.62474596,  1       ], [ 1.3388846 ,  3.30687276,  1       ], [ 0.79088371,  5.65630108,  1       ], [  0.84571857, -14.73899128,   1       ], [ 1.06010516,  0.40985395,  1       ], [ 1.03712289, -3.63867275,  1       ], [ 1.0456184 , -0.74178146,  1       ], [ 1.0742478 , -8.75143053,  1       ], [  1.13565605, -12.40233464,   1       ], [  0.69872069,  12.33023887,   1       ], [  1.16949206, -10.53890339,   1       ], [  0.91136673, -17.22130521,   1       ], [ 1.27348362, -0.61768239,  1       ], [ 0.99775415,  7.30221357,  1       ], [  0.75252588, -10.93702027,   1       ], [ 1.04975703, -9.13603757,  1       ], [ 0.60403797, -1.36154284,  1       ], [ 0.86110539, -1.69258187,  1       ], [ 1.24043694,  2.53860931,  1       ], [ 1.05129963,  6.69799857,  1       ], [ 1.21404727,  4.65180615,  1       ], [ 0.97347144, -4.28011104,  1       ], [ 1.27303012, -0.78160273,  1       ], [ 0.55763832, -4.30864973,  1       ], [ 1.04799936,  9.69673976,  1       ], [ 1.02160937,  6.85262234,  1       ], [  0.82393688, -12.03031379,   1       ], [ 0.90433481,  2.04443496,  1       ], [  0.87077737, -13.03381489,   1       ], [ 1.01954648,  5.0205305 ,  1       ], [  1.23746334, -11.96491761,   1       ], [ 0.99648959,  0.87705781,  1       ], [ 1.09764531,  5.34203624,  1       ], [ 1.11986062, -7.95751792,  1       ], [ 0.56969435, -4.4455656 ,  1       ], [ 1.17176388,  1.66200449,  1       ], [  0.99720291,  13.74328862,   1       ], [ 1.28369033, -8.77524448,  1       ], [  1.05131794,  14.68755857,   1       ], [ 0.90584798, -3.04417859,  1       ], [ 0.45749342,  1.68247612,  1       ], [ 1.14726388,  2.59404984,  1       ], [ 1.19183662,  2.09802358,  1       ], [ 0.79267007,  4.14916292,  1       ], [ 0.84819875,  2.47001018,  1       ], [ 0.90884816,  2.95895359,  1       ], [ 1.07532825,  6.36402513,  1       ], [ 1.14416568,  2.34229759,  1       ], [ 0.69007387, -2.0036294 ,  1       ], [  1.13239872, -11.42878435,   1       ], [ 0.7940586 ,  7.47097818,  1       ], [ 0.83270025, -1.44909913,  1       ], [ 0.91497114,  7.50587573,  1       ], [ 0.87623615, -6.28543383,  1       ], [ 1.03328623,  3.41545941,  1       ], [ 1.30430223,  6.22058698,  1       ], [ 1.25517965, -8.03978447,  1       ], [ 0.96862517, -4.86265128,  1       ], [ 1.16681976,  5.37331176,  1       ], [ 1.02801788,  0.04089125,  1       ], [ 1.68760573, -8.28554687,  1       ], [  0.86934767, -12.13315993,   1       ], [ 1.10375821,  6.57254252,  1       ], [ 1.02817549,  3.72120799,  1       ], [ 1.203623 , -2.6927178,  1      ], [ 0.73425093, -7.70608653,  1       ], [ 0.88995898,  0.34190988,  1       ], [ 0.92384163,  1.8484438 ,  1       ], [ 0.68195189, -1.31797592,  1       ], [ 1.10606051, -4.67117448,  1       ], [ 1.05399987, -9.76631291,  1       ], [  1.2213585 ,  17.67676604,   1       ], [ 0.88144114,  2.37677021,  1       ], [ 0.90770938, -0.45895203,  1       ], [ 1.05838894, -4.56236209,  1       ], [  0.59625858, -17.75198463,   1       ], [  1.1120207 ,  27.23342722,   1       ], [ 0.59255091,  6.56915487,  1       ], [  0.64044019, -17.05465377,   1       ], [ 0.90357355, -6.8738099 ,  1       ], [ 0.91388616,  7.74247643,  1       ], [  1.04183359,  10.07335315,   1       ], [ 0.87290355, -6.19744728,  1       ], [ 0.79432459, -3.4559358 ,  1       ], [  0.97328905,  15.1911051 ,   1       ], [ 1.32941789, -1.69463014,  1       ], [ 0.94467068,  8.4541718 ,  1       ], [  0.93485197,  12.78747914,   1       ], [ 0.93693236,  2.16106736,  1       ], [  1.31860792, -12.62194572,   1       ], [  1.27973939, -10.71878284,   1       ], [ 1.16702534, -3.35736752,  1       ], [ 1.05721007, -1.36863278,  1       ], [  1.03745953, -11.27303764,   1       ], [ 1.14110264,  4.19627477,  1       ], [ 0.68721351,  7.55030167,  1       ], [  1.21940751,  20.51668451,   1       ], [  1.11739936,  11.0907168 ,   1       ], [ 0.84869177, -7.4773004 ,  1       ], [  1.14704155,  13.73903422,   1       ], [ 0.96255815,  5.06939395,  1       ], [ 1.1596224 , -6.22100735,  1       ], [ 1.2401542 , -3.74470933,  1       ], [ 0.71915937,  0.04906602,  1       ], [ 0.90169146, -8.22834825,  1       ], [ 0.71737121,  9.11909425,  1       ], [ 0.60605874,  9.32464271,  1       ], [ 0.82898041, -7.01801251,  1       ], [ 0.99253247, -2.51510682,  1       ], [ 1.00194493, -3.81437544,  1       ], [ 0.6308927 ,  0.71678613,  1       ], [ 1.07749796,  6.32219797,  1       ], [ 0.98343308,  3.74182255,  1       ], [ 0.87012779, -6.33027871,  1       ], [ 0.90466689, -9.03469684,  1       ], [ 0.61315636, -5.49372984,  1       ], [ 0.94035698, -7.74154757,  1       ], [ 0.73358478, -5.58490803,  1       ], [  0.91862637, -10.68452574,   1       ], [ 0.77172426,  2.38324356,  1       ], [ 1.05400038,  8.15134669,  1       ], [ 1.01520744,  3.87712137,  1       ], [  1.21092516,  10.79581427,   1       ], [ 0.85483032, -5.53961856,  1       ], [ 1.53630144, -1.82448841,  1       ], [ 1.1021962 ,  0.55335337,  1       ], [ 1.01710277, -6.6206261 ,  1       ], [ 1.0834897 ,  8.54499395,  1       ], [  1.06844772, -16.01399787,   1       ], [  0.63724362, -13.05723649,   1       ], [ 1.05564651, -8.4589414 ,  1       ], [  1.08016975,  10.68382362,   1       ], [ 1.59850093,  1.08716624,  1       ], [ 1.01273973,  4.05435593,  1       ], [ 1.235335  ,  8.35970177,  1       ], [ 0.85483957, -2.37719616,  1       ], [  0.95335837, -13.54334931,   1       ], [ 1.02212932, -1.95665435,  1       ], [ 0.78293529, -4.3003606 ,  1       ], [  1.22959069,  16.33159172,   1       ], [ 0.92837711, -1.87552469,  1       ], [  1.28328233, -10.14233973,   1       ], [ 1.03036382,  6.07661576,  1       ], [  1.12087032,  10.38987475,   1       ], [  0.77892799,  12.34361109,   1       ], [ 0.78702956, -4.5192688 ,  1       ], [  0.95666115, -20.9058371 ,   1       ], [  0.99292677, -10.60412087,   1       ], [ 1.00279766, -6.23278471,  1       ], [  1.13750163,  13.37435579,   1       ], [ 0.77879497, -8.52836163,  1       ], [ 1.21115621,  6.57259301,  1       ], [ 0.91721498, -6.54536537,  1       ], [  0.77842342, -12.04332177,   1       ], [ 1.04278136,  3.67407692,  1       ], [ 1.24412178,  2.29617743,  1       ], [ 0.80034838,  6.7325109 ,  1       ], [ 1.18065584,  6.66943275,  1       ], [ 0.90828311,  7.08800132,  1       ], [ 0.70854798,  6.07350332,  1       ], [  0.97652329, -14.61363623,   1       ], [ 0.63023726, -4.46507013,  1       ], [ 1.6290221 , -8.30061878,  1       ], [ 1.01831112,  6.64804161,  1       ], [  0.94854753, -15.36302854,   1       ], [ 0.90088326,  0.29299092,  1       ], [  0.9015652 ,  12.55032668,   1       ], [  1.03967649,  10.95364   ,   1       ], [  1.14872969, -10.6038036 ,   1       ], [ 0.99427371,  1.09913535,  1       ], [ 1.18877877, -2.2656108 ,  1       ], [  1.03747731,  14.69685239,   1       ], [ 1.04439174,  1.48678701,  1       ], [ 0.63571867,  2.4478986 ,  1       ], [ 1.23605739,  0.8568751 ,  1       ], [ 0.86502111,  6.42912229,  1       ], [ 0.98793362, -8.71816235,  1       ], [ 0.88478959,  4.03211761,  1       ], [ 1.1384563 ,  8.38170492,  1       ], [ 1.08698976, -7.13387924,  1       ], [ 0.51972279, -6.33117378,  1       ], [ 0.9124269 , -0.94203435,  1       ], [  0.96195336,  17.41551962,   1       ], [  1.30754593,  10.18696367,   1       ], [ 0.98368953, -2.16329401,  1       ], [ 0.93480622,  0.75048125,  1       ], [  1.02407254,  13.61371019,   1       ], [  0.87630042,  18.44157396,   1       ], [  1.08464527, -10.00165461,   1       ], [ 0.83045485,  3.04908066,  1       ], [ 1.18513196,  3.15824441,  1       ], [ 0.67127936, -8.75780259,  1       ], [ 0.95780404,  4.88044345,  1       ], [  1.07110392, -10.13584605,   1       ], [ 0.95468773,  7.55040328,  1       ], [ 0.73143137,  1.64770564,  1       ], [  0.84061971,  13.17968246,   1       ], [ 1.42027777, -4.35614245,  1       ], [ 1.05816901,  8.93649623,  1       ], [  1.05681925, -20.67069914,   1       ], [  0.61699871,  12.9787793 ,   1       ], [  0.8803742 ,  15.55417404,   1       ], [ 0.94289261, -2.11654854,  1       ], [  1.07737015, -11.3220557 ,   1       ], [ 1.10495478,  6.02255451,  1       ], [ 1.06283805,  1.43397068,  1       ], [ 1.46950154, -5.70922579,  1       ], [  0.94107194,  12.54393708,   1       ], [  1.18303169, -21.52983619,   1       ], [  1.11887241, -24.94595881,   1       ], [ 1.4097549 ,  0.62317308,  1       ], [ 1.52199926, -8.32295658,  1       ], [  1.25859348,  21.67215916,   1       ], [  1.36788897,  15.78128905,   1       ], [  1.02482304,  14.59689188,   1       ], [  0.85159641, -10.3905101 ,   1       ], [ 1.07881448,  7.03752613,  1       ], [  1.20899516,  13.17971493,   1       ], [  1.0153463 ,  19.36689633,   1       ], [ 0.99021996,  6.02350291,  1       ], [  0.84065449, -11.37562914,   1       ], [ 0.74076339,  1.77947469,  1       ], [ 1.25307262, -9.44982475,  1       ], [ 1.03625968, -6.07610822,  1       ], [  1.08870434, -25.19145599,   1       ], [ 1.28770623,  7.68637723,  1       ], [ 0.99868284,  8.28738598,  1       ], [ 1.059997  , -3.91079413,  1       ], [ 0.53527098,  3.26921242,  1       ], [  0.83629239,  18.78079659,   1       ], [ 0.98377912,  1.36898885,  1       ], [ 0.86948059, -3.04545922,  1       ], [ 0.99955722,  1.51137303,  1       ], [ 0.96384416,  6.46433039,  1       ], [ 0.91465909, -9.82214473,  1       ], [  0.85148831, -18.29945237,   1       ], [  0.88268222,  18.11902021,   1       ], [ 1.53983256, -6.85673121,  1       ], [ 0.82256262,  2.76717299,  1       ], [  1.23400858, -15.32269447,   1       ], [ 0.55715858,  3.21328803,  1       ], [  0.91917337,  12.7119543 ,   1       ], [ 1.30750478,  3.33867324,  1       ], [ 1.06585467,  5.87625845,  1       ], [  0.67497361,  11.42917682,   1       ], [  1.00511065,  18.1927816 ,   1       ], [ 1.21601819,  8.65975744,  1       ], [  1.051607 , -11.0155722,   1      ], [ 1.00065631, -7.08140064,  1       ], [ 1.01363553,  6.13833429,  1       ], [ 1.12092609,  1.52184783,  1       ], [ 1.02006569,  2.46758632,  1       ], [ 0.84311223,  9.36497278,  1       ], [  1.01444283,  14.56475176,   1       ], [  1.00051842,  13.3619887 ,   1       ], [ 1.21981054, -6.60871251,  1       ], [ 0.71720581, -9.39999475,  1       ], [ 1.09957029,  4.79416197,  1       ], [ 0.76572589,  6.22805318,  1       ], [ 1.07707224,  2.2264148 ,  1       ], [ 0.67119984,  1.29277711,  1       ], [ 0.97826096, -5.06230634,  1       ], [ 1.17116846, -7.65284505,  1       ], [ 0.94808079,  2.85508498,  1       ], [ 1.03758626,  2.9256645 ,  1       ], [  0.892548  ,  12.25159874,   1       ], [ 1.07870416,  6.68298563,  1       ], [ 1.01871879,  0.58188053,  1       ], [  0.79426053,  16.17428266,   1       ], [ 0.83761159,  8.91562854,  1       ], [ 0.9279927 ,  6.04111821,  1       ], [ 1.32221161,  6.35136852,  1       ], [ 1.34639172,  1.02874338,  1       ], [ 1.02693717,  4.89107032,  1       ], [ 1.02757583,  0.9038895 ,  1       ], [ 1.02738144,  1.86691939,  1       ], [  0.99891948,  11.52047194,   1       ], [ 1.17397808,  2.51207966,  1       ], [  1.43204755,  14.00683394,   1       ], [ 1.05414937, -4.26757614,  1       ], [ 0.94248259, -2.30110696,  1       ], [  1.01076449,  16.95686939,   1       ], [ 1.35488762, -1.67690144,  1       ], [  0.83595234, -13.22264357,   1       ], [ 1.03068003, -1.33747755,  1       ], [  0.89815873, -17.44461194,   1       ], [  0.98488853,  16.01131153,   1       ], [ 1.22907883,  7.68448609,  1       ], [  0.79964037,  11.33377942,   1       ], [ 0.90030943, -6.23742019,  1       ], [ 1.33453388, -8.75849334,  1       ], [ 0.77320853, -5.30680951,  1       ], [ 0.97620205, -7.48258271,  1       ], [ 1.02994886,  9.94335529,  1       ], [  1.26105368, -10.98957679,   1       ], [ 1.19121251,  5.43898031,  1       ], [ 1.29707015, -2.67841811,  1       ], [ 0.78024158, -1.97580943,  1       ], [  0.68726194,  13.10137058,   1       ], [ 0.67570942, -4.29441944,  1       ], [  0.74200264,  23.38174543,   1       ], [ 0.9782207 ,  4.09158209,  1       ], [  0.58137588,  25.53557998,   1       ], [  1.46606791,  13.72841455,   1       ], [ 0.87356464, -0.04858455,  1       ], [ 1.1893091 , -1.12792634,  1       ], [ 0.90364144, -8.91591674,  1       ], [ 1.21379884, -2.72929419,  1       ], [ 0.89889178,  2.04329127,  1       ], [ 0.88649215, -5.11405051,  1       ], [ 0.84740461, -3.40334836,  1       ], [ 0.92311012,  0.59413095,  1       ], [ 1.14370226,  3.42707869,  1       ], [  1.01806156, -28.31319089,   1       ], [ 0.97369722,  6.33894807,  1       ], [  0.95803096,  17.02707756,   1       ], [ 1.30041618, -3.98444434,  1       ], [ 0.96317352,  1.55843869,  1       ], [  1.33999175, -16.69614598,   1       ], [ 1.10152092,  6.77126599,  1       ], [ 1.39429764, -5.5103621 ,  1       ], [  0.94912666,  11.39450277,   1       ], [  0.95801302,  18.55746424,   1       ], [  0.85253869, -10.59406739,   1       ], [ 1.05826928, -0.11320141,  1       ], [  1.19720575, -15.55665161,   1       ], [  0.69641881, -10.08327574,   1       ], [ 1.14883098, -0.87937816,  1       ], [ 1.11735134,  5.57742498,  1       ], [ 1.10002593, -2.02013865,  1       ], [  0.95228193, -21.79625121,   1       ], [ 1.12831437,  4.18244437,  1       ], [ 0.93871806, -2.29042927,  1       ], [ 0.95499765, -7.47673766,  1       ], [  0.80315582,  13.87745681,   1       ], [  1.33382549,  16.24074151,   1       ], [  0.7641248 , -11.00348197,   1       ], [  0.96610931,  14.08885827,   1       ], [  1.12114646,  14.19486777,   1       ], [  0.91439849, -12.10402404,   1       ], [  1.01649758,  20.76715361,   1       ], [ 0.71758574, -4.19999538,  1       ], [ 0.99066992, -8.51489349,  1       ], [ 1.06855771,  8.09310354,  1       ], [ 1.02473067,  9.0764394 ,  1       ], [ 0.77057749, -4.39503371,  1       ], [  1.23448862, -13.38362438,   1       ], [ 0.9871871 ,  5.66665564,  1       ], [ 1.20596869, -4.52780692,  1       ], [ 1.09349925,  4.23890778,  1       ], [  0.82285669, -17.78200035,   1       ], [ 0.99484223,  8.14402711,  1       ]]\n",
    "updatedlist = [[  1.2303559 , -11.16224898,   1       ], [  1.02614252,  16.09732309,   1       ], [ 1.1544228 ,  5.08167641,  1       ], [ 0.64427532, -5.09538071,  1       ], [ 1.00590086,  2.24342718,  1       ], [  0.97953547,  12.19841763,   1       ], [  0.62874324,  13.72324216,   1       ], [ 1.27075194, -8.87946313,  1       ], [  0.47655945, -10.82495536,   1       ], [ 0.91699376, -7.01116249,  1       ], [ 1.17179326,  1.19946614,  1       ], [  1.14509104, -12.00385685,   1       ], [  1.20684945, -13.29830645,   1       ], [ 1.03436155,  3.01324251,  1       ], [  0.87747454,  10.51779503,   1       ], [ 0.9813308 , -1.55666485,  1       ], [ 1.03051228,  4.47971582,  1       ], [  1.21042271, -19.04502745,   1       ], [ 1.34612414,  6.74418894,  1       ], [ 0.97544726,  7.27211497,  1       ], [ 0.84711851,  0.02282715,  1       ], [ 0.82614864,  4.64024712,  1       ], [ 0.55364871, -2.94317618,  1       ], [  0.7556705 ,  11.14954986,   1       ], [  0.98519666, -25.69452386,   1       ], [ 0.86212637,  2.01882766,  1       ], [  0.71977578,  14.82388419,   1       ], [ 0.84475116,  5.92416221,  1       ], [ 0.99190473, -9.42474862,  1       ], [  1.04509915, -12.83900278,   1       ], [ 1.01190093, -6.61469619,  1       ], [  0.74433699, -14.12330423,   1       ], [ 0.85311961,  4.59921617,  1       ], [ 0.75942552,  8.024013  ,  1       ], [  0.58757035,  11.2257852 ,   1       ], [ 1.2422773 ,  7.85257416,  1       ], [ 0.98261494,  6.34371387,  1       ], [ 1.01614715,  5.40345796,  1       ], [ 1.18089923, -0.14617619,  1       ], [  1.17378685,  21.72939346,   1       ], [ 1.21762004, -5.59877709,  1       ], [ 1.33124703,  0.97491774,  1       ], [  0.95807979, -17.99017237,   1       ], [ 0.97402648,  3.14487561,  1       ], [ 1.06126875,  8.32652888,  1       ], [ 0.84786507,  7.83194047,  1       ], [  0.94290809, -11.87343847,   1       ], [ 0.7761381 , -9.22310373,  1       ], [ 0.76868428, -4.21309427,  1       ], [  0.78518765, -16.89546965,   1       ], [ 0.91584889, -5.96619357,  1       ], [  0.98453118, -14.67621393,   1       ], [ 1.10626605,  3.45103902,  1       ], [ 0.85310016,  0.56957706,  1       ], [ 1.12869803, -3.96011563,  1       ], [ 0.92851329, -1.23132496,  1       ], [  1.07512017,  17.29242921,   1       ], [  0.73591083,  17.72718063,   1       ], [ 0.98124189, -7.83222849,  1       ], [ 1.22849824, -2.41199106,  1       ], [ 0.96863267, -5.49584278,  1       ], [  0.8221164 , -20.26564754,   1       ], [ 1.35300136, -7.89083698,  1       ], [ 1.27588359, -4.07022942,  1       ], [ 1.12014611, -5.2543372 ,  1       ], [ 1.20086535, -4.35920475,  1       ], [  1.01474253,  10.75277435,   1       ], [ 1.30559742,  2.0157442 ,  1       ], [ 1.1145867 ,  9.13482984,  1       ], [ 0.98313856,  1.13273019,  1       ], [  1.28281453, -17.77041074,   1       ], [  0.78062742, -12.66653167,   1       ], [ 1.24417229,  6.09616799,  1       ], [  0.90223755, -14.35217863,   1       ], [  1.00096375, -12.10005769,   1       ], [  1.37301747, -11.55344116,   1       ], [ 1.23565502, -4.91764512,  1       ], [ 1.36885262,  0.22427392,  1       ], [ 0.80401145, -4.68100488,  1       ], [  0.89983467, -15.48693644,   1       ], [ 0.78190308,  2.59105269,  1       ], [ 1.04114399,  2.64632863,  1       ], [ 1.29785513,  0.89285044,  1       ], [ 1.07116337,  1.34762494,  1       ], [ 1.13793746,  6.38742629,  1       ], [  1.21981376,  15.21864296,   1       ], [  0.9066118 ,  14.19827444,   1       ], [  1.16829089,  17.30703317,   1       ], [ 1.10037453,  3.96675508,  1       ], [ 1.15409938,  9.59207164,  1       ], [  1.30192549,  13.23825885,   1       ], [ 0.75091708, -7.44871258,  1       ], [ 0.86204929, -1.06911035,  1       ], [ 1.57365214,  0.72424814,  1       ], [  1.32624369, -10.10044754,   1       ], [ 1.26514287,  7.93447934,  1       ], [ 1.01105831,  9.48770909,  1       ], [ 0.85591249, -5.69631504,  1       ], [ 0.96551322,  5.75500942,  1       ], [ 1.16848557, -9.01626266,  1       ], [ 1.01293558, -6.95968852,  1       ], [ 0.76396481, -4.18809722,  1       ], [  0.92989139, -14.40105702,   1       ], [ 1.18950323, -2.6229572 ,  1       ], [  0.97024912, -16.65344797,   1       ], [ 0.98959801, -7.11283119,  1       ], [ 1.1864806, -5.5277144,  1      ], [ 1.01864209, -8.0816326 ,  1       ], [ 0.96730766, -8.80011111,  1       ], [ 1.28034779,  3.85942772,  1       ], [ 0.51542346,  1.2050864 ,  1       ], [ 1.03332146, -4.9746867 ,  1       ], [ 0.95116564,  2.74427276,  1       ], [ 0.80992941, -2.14157409,  1       ], [  0.88300888, -22.2054922 ,   1       ], [  1.10549185, -12.94948227,   1       ], [ 0.77864148, -6.7059475 ,  1       ], [ 0.91717833,  0.06838626,  1       ], [  0.92911821,  12.85268788,   1       ], [  0.97089371, -12.26170374,   1       ], [ 1.19649132, -1.47529111,  1       ], [  1.16328581, -10.48086287,   1       ], [ 0.70973893,  4.54818041,  1       ], [ 0.8902844 , -0.20304616,  1       ], [  1.38702901,  10.68141371,   1       ], [ 1.08198633,  3.68343478,  1       ], [ 0.76563597, -3.63954289,  1       ], [  1.22937497, -12.80681632,   1       ], [ 1.4329826 , -1.01949975,  1       ], [  1.01237228,  27.34561475,   1       ], [  0.96411535, -10.98615136,   1       ], [ 1.00310698,  2.19956942,  1       ], [  1.17226982, -12.15920344,   1       ], [ 1.09358637,  9.79234201,  1       ], [ 1.16036905,  5.77730234,  1       ], [ 0.90695199, -1.0435948 ,  1       ], [  1.26638874, -13.39114654,   1       ], [ 1.04407613, -0.09631734,  1       ], [ 1.00529206,  6.00578038,  1       ], [ 0.85042798,  7.87816608,  1       ], [ 1.43911179, -7.07929758,  1       ], [  1.17875604, -19.30478334,   1       ], [ 0.87563349,  5.7531421 ,  1       ], [  1.0682169 , -12.95601962,   1       ], [ 0.92608922, -2.45039365,  1       ], [ 1.10738229,  0.0877411 ,  1       ], [ 1.31569805,  0.00248448,  1       ], [ 1.08509415,  6.04013293,  1       ], [ 0.96742556, -8.32530035,  1       ], [ 0.88794377, -7.8013167 ,  1       ], [ 1.40225358, -4.97747379,  1       ], [  0.83866615, -10.11214262,   1       ], [ 1.07986872,  9.94275024,  1       ], [ 1.18274127,  6.23527473,  1       ], [  0.88380289,  12.55163039,   1       ], [  1.18472791,  10.35862893,   1       ], [  1.06628647,  10.76176105,   1       ], [ 1.09895831, -0.77904857,  1       ], [ 0.78175751, -6.08810116,  1       ], [ 0.84503197,  4.1065555 ,  1       ], [ 1.1007033 , -8.36011415,  1       ], [  1.09720842,  15.570857  ,   1       ], [ 1.51228454,  1.62084372,  1       ], [  0.91541711, -22.25906038,   1       ], [  1.41187694, -18.28151229,   1       ], [ 0.88862395, -6.43936562,  1       ], [  0.90212272, -20.07686894,   1       ], [  0.914639  ,  10.71764799,   1       ], [ 1.20891164,  5.87631471,  1       ], [ 1.12670523, -6.16196302,  1       ], [  1.11083364, -18.74139552,   1       ], [ 0.79803357,  6.11685464,  1       ], [  1.34366323, -11.92192851,   1       ], [  1.1613484 ,  10.32483656,   1       ], [ 1.25420453, -0.75979067,  1       ], [  0.89974424,  12.65014985,   1       ], [ 1.14383365,  0.05346449,  1       ], [  0.85582531, -23.26471982,   1       ], [ 1.22296211, -0.79851932,  1       ], [ 0.92172362,  1.45011203,  1       ], [  0.97630958, -15.72073281,   1       ], [ 0.96714742, -3.39598454,  1       ], [ 0.96694393, -5.80002664,  1       ], [ 0.98553612,  6.86117639,  1       ], [ 1.20361515, -1.73314575,  1       ], [ 0.81939825,  0.28314361,  1       ], [ 1.12256634,  0.71833194,  1       ], [  0.78462201,  12.4142567 ,   1       ], [  0.92492151,  21.24460277,   1       ], [ 0.93624634,  2.49080332,  1       ], [  1.08455248,  24.64452526,   1       ], [  0.88322895, -18.10540943,   1       ], [  1.06422551, -14.43391341,   1       ], [ 0.78134569, -0.84436292,  1       ], [  1.18269706,  13.6630874 ,   1       ], [ 0.80032464, -3.45137707,  1       ], [ 0.81315039, -1.22527305,  1       ], [ 1.19148807, -3.37761255,  1       ], [  1.05022766,  14.64763329,   1       ], [  0.7853969 , -19.86802645,   1       ], [ 1.16151403, -5.07562914,  1       ], [ 0.87865037,  3.66742523,  1       ], [  1.1960878 , -11.03777299,   1       ], [ 1.18155398, -3.50606827,  1       ], [  0.83995949,  11.39355653,   1       ], [ 1.22276108, -1.71092659,  1       ], [ 1.2120807 ,  5.26035165,  1       ], [ 0.98242196,  5.2630116 ,  1       ], [ 0.83162877, -6.24054635,  1       ], [ 0.95552986, -9.87448955,  1       ], [  0.64265518,  12.33744252,   1       ], [ 0.9880861 ,  5.42622509,  1       ], [ 0.96092336,  0.86919478,  1       ], [ 1.16040929, -0.77678216,  1       ], [ 0.87595706, -0.77123156,  1       ], [ 1.18175238,  6.59684037,  1       ], [ 1.29473351, -4.37023665,  1       ], [ 0.93011933, -6.43018153,  1       ], [ 0.61975792, -4.0879551 ,  1       ], [ 0.94444698,  0.00580681,  1       ], [ 0.98265449, -8.54508981,  1       ], [  1.09380186,  12.80065222,   1       ], [ 0.5073242,  8.6524341,  1      ], [  1.0443085 ,  20.72875806,   1       ], [  1.03884026, -19.92399393,   1       ], [ 1.05767037,  0.0698605 ,  1       ], [ 0.91277168, -9.83247421,  1       ], [ 1.46795881,  0.75670525,  1       ], [ 0.8906995 , -7.40619422,  1       ], [ 1.09670271,  8.71434036,  1       ], [  0.97619701,  13.44097556,   1       ], [ 1.28303922,  1.72502172,  1       ], [ 1.07354148, -0.30222787,  1       ], [  1.10406628, -15.5364676 ,   1       ], [  0.822913  , -13.79766914,   1       ], [  0.69587592,  18.2815534 ,   1       ], [ 0.78999612, -8.28777759,  1       ], [ 1.33529029,  0.52385502,  1       ], [  1.37724928, -31.54322454,   1       ], [ 1.13188395, -0.18754505,  1       ], [ 0.98134509, -5.96598135,  1       ], [ 0.88583827,  6.49574896,  1       ], [ 1.10544746, -4.73772946,  1       ], [ 0.73780056, -3.11040858,  1       ], [ 1.1580096 ,  5.15995306,  1       ], [ 0.95485011,  6.13379149,  1       ], [ 0.79394524,  0.27910148,  1       ], [ 1.28826526, -3.54865622,  1       ], [ 1.21116417, -3.37233767,  1       ], [ 0.71295279, -3.7469179 ,  1       ], [  1.10116658,  20.38713254,   1       ], [ 1.03101841, -7.64444368,  1       ], [ 1.23441898,  3.01095435,  1       ], [ 0.70936833,  3.52401185,  1       ], [  0.77283688,  14.02982131,   1       ], [ 1.20491144,  9.2288063 ,  1       ], [ 0.74053294, -0.11857537,  1       ], [ 0.96795309, -5.88067911,  1       ], [ 1.30315386, -7.86659777,  1       ], [  1.14416698, -19.99825669,   1       ], [  1.24885026,  17.7151886 ,   1       ], [  0.79023356,  13.46209627,   1       ], [ 0.54322681, -0.69958376,  1       ], [  0.71678144,  25.84328917,   1       ], [ 0.99824521, -2.26647353,  1       ], [  1.055585  ,  17.56542186,   1       ], [  1.1639438, -13.176316 ,   1      ], [ 1.00447615,  2.10534198,  1       ], [ 0.56077009, -7.29722999,  1       ], [ 0.97293967,  3.87254052,  1       ], [ 0.89765065,  1.62259374,  1       ], [ 1.42819133,  7.20008101,  1       ], [ 0.82130845,  4.33466166,  1       ], [  0.79484302,  11.29230733,   1       ], [  1.19564207,  21.56607751,   1       ], [ 0.84535564,  0.10610917,  1       ], [  0.99649798, -10.97723011,   1       ], [  0.98737825,  12.3134939 ,   1       ], [  0.70729418,  15.6637214 ,   1       ], [ 0.9441376 , -4.61763512,  1       ], [ 0.72770723,  2.08694754,  1       ], [ 0.92372697,  1.02699816,  1       ], [ 0.94922006,  2.22545587,  1       ], [ 0.9423793 ,  4.77229513,  1       ], [ 0.92471064,  1.17688147,  1       ], [ 0.92722967,  9.32112917,  1       ], [ 0.73841593,  6.1566835 ,  1       ], [  0.83576232, -11.1713015 ,   1       ], [  1.13774662, -19.81980531,   1       ], [ 1.0609771 , -1.58378078,  1       ], [ 1.02104879, -9.75009952,  1       ], [  0.8930701 ,  10.40415945,   1       ], [ 1.1812981 , -7.05787665,  1       ], [ 0.73427473, -9.32202962,  1       ], [  1.0217231 , -11.74475119,   1       ], [  0.75409872,  16.0200506 ,   1       ], [ 1.37437533,  4.61187946,  1       ], [ 1.2782781 , -6.16769799,  1       ], [  0.80802949,  20.24703072,   1       ], [ 1.10672134,  1.85224203,  1       ], [ 0.75453538, -0.87912144,  1       ], [ 0.68532478,  4.04549016,  1       ], [ 0.78291243,  1.73467977,  1       ], [ 1.05160066,  5.58308777,  1       ], [ 1.25612247,  6.20099419,  1       ], [ 1.14419009,  6.02907542,  1       ], [ 0.64354272, -3.88433134,  1       ], [ 1.12142621,  5.65503384,  1       ], [ 0.70272522,  9.99907525,  1       ], [ 1.0961204 ,  6.46291253,  1       ], [ 0.98670667, -5.93614663,  1       ], [ 0.81871771,  7.40393907,  1       ], [ 1.08913462, -5.89520247,  1       ], [  0.67354991, -15.72611319,   1       ], [ 1.30101316,  6.78682325,  1       ], [  0.66534569,  10.98917369,   1       ], [ 0.64720789, -5.95154512,  1       ], [ 1.10791135,  2.66077474,  1       ], [ 1.18454114,  4.69574222,  1       ], [ 0.83419872, -2.29530523,  1       ], [ 0.99835304,  2.10669295,  1       ], [ 0.97153784,  1.33361864,  1       ], [ 0.82671949,  0.34505783,  1       ], [  1.30146475,  13.84533457,   1       ], [ 1.25415933, -5.74056173,  1       ], [ 1.2730586 ,  8.94552176,  1       ], [  0.90954177, -15.47539306,   1       ], [ 0.70278906,  0.96125447,  1       ], [ 0.87395466, -5.16482264,  1       ], [ 1.16908602,  2.80413027,  1       ], [  1.03912684, -10.70928719,   1       ], [  0.88669291,  10.05584679,   1       ], [ 0.76260699, -8.7758038 ,  1       ], [ 0.87031071,  6.46064216,  1       ], [ 1.04477418,  5.15460079,  1       ], [  1.0875493 , -10.62241559,   1       ], [  0.83386738, -15.33892231,   1       ], [ 1.16215216, -5.10819977,  1       ], [ 1.0054793 , -1.82098198,  1       ], [ 0.75844194, -2.4415105 ,  1       ], [  0.93329968,  11.77057557,   1       ], [ 0.92372085,  0.64863651,  1       ], [ 1.15454426, -6.84924339,  1       ], [  0.97070677, -11.91485235,   1       ], [  0.72110165, -13.37999778,   1       ], [ 1.1786155 ,  3.59578788,  1       ], [ 1.18709659,  3.1095577 ,  1       ], [ 1.03373832, -7.31619133,  1       ], [  0.80074611, -13.84098074,   1       ], [ 0.71741433, -2.89096045,  1       ], [  1.04251668, -12.8502816 ,   1       ], [ 0.68421015,  8.60396458,  1       ], [ 0.99297664,  5.22409493,  1       ], [ 1.04652662, -6.66473273,  1       ], [  0.51606618,  10.94908664,   1       ], [ 0.94702751,  0.1747297 ,  1       ], [  1.03613273, -11.70434385,   1       ], [ 0.99966687, -6.53842605,  1       ], [ 0.74860045,  4.94152504,  1       ], [ 0.89176616,  9.871648  ,  1       ], [ 1.03841706, -3.68670426,  1       ], [ 1.07849177, -0.74975432,  1       ], [ 1.00900045,  8.79151881,  1       ], [ 0.42367859,  7.09085715,  1       ], [ 1.26468514,  7.44263733,  1       ], [ 1.0758365 ,  4.08441519,  1       ], [  1.00886759,  11.02517735,   1       ], [  0.76377341, -11.76432768,   1       ], [  1.10805559,  12.31695721,   1       ], [ 0.70570231,  5.9509547 ,  1       ], [ 1.39712548, -1.29203926,  1       ], [ 0.95159159, -3.80577044,  1       ], [ 1.1006803 ,  2.15622773,  1       ], [ 1.55218141,  2.02229264,  1       ], [ 0.90864049, -1.12847277,  1       ], [ 0.96922243, -8.49430692,  1       ], [  0.85111814, -22.49819861,   1       ], [ 0.84592201,  5.56157857,  1       ], [ 0.86075936,  5.2766625 ,  1       ], [ 0.99114169,  1.2103746 ,  1       ], [  1.17100546, -16.73324598,   1       ], [ 1.30167279,  5.30543094,  1       ], [ 1.1224347,  6.5704791,  1      ], [ 1.28760186,  9.31387707,  1       ], [ 0.95353455,  5.62765545,  1       ], [ 1.23226025, -3.34361968,  1       ], [ 0.95082084, -1.53135163,  1       ], [ 0.87116282, -0.03232178,  1       ], [ 1.03926633, -1.71739963,  1       ], [ 1.35266074, -2.97273227,  1       ], [ 0.69829668,  6.99433823,  1       ], [  0.97068573,  12.81487423,   1       ], [ 1.08086885,  0.19955414,  1       ], [ 1.53633936,  3.24962514,  1       ], [  1.24882668, -15.14797521,   1       ], [  1.15889799,  21.41389214,   1       ], [ 0.96171718, -5.03285282,  1       ], [  0.85421804,  10.95855448,   1       ], [ 0.73504065,  1.48880096,  1       ], [ 1.09305687, -6.46621685,  1       ], [ 0.98932994,  8.94953783,  1       ], [  0.97293899, -11.19232561,   1       ], [ 0.96610713,  5.93202339,  1       ], [  0.9684787 ,  10.59497087,   1       ], [ 0.59985774,  5.74298658,  1       ], [ 1.03812225, -3.65485916,  1       ], [ 0.7853144 , -3.66275037,  1       ], [  1.12374247,  13.05814611,   1       ], [ 1.43528171,  1.15092519,  1       ], [  1.03905474, -14.90236815,   1       ], [ 0.94336819,  8.1128994 ,  1       ], [  1.22167285, -10.90330997,   1       ], [ 1.14785   , -0.81099452,  1       ], [  0.85366197,  16.49827867,   1       ], [  1.00295192,  34.64496287,   1       ], [ 1.31787235,  3.1586076 ,  1       ], [  1.02283805,  16.54967229,   1       ], [ 1.03147671, -5.26879864,  1       ], [  0.76581066,  12.84096293,   1       ], [ 0.7779436 ,  8.32536381,  1       ], [ 1.0798399 , -2.11012045,  1       ], [ 1.31036948, -1.11182074,  1       ], [ 1.29808461, -2.77349267,  1       ], [  0.79037494,  13.45051825,   1       ], [  1.00276705, -23.48980714,   1       ], [  0.91357375, -13.63941683,   1       ], [ 1.14830248, -1.76295417,  1       ], [ 1.00282954,  2.70568222,  1       ], [ 0.86250319, -1.95212069,  1       ], [ 1.013751  , -6.61194582,  1       ], [ 1.03873425,  5.50732232,  1       ], [ 0.53644585, -0.78191657,  1       ], [ 1.17205291, -8.45218098,  1       ], [ 1.08849826,  5.05257524,  1       ], [ 1.14303239, -2.74565719,  1       ], [ 1.37784077,  4.05637895,  1       ], [ 1.36957632,  2.09262988,  1       ], [ 1.51399103,  1.05189754,  1       ], [  1.11131264, -22.0473087 ,   1       ], [ 1.27923097,  0.6030637 ,  1       ], [ 1.24418468,  9.59976314,  1       ], [ 0.91240997, -7.11491468,  1       ], [ 0.81489118, -1.28409914,  1       ], [ 0.87702826, -1.81363266,  1       ], [ 1.06621881, -9.53265987,  1       ], [ 1.49001324, -6.5359022 ,  1       ], [  1.2427316 ,  24.85268836,   1       ], [ 1.04684969, -6.12866558,  1       ], [ 0.5662154 ,  4.54666387,  1       ], [ 1.02819736, -4.39118008,  1       ], [ 1.30421113,  1.24177551,  1       ], [ 0.97918474,  6.24386281,  1       ], [  0.76810722, -12.39610445,   1       ], [ 0.99780856, -7.01958196,  1       ], [  1.14046573, -19.70140194,   1       ], [  1.31457237, -15.44526188,   1       ], [ 0.97608291, -9.13807992,  1       ], [  1.0128414 ,  17.14058505,   1       ], [  1.21740653,  20.80372288,   1       ], [  1.00810857, -13.31309207,   1       ], [ 1.03943815, -0.59654041,  1       ], [ 1.18292977,  0.47785865,  1       ], [ 0.80464358,  9.56112976,  1       ], [ 0.95584119, -0.48843893,  1       ], [ 0.82503946, -8.38533241,  1       ], [  0.89614671, -29.82282151,   1       ], [  0.76594958, -19.64878219,   1       ], [ 1.03934896,  1.14893191,  1       ], [  1.22280375,  11.63702369,   1       ], [  1.09563549,  11.47512122,   1       ], [ 0.93841915,  3.59955939,  1       ], [  1.03103115, -16.06906354,   1       ], [  1.0500736 ,  14.15073059,   1       ], [  1.01598551, -11.94055581,   1       ], [ 0.8568628 , -8.86746421,  1       ], [  1.1512113 , -15.15063126,   1       ], [ 0.60594557, -0.41931958,  1       ], [  1.34381616,  14.16929568,   1       ], [ 0.865752 ,  5.5523679,  1      ], [ 1.09106874, -5.96263794,  1       ], [  1.18212183,  10.57420138,   1       ], [ 1.40215345,  9.30698523,  1       ], [  0.77952793,  15.29336073,   1       ], [ 1.15349391, -2.34436131,  1       ], [  1.26951459,  13.65202225,   1       ], [ 1.16575564, -1.7581552 ,  1       ], [  0.96368384, -22.65227552,   1       ], [ 0.86751036, -6.50307355,  1       ], [ 0.77050131,  3.06679982,  1       ], [ 1.0883783 ,  1.13843691,  1       ], [ 1.17540363,  9.28048228,  1       ], [ 1.09651453,  5.20236705,  1       ], [ 1.05237303, -3.74192536,  1       ], [  0.93107414, -35.21206538,   1       ], [ 1.61343854,  3.54308197,  1       ], [  1.09762609, -15.03719459,   1       ], [  1.13130137, -10.89877518,   1       ], [ 0.81714205, -8.81486561,  1       ], [  1.17050449,  14.16165615,   1       ], [  0.9722288 , -16.71262649,   1       ], [ 0.98674502,  2.92770215,  1       ], [  1.03989836,  15.3933276 ,   1       ], [ 1.21691486,  7.69787835,  1       ], [  0.87487015,  11.83086436,   1       ], [ 1.17151643,  1.19239058,  1       ], [ 0.76563512, -9.27565037,  1       ], [ 1.11509772,  0.51818013,  1       ], [  1.17636082,  17.88747232,   1       ], [ 1.08322013, -2.80880298,  1       ], [  1.20873349,  20.76323468,   1       ], [ 0.6902273 , -1.88912385,  1       ], [  1.05865809, -19.02778705,   1       ], [ 0.66820439, -6.155403  ,  1       ], [  1.06554183,  14.06449405,   1       ], [  1.17880724,  11.55304621,   1       ], [ 1.09920494, -1.92221728,  1       ], [ 0.79585212,  2.85738221,  1       ], [  0.88382816, -14.82086944,   1       ], [ 0.95450509,  4.85408721,  1       ], [ 0.5488583 , -0.46939842,  1       ], [  0.94406311,  16.42647536,   1       ], [ 0.7145557 ,  4.98530356,  1       ], [ 1.03069806, -7.87887865,  1       ], [  0.96047151, -10.5096112 ,   1       ], [ 0.78991282,  8.24211815,  1       ], [ 0.92776992,  3.62487535,  1       ], [ 0.72719147,  4.72589262,  1       ], [  0.95859185,  11.02765896,   1       ], [ 1.09339652, -7.45238865,  1       ], [ 1.2399866 ,  1.27954304,  1       ], [  0.90054838, -14.69665308,   1       ], [  0.92185672,  10.9596158 ,   1       ], [  1.03877884, -14.37977338,   1       ], [  1.21712993,  17.46210207,   1       ], [  0.99854825, -14.64760635,   1       ], [ 0.65089946, -0.84336472,  1       ], [ 1.1380791 , -1.50266345,  1       ], [ 0.99174148, -4.231056  ,  1       ], [ 1.32683519, -8.07916914,  1       ], [  1.13673325, -11.36742009,   1       ], [ 1.05864199, -9.19140063,  1       ], [  0.8212941 , -11.33209344,   1       ], [  0.87141781,  13.97359108,   1       ], [  0.94220245, -15.01822991,   1       ], [ 1.10558175,  8.72247172,  1       ], [ 0.89415329,  3.48581478,  1       ], [ 0.97874785,  0.04724697,  1       ], [ 0.94141423,  5.75699841,  1       ], [ 1.09488767, -2.95344327,  1       ], [ 0.83893633, -6.29659496,  1       ], [  0.86253551,  17.78507514,   1       ], [  0.99008129, -12.06669437,   1       ], [ 0.79058953, -7.65422179,  1       ], [  1.19487282, -12.94026043,   1       ], [  1.06841534,  27.09765151,   1       ], [  0.92929481, -11.85703612,   1       ], [ 0.83969176, -6.34221154,  1       ], [  1.53111371, -20.10468795,   1       ], [ 0.94482096, -6.60513306,  1       ], [ 1.04738517,  2.80848708,  1       ], [ 0.77281598, -5.88534891,  1       ], [ 0.68780344,  1.0415012 ,  1       ], [ 1.38930299, -3.69166132,  1       ], [ 0.70982345,  8.80982596,  1       ], [ 0.88762111, -4.30262939,  1       ], [ 0.95263296,  6.8898687 ,  1       ], [  0.79324434, -15.3292008 ,   1       ], [ 1.08616654,  8.19774983,  1       ], [  1.05053116,  10.5602157 ,   1       ], [  0.98030225,  10.01814168,   1       ], [ 0.85091403,  0.12276145,  1       ], [  0.80898073,  12.28276634,   1       ], [ 0.95238363, -0.59071497,  1       ], [ 0.90534167,  8.82677429,  1       ], [ 0.86911941,  3.81637772,  1       ], [ 0.8432487 ,  3.59828326,  1       ], [ 0.64557202, -3.81808969,  1       ], [ 1.06571671,  0.63360278,  1       ], [ 0.80574009, -5.90387075,  1       ], [ 1.15092807, -8.22861368,  1       ], [ 0.85983301, -5.88920606,  1       ], [ 0.60729069,  0.12327551,  1       ], [  0.86068999, -11.59070028,   1       ], [ 0.85885553, -2.60558168,  1       ], [ 0.95242344, -1.21738824,  1       ], [  1.2469052 , -13.37026255,   1       ], [  1.12910036, -27.09012367,   1       ], [ 1.34237667, -6.52373641,  1       ], [ 1.17850351, -3.87186046,  1       ], [  1.04190231, -16.35047672,   1       ], [  1.07120976, -18.34309732,   1       ], [  0.96837425, -11.93397366,   1       ], [ 0.91520347,  0.33519527,  1       ], [ 1.12158918,  1.07530279,  1       ], [  1.22635367,  14.74324592,   1       ], [  1.04599829,  13.49739817,   1       ], [  1.18056149, -16.23497574,   1       ], [ 1.10154815, -7.31876064,  1       ], [ 1.27910346,  4.24224912,  1       ], [ 1.0556853 ,  7.79754703,  1       ], [ 0.74162487,  8.32687391,  1       ], [ 1.06134853, -7.17945456,  1       ], [ 1.28264159, -4.84678028,  1       ], [ 1.13868585,  0.1432825 ,  1       ], [ 0.75740564, -8.7072825 ,  1       ], [ 1.10286004, -1.26749937,  1       ], [  1.10407127, -10.79335839,   1       ], [  1.27358663,  10.6799301 ,   1       ], [ 0.82907062,  2.07367224,  1       ], [  0.75935834, -27.34603132,   1       ], [ 1.21559108,  1.92497181,  1       ], [ 0.99804664,  2.12121452,  1       ], [  0.79901981,  10.59063023,   1       ], [ 1.31271221, -4.50166135,  1       ], [ 1.0888381 , -3.25973405,  1       ], [  1.00170661, -14.42314285,   1       ], [ 1.25330409,  6.99368742,  1       ], [ 1.37153985, -4.92014053,  1       ], [ 0.89622604,  5.60893236,  1       ], [  1.01578037, -21.47573735,   1       ], [ 1.24905597,  3.80230553,  1       ], [  0.79112116, -11.6046266 ,   1       ], [ 0.84667732,  9.64974017,  1       ], [ 1.16807303, -3.80398551,  1       ], [ 1.18981166, -4.56958697,  1       ], [ 0.87873754,  6.91159546,  1       ], [  1.06568382,  10.09626184,   1       ], [ 1.2242415 ,  8.05490123,  1       ], [  0.9797915 ,  14.33591989,   1       ], [ 1.08147564,  3.2066683 ,  1       ], [ 1.23100365, -2.61628299,  1       ], [ 1.18487157,  1.96264358,  1       ], [  1.18514135, -13.58569804,   1       ], [  1.06662911, -11.19852886,   1       ], [ 0.93330874, -8.76657661,  1       ], [  1.07916364, -21.36908792,   1       ], [ 0.67508356,  6.89958046,  1       ], [ 0.86775105,  6.95527478,  1       ], [  1.6259783 , -28.69550786,   1       ], [ 0.85058789, -1.17592996,  1       ], [ 0.83646383, -8.60124687,  1       ], [ 1.12986573, -4.40574183,  1       ], [  0.88960861,  16.55283489,   1       ], [  1.09102541, -12.99936741,   1       ], [  1.19497691, -10.76108289,   1       ], [ 1.07086855, -5.12382368,  1       ], [ 1.08761425, -3.04798417,  1       ], [  1.30719003, -14.22071349,   1       ], [ 0.69881192, -2.24210297,  1       ], [  1.05179142, -10.78317264,   1       ], [ 1.15844769,  5.10134028,  1       ], [ 0.95518768, -0.9566366 ,  1       ], [  0.81368811, -13.94996   ,   1       ], [ 1.13339459,  9.55073692,  1       ], [  1.39316798, -18.56125664,   1       ], [  1.08418725,  26.91338535,   1       ], [  0.65740885,  12.56864718,   1       ], [ 1.14639349,  8.10148036,  1       ], [ 1.11017231, -5.34822793,  1       ], [ 1.01779817, -5.69424865,  1       ], [ 1.10517044, -4.6188217 ,  1       ], [ 0.92796013, -6.23292921,  1       ], [  0.81078775, -12.75656439,   1       ], [ 0.97570253, -3.62474596,  1       ], [ 1.3388846 ,  3.30687276,  1       ], [ 0.79088371,  5.65630108,  1       ], [  0.84571857, -14.73899128,   1       ], [ 1.06010516,  0.40985395,  1       ], [ 1.03712289, -3.63867275,  1       ], [ 1.0456184 , -0.74178146,  1       ], [ 1.0742478 , -8.75143053,  1       ], [  1.13565605, -12.40233464,   1       ], [  0.69872069,  12.33023887,   1       ], [  1.16949206, -10.53890339,   1       ], [  0.91136673, -17.22130521,   1       ], [ 1.27348362, -0.61768239,  1       ], [ 0.99775415,  7.30221357,  1       ], [  0.75252588, -10.93702027,   1       ], [ 1.04975703, -9.13603757,  1       ], [ 0.60403797, -1.36154284,  1       ], [ 0.86110539, -1.69258187,  1       ], [ 1.24043694,  2.53860931,  1       ], [ 1.05129963,  6.69799857,  1       ], [ 1.21404727,  4.65180615,  1       ], [ 0.97347144, -4.28011104,  1       ], [ 1.27303012, -0.78160273,  1       ], [ 0.55763832, -4.30864973,  1       ], [ 1.04799936,  9.69673976,  1       ], [ 1.02160937,  6.85262234,  1       ], [  0.82393688, -12.03031379,   1       ], [ 0.90433481,  2.04443496,  1       ], [  0.87077737, -13.03381489,   1       ], [ 1.01954648,  5.0205305 ,  1       ], [  1.23746334, -11.96491761,   1       ], [ 0.99648959,  0.87705781,  1       ], [ 1.09764531,  5.34203624,  1       ], [ 1.11986062, -7.95751792,  1       ], [ 0.56969435, -4.4455656 ,  1       ], [ 1.17176388,  1.66200449,  1       ], [  0.99720291,  13.74328862,   1       ], [ 1.28369033, -8.77524448,  1       ], [  1.05131794,  14.68755857,   1       ], [ 0.90584798, -3.04417859,  1       ], [ 0.45749342,  1.68247612,  1       ], [ 1.14726388,  2.59404984,  1       ], [ 1.19183662,  2.09802358,  1       ], [ 0.79267007,  4.14916292,  1       ], [ 0.84819875,  2.47001018,  1       ], [ 0.90884816,  2.95895359,  1       ], [ 1.07532825,  6.36402513,  1       ], [ 1.14416568,  2.34229759,  1       ], [ 0.69007387, -2.0036294 ,  1       ], [  1.13239872, -11.42878435,   1       ], [ 0.7940586 ,  7.47097818,  1       ], [ 0.83270025, -1.44909913,  1       ], [ 0.91497114,  7.50587573,  1       ], [ 0.87623615, -6.28543383,  1       ], [ 1.03328623,  3.41545941,  1       ], [ 1.30430223,  6.22058698,  1       ], [ 1.25517965, -8.03978447,  1       ], [ 0.96862517, -4.86265128,  1       ], [ 1.16681976,  5.37331176,  1       ], [ 1.02801788,  0.04089125,  1       ], [ 1.68760573, -8.28554687,  1       ], [  0.86934767, -12.13315993,   1       ], [ 1.10375821,  6.57254252,  1       ], [ 1.02817549,  3.72120799,  1       ], [ 1.203623 , -2.6927178,  1      ], [ 0.73425093, -7.70608653,  1       ], [ 0.88995898,  0.34190988,  1       ], [ 0.92384163,  1.8484438 ,  1       ], [ 0.68195189, -1.31797592,  1       ], [ 1.10606051, -4.67117448,  1       ], [ 1.05399987, -9.76631291,  1       ], [  1.2213585 ,  17.67676604,   1       ], [ 0.88144114,  2.37677021,  1       ], [ 0.90770938, -0.45895203,  1       ], [ 1.05838894, -4.56236209,  1       ], [  0.59625858, -17.75198463,   1       ], [  1.1120207 ,  27.23342722,   1       ], [ 0.59255091,  6.56915487,  1       ], [  0.64044019, -17.05465377,   1       ], [ 0.90357355, -6.8738099 ,  1       ], [ 0.91388616,  7.74247643,  1       ], [  1.04183359,  10.07335315,   1       ], [ 0.87290355, -6.19744728,  1       ], [ 0.79432459, -3.4559358 ,  1       ], [  0.97328905,  15.1911051 ,   1       ], [ 1.32941789, -1.69463014,  1       ], [ 0.94467068,  8.4541718 ,  1       ], [  0.93485197,  12.78747914,   1       ], [ 0.93693236,  2.16106736,  1       ], [  1.31860792, -12.62194572,   1       ], [  1.27973939, -10.71878284,   1       ], [ 1.16702534, -3.35736752,  1       ], [ 1.05721007, -1.36863278,  1       ], [  1.03745953, -11.27303764,   1       ], [ 1.14110264,  4.19627477,  1       ], [ 0.68721351,  7.55030167,  1       ], [  1.21940751,  20.51668451,   1       ], [  1.11739936,  11.0907168 ,   1       ], [ 0.84869177, -7.4773004 ,  1       ], [  1.14704155,  13.73903422,   1       ], [ 0.96255815,  5.06939395,  1       ], [ 1.1596224 , -6.22100735,  1       ], [ 1.2401542 , -3.74470933,  1       ], [ 0.71915937,  0.04906602,  1       ], [ 0.90169146, -8.22834825,  1       ], [ 0.71737121,  9.11909425,  1       ], [ 0.60605874,  9.32464271,  1       ], [ 0.82898041, -7.01801251,  1       ], [ 0.99253247, -2.51510682,  1       ], [ 1.00194493, -3.81437544,  1       ], [ 0.6308927 ,  0.71678613,  1       ], [ 1.07749796,  6.32219797,  1       ], [ 0.98343308,  3.74182255,  1       ], [ 0.87012779, -6.33027871,  1       ], [ 0.90466689, -9.03469684,  1       ], [ 0.61315636, -5.49372984,  1       ], [ 0.94035698, -7.74154757,  1       ], [ 0.73358478, -5.58490803,  1       ], [  0.91862637, -10.68452574,   1       ], [ 0.77172426,  2.38324356,  1       ], [ 1.05400038,  8.15134669,  1       ], [ 1.01520744,  3.87712137,  1       ], [  1.21092516,  10.79581427,   1       ], [ 0.85483032, -5.53961856,  1       ], [ 1.53630144, -1.82448841,  1       ], [ 1.1021962 ,  0.55335337,  1       ], [ 1.01710277, -6.6206261 ,  1       ], [ 1.0834897 ,  8.54499395,  1       ], [  1.06844772, -16.01399787,   1       ], [  0.63724362, -13.05723649,   1       ], [ 1.05564651, -8.4589414 ,  1       ], [  1.08016975,  10.68382362,   1       ], [ 1.59850093,  1.08716624,  1       ], [ 1.01273973,  4.05435593,  1       ], [ 1.235335  ,  8.35970177,  1       ], [ 0.85483957, -2.37719616,  1       ], [  0.95335837, -13.54334931,   1       ], [ 1.02212932, -1.95665435,  1       ], [ 0.78293529, -4.3003606 ,  1       ], [  1.22959069,  16.33159172,   1       ], [ 0.92837711, -1.87552469,  1       ], [  1.28328233, -10.14233973,   1       ], [ 1.03036382,  6.07661576,  1       ], [  1.12087032,  10.38987475,   1       ], [  0.77892799,  12.34361109,   1       ], [ 0.78702956, -4.5192688 ,  1       ], [  0.95666115, -20.9058371 ,   1       ], [  0.99292677, -10.60412087,   1       ], [ 1.00279766, -6.23278471,  1       ], [  1.13750163,  13.37435579,   1       ], [ 0.77879497, -8.52836163,  1       ], [ 1.21115621,  6.57259301,  1       ], [ 0.91721498, -6.54536537,  1       ], [  0.77842342, -12.04332177,   1       ], [ 1.04278136,  3.67407692,  1       ], [ 1.24412178,  2.29617743,  1       ], [ 0.80034838,  6.7325109 ,  1       ], [ 1.18065584,  6.66943275,  1       ], [ 0.90828311,  7.08800132,  1       ], [ 0.70854798,  6.07350332,  1       ], [  0.97652329, -14.61363623,   1       ], [ 0.63023726, -4.46507013,  1       ], [ 1.6290221 , -8.30061878,  1       ], [ 1.01831112,  6.64804161,  1       ], [  0.94854753, -15.36302854,   1       ], [ 0.90088326,  0.29299092,  1       ], [  0.9015652 ,  12.55032668,   1       ], [  1.03967649,  10.95364   ,   1       ], [  1.14872969, -10.6038036 ,   1       ], [ 0.99427371,  1.09913535,  1       ], [ 1.18877877, -2.2656108 ,  1       ], [  1.03747731,  14.69685239,   1       ], [ 1.04439174,  1.48678701,  1       ], [ 0.63571867,  2.4478986 ,  1       ], [ 1.23605739,  0.8568751 ,  1       ], [ 0.86502111,  6.42912229,  1       ], [ 0.98793362, -8.71816235,  1       ], [ 0.88478959,  4.03211761,  1       ], [ 1.1384563 ,  8.38170492,  1       ], [ 1.08698976, -7.13387924,  1       ], [ 0.51972279, -6.33117378,  1       ], [ 0.9124269 , -0.94203435,  1       ], [  0.96195336,  17.41551962,   1       ], [  1.30754593,  10.18696367,   1       ], [ 0.98368953, -2.16329401,  1       ], [ 0.93480622,  0.75048125,  1       ], [  1.02407254,  13.61371019,   1       ], [  0.87630042,  18.44157396,   1       ], [  1.08464527, -10.00165461,   1       ], [ 0.83045485,  3.04908066,  1       ], [ 1.18513196,  3.15824441,  1       ], [ 0.67127936, -8.75780259,  1       ], [ 0.95780404,  4.88044345,  1       ], [  1.07110392, -10.13584605,   1       ], [ 0.95468773,  7.55040328,  1       ], [ 0.73143137,  1.64770564,  1       ], [  0.84061971,  13.17968246,   1       ], [ 1.42027777, -4.35614245,  1       ], [ 1.05816901,  8.93649623,  1       ], [  1.05681925, -20.67069914,   1       ], [  0.61699871,  12.9787793 ,   1       ], [  0.8803742 ,  15.55417404,   1       ], [ 0.94289261, -2.11654854,  1       ], [  1.07737015, -11.3220557 ,   1       ], [ 1.10495478,  6.02255451,  1       ], [ 1.06283805,  1.43397068,  1       ], [ 1.46950154, -5.70922579,  1       ], [  0.94107194,  12.54393708,   1       ], [  1.18303169, -21.52983619,   1       ], [  1.11887241, -24.94595881,   1       ], [ 1.4097549 ,  0.62317308,  1       ], [ 1.52199926, -8.32295658,  1       ], [  1.25859348,  21.67215916,   1       ], [  1.36788897,  15.78128905,   1       ], [  1.02482304,  14.59689188,   1       ], [  0.85159641, -10.3905101 ,   1       ], [ 1.07881448,  7.03752613,  1       ], [  1.20899516,  13.17971493,   1       ], [  1.0153463 ,  19.36689633,   1       ], [ 0.99021996,  6.02350291,  1       ], [  0.84065449, -11.37562914,   1       ], [ 0.74076339,  1.77947469,  1       ], [ 1.25307262, -9.44982475,  1       ], [ 1.03625968, -6.07610822,  1       ], [  1.08870434, -25.19145599,   1       ], [ 1.28770623,  7.68637723,  1       ], [ 0.99868284,  8.28738598,  1       ], [ 1.059997  , -3.91079413,  1       ], [ 0.53527098,  3.26921242,  1       ], [  0.83629239,  18.78079659,   1       ], [ 0.98377912,  1.36898885,  1       ], [ 0.86948059, -3.04545922,  1       ], [ 0.99955722,  1.51137303,  1       ], [ 0.96384416,  6.46433039,  1       ], [ 0.91465909, -9.82214473,  1       ], [  0.85148831, -18.29945237,   1       ], [  0.88268222,  18.11902021,   1       ], [ 1.53983256, -6.85673121,  1       ], [ 0.82256262,  2.76717299,  1       ], [  1.23400858, -15.32269447,   1       ], [ 0.55715858,  3.21328803,  1       ], [  0.91917337,  12.7119543 ,   1       ], [ 1.30750478,  3.33867324,  1       ], [ 1.06585467,  5.87625845,  1       ], [  0.67497361,  11.42917682,   1       ], [  1.00511065,  18.1927816 ,   1       ], [ 1.21601819,  8.65975744,  1       ], [  1.051607 , -11.0155722,   1      ], [ 1.00065631, -7.08140064,  1       ], [ 1.01363553,  6.13833429,  1       ], [ 1.12092609,  1.52184783,  1       ], [ 1.02006569,  2.46758632,  1       ], [ 0.84311223,  9.36497278,  1       ], [  1.01444283,  14.56475176,   1       ], [  1.00051842,  13.3619887 ,   1       ], [ 1.21981054, -6.60871251,  1       ], [ 0.71720581, -9.39999475,  1       ], [ 1.09957029,  4.79416197,  1       ], [ 0.76572589,  6.22805318,  1       ], [ 1.07707224,  2.2264148 ,  1       ], [ 0.67119984,  1.29277711,  1       ], [ 0.97826096, -5.06230634,  1       ], [ 1.17116846, -7.65284505,  1       ], [ 0.94808079,  2.85508498,  1       ], [ 1.03758626,  2.9256645 ,  1       ], [  0.892548  ,  12.25159874,   1       ], [ 1.07870416,  6.68298563,  1       ], [ 1.01871879,  0.58188053,  1       ], [  0.79426053,  16.17428266,   1       ], [ 0.83761159,  8.91562854,  1       ], [ 0.9279927 ,  6.04111821,  1       ], [ 1.32221161,  6.35136852,  1       ], [ 1.34639172,  1.02874338,  1       ], [ 1.02693717,  4.89107032,  1       ], [ 1.02757583,  0.9038895 ,  1       ], [ 1.02738144,  1.86691939,  1       ], [  0.99891948,  11.52047194,   1       ], [ 1.17397808,  2.51207966,  1       ], [  1.43204755,  14.00683394,   1       ], [ 1.05414937, -4.26757614,  1       ], [ 0.94248259, -2.30110696,  1       ], [  1.01076449,  16.95686939,   1       ], [ 1.35488762, -1.67690144,  1       ], [  0.83595234, -13.22264357,   1       ], [ 1.03068003, -1.33747755,  1       ], [  0.89815873, -17.44461194,   1       ], [  0.98488853,  16.01131153,   1       ], [ 1.22907883,  7.68448609,  1       ], [  0.79964037,  11.33377942,   1       ], [ 0.90030943, -6.23742019,  1       ], [ 1.33453388, -8.75849334,  1       ], [ 0.77320853, -5.30680951,  1       ], [ 0.97620205, -7.48258271,  1       ], [ 1.02994886,  9.94335529,  1       ], [  1.26105368, -10.98957679,   1       ], [ 1.19121251,  5.43898031,  1       ], [ 1.29707015, -2.67841811,  1       ], [ 0.78024158, -1.97580943,  1       ], [  0.68726194,  13.10137058,   1       ], [ 0.67570942, -4.29441944,  1       ], [  0.74200264,  23.38174543,   1       ], [ 0.9782207 ,  4.09158209,  1       ], [  0.58137588,  25.53557998,   1       ], [  1.46606791,  13.72841455,   1       ], [ 0.87356464, -0.04858455,  1       ], [ 1.1893091 , -1.12792634,  1       ], [ 0.90364144, -8.91591674,  1       ], [ 1.21379884, -2.72929419,  1       ], [ 0.89889178,  2.04329127,  1       ], [ 0.88649215, -5.11405051,  1       ], [ 0.84740461, -3.40334836,  1       ], [ 0.92311012,  0.59413095,  1       ], [ 1.14370226,  3.42707869,  1       ], [  1.01806156, -28.31319089,   1       ], [ 0.97369722,  6.33894807,  1       ], [  0.95803096,  17.02707756,   1       ], [ 1.30041618, -3.98444434,  1       ], [ 0.96317352,  1.55843869,  1       ], [  1.33999175, -16.69614598,   1       ], [ 1.10152092,  6.77126599,  1       ], [ 1.39429764, -5.5103621 ,  1       ], [  0.94912666,  11.39450277,   1       ], [  0.95801302,  18.55746424,   1       ], [  0.85253869, -10.59406739,   1       ], [ 1.05826928, -0.11320141,  1       ], [  1.19720575, -15.55665161,   1       ], [  0.69641881, -10.08327574,   1       ], [ 1.14883098, -0.87937816,  1       ], [ 1.11735134,  5.57742498,  1       ], [ 1.10002593, -2.02013865,  1       ], [  0.95228193, -21.79625121,   1       ], [ 1.12831437,  4.18244437,  1       ], [ 0.93871806, -2.29042927,  1       ], [ 0.95499765, -7.47673766,  1       ], [  0.80315582,  13.87745681,   1       ], [  1.33382549,  16.24074151,   1       ], [  0.7641248 , -11.00348197,   1       ], [  0.96610931,  14.08885827,   1       ], [  1.12114646,  14.19486777,   1       ], [  0.91439849, -12.10402404,   1       ], [  1.01649758,  20.76715361,   1       ], [ 0.71758574, -4.19999538,  1       ], [ 0.99066992, -8.51489349,  1       ], [ 1.06855771,  8.09310354,  1       ], [ 1.02473067,  9.0764394 ,  1       ], [ 0.77057749, -4.39503371,  1       ], [  1.23448862, -13.38362438,   1       ], [ 0.9871871 ,  5.66665564,  1       ], [ 1.20596869, -4.52780692,  1       ], [ 1.09349925,  4.23890778,  1       ], [  0.82285669, -17.78200035,   1       ], [ 0.99484223,  8.14402711,  1       ]]\n",
    "updated = np.array(updatedlist)\n",
    "\n",
    "# Import numpy package\n",
    "import numpy as np\n",
    "\n",
    "# Create np_baseball (3 cols)\n",
    "np_baseball = np.array(baseball)\n",
    "\n",
    "# Print out addition of np_baseball and updated\n",
    "print(np_baseball + updated)\n",
    "\n",
    "# Create numpy array: conversion\n",
    "conversion = np.array([0.0254, 0.453592, 1])\n",
    "\n",
    "# Print out product of np_baseball and conversion\n",
    "print(np_baseball * conversion)"
   ]
  },
  {
   "cell_type": "markdown",
   "metadata": {},
   "source": [
    "### Average versus median"
   ]
  },
  {
   "cell_type": "code",
   "execution_count": 38,
   "metadata": {},
   "outputs": [
    {
     "name": "stdout",
     "output_type": "stream",
     "text": [
      "73.6896551724138\n",
      "74.0\n"
     ]
    }
   ],
   "source": [
    "# np_baseball is available\n",
    "np_baseball = np.array([[  74.  ,  180.  ,   22.99], [  74.  ,  215.  ,   34.69], [  72.  ,  210.  ,   30.78], [  72.  ,  210.  ,   35.43], [  73.  ,  188.  ,   35.71], [  69.  ,  176.  ,   29.39], [  69.  ,  209.  ,   30.77], [  71.  ,  200.  ,   35.07], [  76.  ,  231.  ,   30.19], [  71.  ,  180.  ,   27.05], [  73.  ,  188.  ,   23.88], [  73.  ,  180.  ,   26.96], [  74.  ,  185.  ,   23.29], [  74.  ,  160.  ,   26.11], [  69.  ,  180.  ,   27.55], [  70.  ,  185.  ,   34.27], [  73.  ,  189.  ,   27.99], [  75.  ,  185.  ,   22.38], [  78.  ,  219.  ,   22.89], [  79.  ,  230.  ,   25.76], [  76.  ,  205.  ,   36.33], [  74.  ,  230.  ,   31.17], [  76.  ,  195.  ,   32.31], [  72.  ,  180.  ,   31.03], [  71.  ,  192.  ,   29.26], [  75.  ,  225.  ,   29.47], [  77.  ,  203.  ,   32.46], [  74.  ,  195.  ,   35.67], [  73.  ,  182.  ,   25.89], [  74.  ,  188.  ,   26.55], [  78.  ,  200.  ,   24.17], [  73.  ,  180.  ,   26.69], [  75.  ,  200.  ,   25.13], [  73. ,  200. ,   27.9], [  75.  ,  245.  ,   30.17], [  75.  ,  240.  ,   31.36], [  74.  ,  215.  ,   30.99], [  69.  ,  185.  ,   32.24], [  71.  ,  175.  ,   27.61], [  74. ,  199. ,   28.2], [  73.  ,  200.  ,   28.85], [  73.  ,  215.  ,   24.21], [  76.  ,  200.  ,   22.02], [  74.  ,  205.  ,   24.97], [  74.  ,  206.  ,   26.78], [  70.  ,  186.  ,   32.51], [  72.  ,  188.  ,   30.95], [  77.  ,  220.  ,   33.09], [  74.  ,  210.  ,   32.74], [  70.  ,  195.  ,   30.69], [  73.  ,  200.  ,   23.45], [  75.  ,  200.  ,   24.94], [  76.  ,  212.  ,   24.09], [  76.  ,  224.  ,   35.23], [  78.  ,  210.  ,   27.43], [  74. ,  205. ,   30.6], [  74.  ,  220.  ,   27.94], [  76.  ,  195.  ,   29.99], [  77.  ,  200.  ,   25.17], [  81.  ,  260.  ,   24.13], [  78.  ,  228.  ,   30.46], [  75.  ,  270.  ,   25.96], [  77.  ,  200.  ,   22.55], [  75.  ,  210.  ,   26.29], [  76.  ,  190.  ,   24.79], [  74.  ,  220.  ,   31.74], [  72.  ,  180.  ,   23.92], [  72.  ,  205.  ,   25.33], [  75.  ,  210.  ,   24.02], [  73. ,  220. ,   23.7], [  73.  ,  211.  ,   31.59], [  73.  ,  200.  ,   29.95], [  70.  ,  180.  ,   23.64], [  70.  ,  190.  ,   32.33], [  70.  ,  170.  ,   23.13], [  76. ,  230. ,   26.6], [  68.  ,  155.  ,   26.46], [  71.  ,  185.  ,   25.75], [  72.  ,  185.  ,   27.51], [  75.  ,  200.  ,   25.11], [  75.  ,  225.  ,   32.51], [  75.  ,  225.  ,   34.67], [  75.  ,  220.  ,   31.06], [  68. ,  160. ,   29.1], [  74.  ,  205.  ,   28.66], [  78.  ,  235.  ,   28.35], [  71.  ,  250.  ,   33.77], [  73.  ,  210.  ,   30.89], [  76.  ,  190.  ,   37.74], [  74.  ,  160.  ,   24.14], [  74.  ,  200.  ,   25.71], [  79.  ,  205.  ,   24.41], [  75.  ,  222.  ,   24.32], [  73.  ,  195.  ,   28.09], [  76.  ,  205.  ,   33.31], [  74. ,  220. ,   36.4], [  74.  ,  220.  ,   37.36], [  73.  ,  170.  ,   31.61], [  72.  ,  185.  ,   25.14], [  74.  ,  195.  ,   30.29], [  73.  ,  220.  ,   36.37], [  74.  ,  230.  ,   34.89], [  72.  ,  180.  ,   23.79], [  73.  ,  220.  ,   27.96], [  69.  ,  180.  ,   23.54], [  72.  ,  180.  ,   31.37], [  73.  ,  170.  ,   31.29], [  75.  ,  210.  ,   33.01], [  75. ,  215. ,   25.1], [  73.  ,  200.  ,   31.28], [  72.  ,  213.  ,   34.75], [  72.  ,  180.  ,   23.46], [  76.  ,  192.  ,   25.37], [  74.  ,  235.  ,   29.57], [  72.  ,  185.  ,   27.33], [  77.  ,  235.  ,   40.29], [  74.  ,  210.  ,   40.58], [  77.  ,  222.  ,   26.79], [  75.  ,  210.  ,   32.55], [  76.  ,  230.  ,   26.27], [  80.  ,  220.  ,   29.47], [  74.  ,  180.  ,   29.07], [  74.  ,  190.  ,   23.15], [  75. ,  200. ,   24.9], [  78.  ,  210.  ,   23.29], [  73.  ,  194.  ,   31.18], [  73.  ,  180.  ,   26.56], [  74.  ,  190.  ,   25.03], [  75.  ,  240.  ,   35.66], [  76.  ,  200.  ,   29.64], [  71.  ,  198.  ,   30.74], [  73.  ,  200.  ,   28.43], [  74.  ,  195.  ,   33.77], [  76.  ,  210.  ,   40.97], [  76.  ,  220.  ,   23.52], [  74.  ,  190.  ,   28.19], [  73.  ,  210.  ,   26.84], [  74.  ,  225.  ,   26.16], [  70.  ,  180.  ,   28.67], [  72. ,  185. ,   24.2], [  73.  ,  170.  ,   27.08], [  73.  ,  185.  ,   24.76], [  73.  ,  185.  ,   23.36], [  73.  ,  180.  ,   25.35], [  71.  ,  178.  ,   24.63], [  74.  ,  175.  ,   24.02], [  74.  ,  200.  ,   24.58], [  72.  ,  204.  ,   30.82], [  74.  ,  211.  ,   32.89], [  71.  ,  190.  ,   33.33], [  74.  ,  210.  ,   33.52], [  73.  ,  190.  ,   36.24], [  75. ,  190. ,   28.5], [  75.  ,  185.  ,   29.42], [  79.  ,  290.  ,   26.61], [  73.  ,  175.  ,   23.79], [  75.  ,  185.  ,   24.96], [  76.  ,  200.  ,   25.93], [  74.  ,  220.  ,   22.81], [  76.  ,  170.  ,   25.29], [  78.  ,  220.  ,   26.07], [  74.  ,  190.  ,   26.09], [  76.  ,  220.  ,   23.23], [  72.  ,  205.  ,   33.49], [  74.  ,  200.  ,   31.84], [  76. ,  250. ,   42.3], [  74.  ,  225.  ,   35.82], [  75.  ,  215.  ,   35.27], [  78.  ,  210.  ,   26.81], [  75.  ,  215.  ,   38.49], [  72.  ,  195.  ,   32.68], [  74.  ,  200.  ,   34.93], [  72.  ,  194.  ,   26.26], [  74.  ,  220.  ,   27.56], [  70.  ,  180.  ,   23.98], [  71.  ,  180.  ,   29.73], [  70.  ,  170.  ,   31.33], [  75.  ,  195.  ,   27.13], [  71.  ,  180.  ,   26.75], [  71.  ,  170.  ,   27.09], [  73.  ,  206.  ,   29.23], [  72.  ,  205.  ,   28.88], [  71.  ,  200.  ,   33.01], [  73.  ,  225.  ,   30.57], [  72.  ,  201.  ,   31.24], [  75.  ,  225.  ,   24.95], [  74.  ,  233.  ,   24.62], [  74.  ,  180.  ,   24.98], [  75.  ,  225.  ,   26.22], [  73.  ,  180.  ,   26.04], [  77.  ,  220.  ,   26.45], [  73.  ,  180.  ,   25.25], [  76.  ,  237.  ,   27.77], [  75.  ,  215.  ,   35.16], [  74. ,  190. ,   37.1], [  76.  ,  235.  ,   34.51], [  75.  ,  190.  ,   29.28], [  73.  ,  180.  ,   32.14], [  71.  ,  165.  ,   23.94], [  76.  ,  195.  ,   27.45], [  75.  ,  200.  ,   28.77], [  72.  ,  190.  ,   23.58], [  71.  ,  190.  ,   27.56], [  77.  ,  185.  ,   24.01], [  73.  ,  185.  ,   26.52], [  74.  ,  205.  ,   35.54], [  71.  ,  190.  ,   29.43], [  72. ,  205. ,   29.9], [  74. ,  206. ,   32.7], [  75. ,  220. ,   28.8], [  73.  ,  208.  ,   32.82], [  72.  ,  170.  ,   24.36], [  75.  ,  195.  ,   32.68], [  75.  ,  210.  ,   31.59], [  74.  ,  190.  ,   33.32], [  72.  ,  211.  ,   32.97], [  74.  ,  230.  ,   32.72], [  71.  ,  170.  ,   22.55], [  70.  ,  185.  ,   27.45], [  74.  ,  185.  ,   38.23], [  77.  ,  241.  ,   31.14], [  77.  ,  225.  ,   34.71], [  75.  ,  210.  ,   26.13], [  75.  ,  175.  ,   24.43], [  78.  ,  230.  ,   23.76], [  75.  ,  200.  ,   26.92], [  76.  ,  215.  ,   25.85], [  73.  ,  198.  ,   30.16], [  75.  ,  226.  ,   25.03], [  75.  ,  278.  ,   24.21], [  79.  ,  215.  ,   26.51], [  77.  ,  230.  ,   26.36], [  76.  ,  240.  ,   30.88], [  71.  ,  184.  ,   32.57], [  75.  ,  219.  ,   37.68], [  74.  ,  170.  ,   37.25], [  69.  ,  218.  ,   35.25], [  71.  ,  190.  ,   33.95], [  76.  ,  225.  ,   32.66], [  72.  ,  220.  ,   26.68], [  72.  ,  176.  ,   25.18], [  70.  ,  190.  ,   31.39], [  72.  ,  197.  ,   33.74], [  73.  ,  204.  ,   31.42], [  71. ,  167. ,   27.5], [  72.  ,  180.  ,   24.25], [  71.  ,  195.  ,   29.78], [  73.,  220.,   30.], [  72.  ,  215.  ,   33.09], [  73.  ,  185.  ,   25.96], [  74.  ,  190.  ,   23.34], [  74.  ,  205.  ,   29.98], [  72.  ,  205.  ,   38.28], [  75.  ,  200.  ,   24.97], [  74.  ,  210.  ,   24.34], [  74.  ,  215.  ,   29.49], [  77.  ,  200.  ,   24.02], [  75.  ,  205.  ,   24.73], [  73. ,  211. ,   42.3], [  72.  ,  190.  ,   29.54], [  71.  ,  208.  ,   29.95], [  74.  ,  200.  ,   29.24], [  77. ,  210. ,   30.3], [  75.  ,  232.  ,   40.77], [  75.  ,  230.  ,   38.85], [  75.  ,  210.  ,   22.31], [  78.  ,  220.  ,   25.44], [  78.  ,  210.  ,   21.78], [  74.  ,  202.  ,   22.64], [  76.  ,  212.  ,   26.11], [  78.  ,  225.  ,   27.55], [  76.  ,  170.  ,   24.63], [  70.  ,  190.  ,   23.58], [  72.  ,  200.  ,   30.73], [  80.  ,  237.  ,   32.17], [  74.  ,  220.  ,   30.43], [  74.  ,  170.  ,   23.27], [  71.  ,  193.  ,   32.51], [  70.  ,  190.  ,   25.08], [  72.  ,  150.  ,   22.41], [  71. ,  220. ,   27.9], [  74.  ,  200.  ,   34.74], [  71.  ,  190.  ,   30.79], [  72.  ,  185.  ,   25.71], [  71.  ,  185.  ,   29.26], [  74.  ,  200.  ,   21.58], [  69.  ,  172.  ,   33.36], [  76.  ,  220.  ,   24.94], [  75. ,  225. ,   20.9], [  75.  ,  190.  ,   21.52], [  76.  ,  195.  ,   25.85], [  73.  ,  219.  ,   27.27], [  76.  ,  190.  ,   26.75], [  73.  ,  197.  ,   36.03], [  77.  ,  200.  ,   30.52], [  73.  ,  195.  ,   32.55], [  72.  ,  210.  ,   29.86], [  72.  ,  177.  ,   29.58], [  77.  ,  220.  ,   30.02], [  77.  ,  235.  ,   29.16], [  71. ,  180. ,   22.3], [  74.  ,  195.  ,   22.06], [  74.  ,  195.  ,   25.65], [  73.  ,  190.  ,   25.49], [  78.  ,  230.  ,   27.86], [  75.  ,  190.  ,   23.73], [  73.  ,  200.  ,   31.78], [  70.  ,  190.  ,   23.06], [  74. ,  190. ,   26.6], [  72.  ,  200.  ,   29.39], [  73.  ,  200.  ,   26.51], [  73.  ,  184.  ,   25.08], [  75.  ,  200.  ,   25.76], [  75.  ,  180.  ,   22.52], [  74.  ,  219.  ,   25.57], [  76.  ,  187.  ,   25.43], [  73.  ,  200.  ,   34.65], [  74.  ,  220.  ,   22.68], [  75.  ,  205.  ,   21.46], [  75.  ,  190.  ,   23.47], [  72. ,  170. ,   23.1], [  73.  ,  160.  ,   29.14], [  73.  ,  215.  ,   29.77], [  72.  ,  175.  ,   23.85], [  74.  ,  205.  ,   28.88], [  78.  ,  200.  ,   24.49], [  76.  ,  214.  ,   25.19], [  73.  ,  200.  ,   27.48], [  74.  ,  190.  ,   28.31], [  75.  ,  180.  ,   26.54], [  70.  ,  205.  ,   26.77], [  75.  ,  220.  ,   23.75], [  71.  ,  190.  ,   26.41], [  72.  ,  215.  ,   36.47], [  78.  ,  235.  ,   26.06], [  75.  ,  191.  ,   27.55], [  73.  ,  200.  ,   31.28], [  73.  ,  181.  ,   29.04], [  71.  ,  200.  ,   32.95], [  75.  ,  210.  ,   26.65], [  77. ,  240. ,   27.5], [  72. ,  185. ,   30.9], [  69.  ,  165.  ,   29.09], [  73.  ,  190.  ,   36.67], [  74.  ,  185.  ,   23.44], [  72.  ,  175.  ,   29.09], [  70.  ,  155.  ,   22.89], [  75.  ,  210.  ,   25.48], [  70.  ,  170.  ,   25.84], [  72. ,  175. ,   27.2], [  72.  ,  220.  ,   25.22], [  74.  ,  210.  ,   24.67], [  73.  ,  205.  ,   39.25], [  74.  ,  200.  ,   32.17], [  76.  ,  205.  ,   32.77], [  75.  ,  195.  ,   29.83], [  80.  ,  240.  ,   31.02], [  72.  ,  150.  ,   29.73], [  75.  ,  200.  ,   28.48], [  73.  ,  215.  ,   26.51], [  74.,  202.,   26.], [  74.  ,  200.  ,   23.36], [  73. ,  190. ,   25.9], [  75. ,  205. ,   28.5], [  75.  ,  190.  ,   25.62], [  71.  ,  160.  ,   30.94], [  73.  ,  215.  ,   26.59], [  75.  ,  185.  ,   22.78], [  74.  ,  200.  ,   32.26], [  74.  ,  190.  ,   30.35], [  72.  ,  210.  ,   33.26], [  74.  ,  185.  ,   32.35], [  74. ,  220. ,   27.3], [  74.  ,  190.  ,   32.08], [  73.  ,  202.  ,   25.25], [  76.  ,  205.  ,   25.03], [  75.  ,  220.  ,   26.89], [  72.  ,  175.  ,   24.69], [  73.  ,  160.  ,   22.44], [  73.  ,  190.  ,   30.36], [  73.  ,  200.  ,   26.27], [  72. ,  229. ,   29.5], [  72.  ,  206.  ,   29.75], [  72. ,  220. ,   38.3], [  72.  ,  180.  ,   39.75], [  71.  ,  195.  ,   32.84], [  75.  ,  175.  ,   26.66], [  75.  ,  188.  ,   24.94], [  74.  ,  230.  ,   27.76], [  73.  ,  190.  ,   23.66], [  75.  ,  200.  ,   24.96], [  79.  ,  190.  ,   23.65], [  74.  ,  219.  ,   29.42], [  76.  ,  235.  ,   32.18], [  73.  ,  180.  ,   26.66], [  74.  ,  180.  ,   27.47], [  74.  ,  180.  ,   25.66], [  72.  ,  200.  ,   35.13], [  74.  ,  234.  ,   31.15], [  74.  ,  185.  ,   35.67], [  75. ,  220. ,   29.6], [  78.  ,  223.  ,   30.14], [  74.  ,  200.  ,   24.53], [  74.  ,  210.  ,   24.49], [  74.  ,  200.  ,   26.28], [  77.  ,  210.  ,   24.06], [  70.  ,  190.  ,   35.88], [  73.  ,  177.  ,   30.42], [  74.  ,  227.  ,   30.09], [  73. ,  180. ,   26.5], [  71.  ,  195.  ,   24.94], [  75. ,  199. ,   29.6], [  71.  ,  175.  ,   32.43], [  72.  ,  185.  ,   37.16], [  77.  ,  240.  ,   30.57], [  74.  ,  210.  ,   27.01], [  70.  ,  180.  ,   30.23], [  77.  ,  194.  ,   26.03], [  73.  ,  225.  ,   28.23], [  72.  ,  180.  ,   25.21], [  76.  ,  205.  ,   25.45], [  71.  ,  193.  ,   26.24], [  76.  ,  230.  ,   30.15], [  78. ,  230. ,   29.8], [  75.  ,  220.  ,   33.41], [  73.  ,  200.  ,   30.95], [  78.  ,  249.  ,   31.17], [  74.  ,  190.  ,   30.95], [  79.  ,  208.  ,   29.44], [  75.  ,  245.  ,   27.14], [  76.  ,  250.  ,   26.21], [  72.  ,  160.  ,   24.08], [  75.  ,  192.  ,   23.96], [  75.  ,  220.  ,   24.94], [  70.  ,  170.  ,   29.56], [  72.  ,  197.  ,   26.42], [  70.  ,  155.  ,   23.92], [  74.  ,  190.  ,   25.23], [  71.  ,  200.  ,   35.82], [  76.  ,  220.  ,   23.87], [  73.  ,  210.  ,   32.57], [  76.  ,  228.  ,   25.79], [  71.  ,  190.  ,   31.47], [  69.  ,  160.  ,   22.61], [  72.  ,  184.  ,   24.85], [  72.  ,  180.  ,   27.33], [  69.  ,  180.  ,   26.67], [  73.  ,  200.  ,   37.43], [  69.  ,  176.  ,   29.31], [  73.  ,  160.  ,   29.85], [  74.  ,  222.  ,   27.93], [  74.  ,  211.  ,   31.62], [  72.  ,  195.  ,   30.55], [  71.  ,  200.  ,   24.77], [  72.  ,  175.  ,   33.77], [  72.  ,  206.  ,   27.97], [  76.  ,  240.  ,   27.85], [  76.  ,  185.  ,   23.26], [  76.  ,  260.  ,   25.38], [  74.  ,  185.  ,   23.35], [  76.  ,  221.  ,   25.45], [  75.  ,  205.  ,   26.49], [  71.,  200.,   24.], [  72.  ,  170.  ,   24.16], [  71. ,  201. ,   28.1], [  73.  ,  205.  ,   25.65], [  75.  ,  185.  ,   28.58], [  76.  ,  205.  ,   32.27], [  75.  ,  245.  ,   29.86], [  71.  ,  220.  ,   25.14], [  75.  ,  210.  ,   23.03], [  74.  ,  220.  ,   30.25], [  72.  ,  185.  ,   30.67], [  73.  ,  175.  ,   27.73], [  73.  ,  170.  ,   23.34], [  73.  ,  180.  ,   25.94], [  73.  ,  200.  ,   31.56], [  76.  ,  210.  ,   34.85], [  72.  ,  175.  ,   23.98], [  76.  ,  220.  ,   23.14], [  73.  ,  206.  ,   28.99], [  73.  ,  180.  ,   25.02], [  73.  ,  210.  ,   29.85], [  75.  ,  195.  ,   27.03], [  75.  ,  200.  ,   25.15], [  77.  ,  200.  ,   27.12], [  73.  ,  164.  ,   31.63], [  72.  ,  180.  ,   32.62], [  75.  ,  220.  ,   39.79], [  70.  ,  195.  ,   34.47], [  74.  ,  205.  ,   23.47], [  72.  ,  170.  ,   25.31], [  80. ,  240. ,   27.1], [  71.  ,  210.  ,   24.35], [  71.  ,  195.  ,   23.45], [  74.  ,  200.  ,   28.24], [  74.  ,  205.  ,   28.77], [  73.  ,  192.  ,   26.53], [  75.  ,  190.  ,   25.64], [  76.  ,  170.  ,   25.83], [  73.  ,  240.  ,   38.06], [  77.  ,  200.  ,   36.38], [  72.  ,  205.  ,   25.27], [  73. ,  175. ,   27.2], [  77.  ,  250.  ,   31.59], [  76.  ,  220.  ,   29.56], [  71. ,  224. ,   35.5], [  75.  ,  210.  ,   30.35], [  73.  ,  195.  ,   24.11], [  74.  ,  180.  ,   23.29], [  77.  ,  245.  ,   31.48], [  71.  ,  175.  ,   27.23], [  72.  ,  180.  ,   24.07], [  73.  ,  215.  ,   28.68], [  69.  ,  175.  ,   27.05], [  73.  ,  180.  ,   31.15], [  70.  ,  195.  ,   31.85], [  74.  ,  230.  ,   31.68], [  76.  ,  230.  ,   34.23], [  73.  ,  205.  ,   32.01], [  73.  ,  215.  ,   25.41], [  75.  ,  195.  ,   24.73], [  73.  ,  180.  ,   25.66], [  79. ,  205. ,   24.5], [  74.  ,  180.  ,   24.38], [  73.  ,  190.  ,   26.89], [  74. ,  180. ,   24.2], [  77.  ,  190.  ,   26.97], [  75.  ,  190.  ,   25.21], [  74.  ,  220.  ,   30.46], [  73.  ,  210.  ,   28.53], [  77.  ,  255.  ,   25.75], [  73.  ,  190.  ,   31.15], [  77.  ,  230.  ,   26.48], [  74.  ,  200.  ,   26.93], [  74.  ,  205.  ,   29.55], [  73.  ,  210.  ,   34.75], [  77.  ,  225.  ,   29.71], [  74.  ,  215.  ,   29.83], [  77.  ,  220.  ,   33.57], [  75.  ,  205.  ,   28.21], [  77.  ,  200.  ,   27.54], [  75.  ,  220.  ,   26.05], [  71.  ,  197.  ,   23.64], [  74.  ,  225.  ,   24.82], [  70. ,  187. ,   29.8], [  79.  ,  245.  ,   34.71], [  72.  ,  185.  ,   29.22], [  72.  ,  185.  ,   23.96], [  70.  ,  175.  ,   23.87], [  74.  ,  200.  ,   26.77], [  74.  ,  180.  ,   23.49], [  72.  ,  188.  ,   26.77], [  73.  ,  225.  ,   24.51], [  72.  ,  200.  ,   33.23], [  74.  ,  210.  ,   31.04], [  74.  ,  245.  ,   32.02], [  76.  ,  213.  ,   31.44], [  82.  ,  231.  ,   43.47], [  74.  ,  165.  ,   28.38], [  74.  ,  228.  ,   27.81], [  70.  ,  210.  ,   24.57], [  73.  ,  250.  ,   23.34], [  73.  ,  191.  ,   27.09], [  74.  ,  190.  ,   25.14], [  77.  ,  200.  ,   27.07], [  72.  ,  215.  ,   24.02], [  76. ,  254. ,   27.6], [  73.  ,  232.  ,   27.99], [  73.  ,  180.  ,   27.56], [  72.  ,  215.  ,   28.63], [  74.  ,  220.  ,   30.99], [  74.  ,  180.  ,   26.33], [  71.  ,  200.  ,   26.97], [  72.  ,  170.  ,   22.85], [  75.  ,  195.  ,   23.19], [  74.  ,  210.  ,   23.87], [  74.  ,  200.  ,   33.98], [  77.  ,  220.  ,   28.26], [  70.  ,  165.  ,   29.12], [  71.  ,  180.  ,   26.18], [  73.  ,  200.  ,   28.03], [  76.  ,  200.  ,   23.08], [  71.  ,  170.  ,   26.24], [  75.  ,  224.  ,   26.63], [  74.  ,  220.  ,   24.21], [  72.  ,  180.  ,   23.01], [  76.  ,  198.  ,   23.13], [  79.  ,  240.  ,   23.08], [  76.  ,  239.  ,   25.13], [  73.  ,  185.  ,   24.66], [  76.  ,  210.  ,   26.03], [  78. ,  220. ,   28.7], [  75.  ,  200.  ,   25.57], [  76.  ,  195.  ,   24.65], [  72.  ,  220.  ,   25.55], [  72.  ,  230.  ,   22.27], [  73.  ,  170.  ,   24.76], [  73.  ,  220.  ,   23.98], [  75.  ,  230.  ,   27.85], [  71.  ,  165.  ,   22.14], [  76.  ,  205.  ,   27.05], [  70.  ,  192.  ,   31.45], [  75.  ,  210.  ,   32.03], [  74.  ,  205.  ,   29.95], [  75.  ,  200.  ,   23.47], [  73.  ,  210.  ,   37.21], [  71.  ,  185.  ,   25.67], [  71.  ,  195.  ,   34.69], [  72.  ,  202.  ,   30.04], [  73.  ,  205.  ,   32.52], [  73.  ,  195.  ,   24.15], [  72.  ,  180.  ,   26.86], [  69.  ,  200.  ,   27.94], [  73.  ,  185.  ,   26.63], [  78.  ,  240.  ,   27.31], [  71.  ,  185.  ,   30.55], [  73.  ,  220.  ,   40.68], [  75.  ,  205.  ,   37.27], [  76.  ,  205.  ,   25.78], [  70.  ,  180.  ,   30.98], [  74.  ,  201.  ,   28.41], [  77.  ,  190.  ,   30.01], [  75.  ,  208.  ,   31.57], [  79.  ,  240.  ,   28.81], [  72.  ,  180.  ,   24.09], [  77.  ,  230.  ,   26.47], [  73. ,  195. ,   30.5], [  75.  ,  215.  ,   23.74], [  75.  ,  190.  ,   24.49], [  75.  ,  195.  ,   26.73], [  73.  ,  215.  ,   27.01], [  73.  ,  215.  ,   39.75], [  76.  ,  220.  ,   27.16], [  77.  ,  220.  ,   25.74], [  75.  ,  230.  ,   37.43], [  70.  ,  195.  ,   39.85], [  71.  ,  190.  ,   28.62], [  71. ,  195. ,   23.9], [  75.  ,  209.  ,   25.18], [  74.  ,  204.  ,   33.53], [  69.  ,  170.  ,   33.03], [  70.  ,  185.  ,   31.35], [  75.  ,  205.  ,   22.39], [  72.  ,  175.  ,   27.99], [  75.  ,  210.  ,   27.22], [  73.  ,  190.  ,   27.49], [  72.  ,  180.  ,   27.53], [  72.  ,  180.  ,   26.26], [  72.  ,  160.  ,   25.18], [  76.  ,  235.  ,   27.12], [  75.  ,  200.  ,   27.69], [  74.  ,  210.  ,   25.69], [  69.  ,  180.  ,   28.11], [  73.  ,  190.  ,   31.21], [  72. ,  197. ,   30.8], [  72.  ,  203.  ,   30.21], [  75.  ,  205.  ,   28.06], [  77.  ,  170.  ,   26.52], [  76. ,  200. ,   23.1], [  80.  ,  250.  ,   25.02], [  77.  ,  200.  ,   26.14], [  76.  ,  220.  ,   25.38], [  79. ,  200. ,   27.6], [  71. ,  190. ,   25.5], [  75.  ,  170.  ,   24.24], [  73.  ,  190.  ,   23.32], [  76.  ,  220.  ,   31.56], [  77.  ,  215.  ,   34.19], [  73.  ,  206.  ,   36.78], [  76.  ,  215.  ,   27.73], [  70.  ,  185.  ,   34.88], [  75.,  235.,   31.], [  73.  ,  188.  ,   48.52], [  75.  ,  230.  ,   34.68], [  70.  ,  195.  ,   37.38], [  69.  ,  168.  ,   24.33], [  71. ,  190. ,   37.3], [  72.  ,  160.  ,   23.72], [  72.  ,  200.  ,   24.19], [  73. ,  200. ,   25.7], [  70.  ,  189.  ,   29.06], [  70.  ,  180.  ,   33.48], [  73.  ,  190.  ,   29.85], [  76. ,  200. ,   34.3], [  75.  ,  220.  ,   40.66], [  72. ,  187. ,   21.9], [  73.  ,  240.  ,   27.39], [  79.  ,  190.  ,   23.13], [  71.  ,  180.  ,   35.35], [  72.  ,  185.  ,   40.93], [  74.  ,  210.  ,   33.67], [  74.  ,  220.  ,   37.39], [  74.  ,  219.  ,   27.97], [  72.  ,  190.  ,   25.54], [  76.  ,  193.  ,   25.81], [  76.  ,  175.  ,   22.53], [  72.  ,  180.  ,   22.86], [  72.  ,  215.  ,   24.07], [  71. ,  210. ,   29.5], [  72.  ,  200.  ,   30.03], [  72.  ,  190.  ,   27.38], [  70.  ,  185.  ,   30.51], [  77. ,  220. ,   28.3], [  74.  ,  170.  ,   29.84], [  72.  ,  195.  ,   33.41], [  76. ,  205. ,   33.6], [  71. ,  195. ,   35.6], [  76.  ,  210.  ,   24.19], [  71.  ,  190.  ,   37.88], [  73.  ,  190.  ,   27.56], [  70.  ,  180.  ,   24.42], [  73.  ,  220.  ,   31.05], [  73.  ,  190.  ,   31.56], [  72.  ,  186.  ,   35.55], [  71.  ,  185.  ,   41.21], [  71.  ,  190.  ,   27.12], [  71.  ,  180.  ,   26.97], [  72.  ,  190.  ,   28.92], [  72.  ,  170.  ,   30.06], [  74.  ,  210.  ,   31.51], [  74.  ,  240.  ,   30.69], [  74.  ,  220.  ,   30.19], [  71.  ,  180.  ,   38.11], [  72.  ,  210.  ,   28.68], [  75.  ,  210.  ,   27.44], [  72.  ,  195.  ,   24.63], [  71.  ,  160.  ,   28.11], [  72. ,  180. ,   28.9], [  72.  ,  205.  ,   24.11], [  72.  ,  200.  ,   40.53], [  72. ,  185. ,   29.5], [  74.  ,  245.  ,   28.62], [  74.  ,  190.  ,   26.42], [  77.  ,  210.  ,   30.18], [  75.  ,  200.  ,   33.75], [  73.  ,  200.  ,   30.06], [  75.  ,  222.  ,   29.22], [  73.  ,  215.  ,   24.47], [  76.  ,  240.  ,   24.94], [  72.  ,  170.  ,   28.77], [  77.  ,  220.  ,   28.54], [  75.  ,  156.  ,   27.32], [  72.  ,  190.  ,   35.12], [  71.  ,  202.  ,   24.04], [  71.  ,  221.  ,   36.39], [  75.  ,  200.  ,   22.81], [  72. ,  190. ,   33.6], [  73.  ,  210.  ,   38.98], [  73.  ,  190.  ,   34.39], [  71.  ,  200.  ,   33.15], [  70.  ,  165.  ,   29.35], [  75.  ,  190.  ,   26.59], [  71.  ,  185.  ,   23.46], [  76.  ,  230.  ,   22.43], [  73.  ,  208.  ,   24.89], [  68.  ,  209.  ,   24.67], [  71.  ,  175.  ,   26.17], [  72.  ,  180.  ,   29.54], [  74.  ,  200.  ,   39.49], [  77.  ,  205.  ,   34.08], [  72.  ,  200.  ,   30.52], [  76.  ,  250.  ,   28.77], [  78.  ,  210.  ,   33.75], [  81.  ,  230.  ,   32.69], [  72.  ,  244.  ,   22.59], [  73.  ,  202.  ,   37.04], [  76. ,  240. ,   22.7], [  72. ,  200. ,   25.6], [  72.  ,  215.  ,   27.23], [  74.  ,  177.  ,   25.74], [  76.  ,  210.  ,   30.29], [  73.  ,  170.  ,   26.72], [  76. ,  215. ,   33.9], [  75.  ,  217.  ,   29.86], [  70.  ,  198.  ,   36.13], [  71.  ,  200.  ,   27.54], [  74.  ,  220.  ,   31.49], [  72. ,  170. ,   28.1], [  73.  ,  200.  ,   34.07], [  76.  ,  230.  ,   27.28], [  76. ,  231. ,   30.8], [  73. ,  183. ,   28.2], [  71. ,  192. ,   27.9], [  68.  ,  167.  ,   28.26], [  71.  ,  190.  ,   30.96], [  71.  ,  180.  ,   24.18], [  74.  ,  180.  ,   27.52], [  77.  ,  215.  ,   27.78], [  69.  ,  160.  ,   26.25], [  72. ,  205. ,   29.5], [  76.  ,  223.  ,   30.39], [  75.  ,  175.  ,   23.18], [  76.  ,  170.  ,   25.81], [  75.  ,  190.  ,   23.01], [  76.  ,  240.  ,   31.72], [  72.  ,  175.  ,   44.28], [  74.  ,  230.  ,   36.91], [  76.  ,  223.  ,   26.54], [  74.  ,  196.  ,   29.27], [  72.  ,  167.  ,   30.51], [  75.  ,  195.  ,   31.28], [  78.  ,  190.  ,   26.51], [  77.  ,  250.  ,   34.87], [  70.  ,  190.  ,   39.28], [  72.  ,  190.  ,   28.56], [  79.  ,  190.  ,   27.82], [  74.  ,  170.  ,   25.94], [  71.  ,  160.  ,   28.53], [  68.  ,  150.  ,   22.11], [  77.  ,  225.  ,   27.71], [  75.  ,  220.  ,   37.38], [  71.  ,  209.  ,   30.67], [  72.  ,  210.  ,   30.48], [  70.  ,  176.  ,   27.12], [  72.  ,  260.  ,   22.81], [  72.  ,  195.  ,   24.46], [  73.  ,  190.  ,   34.73], [  72.  ,  184.  ,   36.53], [  74.  ,  180.  ,   24.53], [  72.  ,  195.  ,   27.17], [  72. ,  195. ,   26.9], [  75.  ,  219.  ,   33.67], [  72.  ,  225.  ,   29.14], [  73.  ,  212.  ,   32.61], [  74.  ,  202.  ,   33.87], [  72.  ,  185.  ,   24.41], [  78.  ,  200.  ,   24.94], [  75.  ,  209.  ,   27.36], [  72.  ,  200.  ,   26.33], [  74.  ,  195.  ,   25.72], [  75. ,  228. ,   28.7], [  75.  ,  210.  ,   28.53], [  76.  ,  190.  ,   26.07], [  74.  ,  212.  ,   27.31], [  74.  ,  190.  ,   23.26], [  73.  ,  218.  ,   28.62], [  74.  ,  220.  ,   32.16], [  71.  ,  190.  ,   38.43], [  74.  ,  235.  ,   31.81], [  75. ,  210. ,   29.1], [  76.  ,  200.  ,   31.28], [  74.  ,  188.  ,   29.17], [  76.  ,  210.  ,   25.89], [  76.  ,  235.  ,   26.13], [  73.  ,  188.  ,   29.13], [  75.  ,  215.  ,   28.92], [  75.  ,  216.  ,   26.01], [  74.  ,  220.  ,   24.81], [  68.  ,  180.  ,   28.79], [  72.  ,  185.  ,   33.77], [  75.  ,  200.  ,   33.85], [  71.  ,  210.  ,   27.36], [  70.  ,  220.  ,   26.01], [  72.  ,  185.  ,   29.95], [  73.  ,  231.  ,   28.12], [  72.  ,  210.  ,   32.87], [  75. ,  195. ,   31.2], [  74.  ,  200.  ,   34.14], [  70.  ,  205.  ,   36.11], [  76.  ,  200.  ,   26.31], [  71. ,  190. ,   27.5], [  82.  ,  250.  ,   27.77], [  72.  ,  185.  ,   40.88], [  73.  ,  180.  ,   25.75], [  74.  ,  170.  ,   31.41], [  71.  ,  180.  ,   30.84], [  75.  ,  208.  ,   30.57], [  77.  ,  235.  ,   39.79], [  72.  ,  215.  ,   39.38], [  74.  ,  244.  ,   29.42], [  72.  ,  220.  ,   26.19], [  73.  ,  185.  ,   23.74], [  78.  ,  230.  ,   26.03], [  77.  ,  190.  ,   28.59], [  73.  ,  200.  ,   26.77], [  73.  ,  180.  ,   27.21], [  73.  ,  190.  ,   24.87], [  73.  ,  196.  ,   30.26], [  73.  ,  180.  ,   22.34], [  76. ,  230. ,   26.2], [  75.  ,  224.  ,   28.45], [  70.  ,  160.  ,   27.63], [  73.  ,  178.  ,   25.93], [  72.  ,  205.  ,   28.94], [  73. ,  185. ,   26.8], [  75.  ,  210.  ,   22.42], [  74.  ,  180.  ,   27.26], [  73.  ,  190.  ,   28.38], [  73.  ,  200.  ,   25.23], [  76.  ,  257.  ,   28.16], [  73.  ,  190.  ,   28.48], [  75.  ,  220.  ,   26.78], [  70.  ,  165.  ,   25.24], [  77.  ,  205.  ,   27.45], [  72.  ,  200.  ,   29.05], [  77.  ,  208.  ,   29.08], [  74.  ,  185.  ,   25.84], [  75. ,  215. ,   25.4], [  75.  ,  170.  ,   26.54], [  75.  ,  235.  ,   22.73], [  75.  ,  210.  ,   28.53], [  72.  ,  170.  ,   25.37], [  74.  ,  180.  ,   25.35], [  71.  ,  170.  ,   26.43], [  76.  ,  190.  ,   25.43], [  71.  ,  150.  ,   29.23], [  75.  ,  230.  ,   30.22], [  76. ,  203. ,   32.3], [  83.  ,  260.  ,   28.42], [  75.  ,  246.  ,   25.24], [  74.  ,  186.  ,   29.13], [  76.  ,  210.  ,   24.63], [  72.  ,  198.  ,   24.95], [  72.  ,  210.  ,   28.06], [  75.  ,  215.  ,   25.86], [  75.  ,  180.  ,   27.32], [  72.  ,  200.  ,   25.91], [  77.  ,  245.  ,   26.63], [  73.  ,  200.  ,   25.95], [  72.  ,  192.  ,   29.17], [  70.  ,  192.  ,   29.19], [  74.  ,  200.  ,   28.44], [  72.  ,  192.  ,   26.36], [  74.  ,  205.  ,   28.29], [  72.  ,  190.  ,   29.45], [  71.  ,  186.  ,   25.34], [  70.  ,  170.  ,   26.86], [  71.  ,  197.  ,   26.36], [  76.  ,  219.  ,   27.39], [  74.  ,  200.  ,   25.84], [  76.  ,  220.  ,   25.08], [  74.  ,  207.  ,   23.87], [  74.  ,  225.  ,   24.68], [  74.  ,  207.  ,   24.64], [  75.  ,  212.  ,   29.19], [  75.  ,  225.  ,   28.84], [  71.  ,  170.  ,   25.33], [  71.  ,  190.  ,   24.45], [  74.  ,  210.  ,   28.32], [  77.  ,  230.  ,   32.34], [  71.  ,  210.  ,   34.97], [  74.  ,  200.  ,   32.04], [  75.  ,  238.  ,   23.49], [  77.  ,  234.  ,   26.09], [  76.  ,  222.  ,   26.41], [  74.  ,  200.  ,   26.55], [  76.  ,  190.  ,   24.62], [  72.  ,  170.  ,   28.49], [  71.  ,  220.  ,   32.61], [  72.  ,  223.  ,   28.06], [  75.  ,  210.  ,   28.08], [  73.  ,  215.  ,   37.34], [  68.  ,  196.  ,   35.25], [  72.  ,  175.  ,   24.77], [  69.  ,  175.  ,   39.85], [  73.  ,  189.  ,   35.49], [  73.  ,  205.  ,   31.84], [  75.  ,  210.  ,   26.67], [  70.  ,  180.  ,   34.75], [  70.  ,  180.  ,   28.91], [  74.  ,  197.  ,   32.73], [  75.  ,  220.  ,   35.72], [  74. ,  228. ,   42.6], [  74.  ,  190.  ,   26.22], [  73.  ,  204.  ,   21.85], [  74.  ,  165.  ,   24.28], [  75.  ,  216.  ,   22.41], [  77.  ,  220.  ,   32.56], [  73.  ,  208.  ,   32.74], [  74.  ,  210.  ,   26.39], [  76. ,  215. ,   28.8], [  74. ,  195. ,   28.2], [  75.  ,  200.  ,   26.52], [  73.  ,  215.  ,   34.52], [  76.  ,  229.  ,   34.32], [  78.  ,  240.  ,   26.98], [  75.  ,  207.  ,   28.86], [  73.  ,  205.  ,   24.96], [  77. ,  208. ,   25.3], [  74.  ,  185.  ,   27.06], [  72.  ,  190.  ,   25.44], [  74.  ,  170.  ,   25.53], [  72.  ,  208.  ,   34.87], [  71.  ,  225.  ,   24.63], [  73.  ,  190.  ,   27.99], [  75.  ,  225.  ,   27.12], [  73.  ,  185.  ,   31.14], [  67.  ,  180.  ,   30.21], [  67.  ,  165.  ,   32.11], [  76.  ,  240.  ,   31.91], [  74.  ,  220.  ,   34.44], [  73.  ,  212.  ,   36.68], [  70.  ,  163.  ,   37.66], [  75.  ,  215.  ,   30.98], [  70.  ,  175.  ,   27.07], [  72.  ,  205.  ,   29.11], [  77.  ,  210.  ,   25.82], [  79. ,  205. ,   25.5], [  78.  ,  208.  ,   29.57], [  74.  ,  215.  ,   25.37], [  75.  ,  180.  ,   33.99], [  75.  ,  200.  ,   29.86], [  78.  ,  230.  ,   31.84], [  76.  ,  211.  ,   38.31], [  75.  ,  230.  ,   34.48], [  69.  ,  190.  ,   36.88], [  75.  ,  220.  ,   32.34], [  72.  ,  180.  ,   31.58], [  75.  ,  205.  ,   28.89], [  73.  ,  190.  ,   25.08], [  74.  ,  180.  ,   25.73], [  75.  ,  205.  ,   25.19], [  75.  ,  190.  ,   31.01], [  73.  ,  195.  ,   27.92]])\n",
    "# Import numpy\n",
    "import numpy as np\n",
    "\n",
    "# Create np_height_in from np_baseball\n",
    "np_height_in = np_baseball[:,0]\n",
    "\n",
    "# Print out the mean of np_height_in\n",
    "print(np.mean(np_height_in))\n",
    "\n",
    "# Print out the median of np_height_in\n",
    "print(np.median(np_height_in))"
   ]
  },
  {
   "cell_type": "markdown",
   "metadata": {},
   "source": [
    "### Explore the baseball data"
   ]
  },
  {
   "cell_type": "code",
   "execution_count": 39,
   "metadata": {},
   "outputs": [
    {
     "name": "stdout",
     "output_type": "stream",
     "text": [
      "Average: 73.6896551724138\n",
      "Median: 74.0\n",
      "Standard Deviation: 2.312791881046546\n",
      "Correlation: [[1.         0.53153932]\n",
      " [0.53153932 1.        ]]\n"
     ]
    }
   ],
   "source": [
    "# np_baseball is available\n",
    "\n",
    "# Import numpy\n",
    "import numpy as np\n",
    "\n",
    "# Print mean height (first column)\n",
    "avg = np.mean(np_baseball[:,0])\n",
    "print(\"Average: \" + str(avg))\n",
    "\n",
    "# Print median height. Replace 'None'\n",
    "med = np.median(np_baseball[:,0])\n",
    "print(\"Median: \" + str(med))\n",
    "\n",
    "# Print out the standard deviation on height. Replace 'None'\n",
    "stddev = np.std(np_baseball[:,0])\n",
    "print(\"Standard Deviation: \" + str(stddev))\n",
    "\n",
    "# Print out correlation between first and second column. Replace 'None'\n",
    "corr = np.corrcoef(np_baseball[:,0], np_baseball[:,1])\n",
    "print(\"Correlation: \" + str(corr))"
   ]
  },
  {
   "cell_type": "markdown",
   "metadata": {},
   "source": [
    "### Blend it all together"
   ]
  },
  {
   "cell_type": "code",
   "execution_count": 40,
   "metadata": {},
   "outputs": [
    {
     "name": "stdout",
     "output_type": "stream",
     "text": [
      "Median height of goalkeepers: 188.0\n",
      "Median height of other players: 181.0\n"
     ]
    }
   ],
   "source": [
    "# heights and positions are available as lists\n",
    "heights = [191, 184, 185, 180, 181, 187, 170, 179, 183, 186, 185, 170, 187, 183, 173, 188, 183, 180, 188, 175, 193, 180, 185, 170, 183, 173, 185, 185, 168, 190, 178, 185, 185, 193, 183, 184, 178, 180, 177, 188, 177, 187, 186, 183, 189, 179, 196, 190, 189, 188, 188, 188, 182, 185, 184, 178, 185, 193, 188, 179, 189, 188, 180, 178, 186, 188, 180, 185, 172, 179, 180, 174, 183, 178, 187, 178, 193, 181, 180, 187, 179, 173, 175, 188, 187, 175, 171, 179, 180, 188, 185, 196, 183, 184, 186, 178, 188, 168, 176, 178, 178, 192, 172, 170, 190, 175, 174, 179, 177, 187, 184, 185, 175, 193, 185, 191, 181, 183, 176, 176, 182, 192, 187, 170, 189, 171, 181, 183, 178, 182, 186, 191, 175, 179, 180, 181, 178, 193, 179, 181, 186, 190, 190, 192, 185, 178, 182, 171, 182, 173, 192, 175, 183, 183, 184, 176, 183, 186, 178, 185, 188, 193, 193, 170, 188, 196, 175, 180, 184, 173, 180, 190, 186, 182, 183, 195, 188, 187, 190, 180, 194, 182, 182, 183, 178, 183, 171, 185, 177, 180, 195, 173, 185, 186, 187, 178, 185, 174, 175, 176, 191, 170, 183, 180, 174, 191, 179, 178, 187, 191, 183, 180, 184, 183, 180, 185, 184, 181, 186, 185, 182, 175, 173, 175, 176, 174, 184, 177, 185, 162, 180, 171, 183, 180, 180, 191, 196, 191, 176, 186, 171, 190, 188, 180, 185, 176, 187, 188, 182, 178, 176, 175, 177, 191, 183, 189, 173, 180, 180, 185, 185, 180, 181, 183, 180, 185, 175, 175, 177, 177, 182, 167, 176, 180, 194, 180, 187, 174, 182, 174, 181, 188, 188, 180, 183, 183, 184, 188, 170, 182, 183, 170, 186, 191, 187, 188, 177, 180, 182, 174, 183, 178, 182, 190, 180, 182, 181, 180, 176, 172, 186, 180, 185, 186, 179, 185, 180, 187, 181, 185, 181, 183, 181, 175, 187, 178, 182, 182, 183, 184, 170, 178, 175, 186, 175, 178, 185, 178, 190, 187, 173, 186, 177, 193, 183, 175, 185, 179, 167, 175, 183, 188, 184, 191, 184, 170, 169, 175, 175, 185, 193, 172, 179, 180, 179, 186, 180, 176, 190, 175, 175, 186, 196, 186, 187, 182, 178, 185, 183, 191, 183, 185, 186, 180, 169, 185, 194, 186, 183, 183, 191, 189, 194, 174, 168, 185, 160, 191, 185, 186, 179, 188, 185, 189, 183, 183, 176, 183, 180, 171, 187, 175, 190, 178, 175, 181, 185, 188, 180, 171, 184, 176, 181, 183, 178, 171, 187, 186, 186, 174, 174, 186, 193, 191, 180, 181, 177, 195, 190, 185, 168, 183, 175, 191, 184, 182, 188, 182, 180, 192, 191, 185, 188, 180, 179, 183, 192, 183, 183, 180, 173, 180, 190, 183, 182, 175, 180, 178, 181, 188, 175, 180, 183, 191, 183, 180, 182, 178, 189, 183, 183, 178, 170, 178, 173, 180, 184, 180, 188, 180, 184, 191, 188, 195, 197, 186, 191, 189, 196, 185, 178, 200, 176, 184, 189, 181, 185, 184, 191, 191, 184, 190, 190, 170, 183, 183, 169, 183, 185, 178, 183, 186, 190, 186, 188, 186, 183, 179, 172, 185, 180, 183, 189, 180, 182, 185, 180, 193, 185, 175, 182, 182, 180, 185, 180, 188, 175, 183, 185, 185, 176, 189, 186, 181, 181, 185, 188, 176, 179, 178, 178, 180, 185, 183, 183, 185, 186, 185, 188, 172, 175, 186, 181, 190, 177, 184, 191, 173, 178, 180, 185, 183, 186, 175, 189, 189, 189, 189, 183, 166, 178, 175, 179, 185, 180, 190, 181, 185, 179, 185, 188, 183, 173, 180, 181, 175, 182, 177, 182, 180, 182, 184, 181, 177, 178, 180, 183, 194, 185, 191, 180, 187, 181, 183, 183, 180, 185, 178, 177, 183, 178, 173, 183, 191, 188, 188, 178, 175, 186, 183, 180, 184, 184, 194, 174, 178, 193, 175, 190, 186, 186, 180, 186, 183, 177, 180, 175, 184, 184, 178, 166, 183, 186, 168, 178, 181, 188, 187, 180, 172, 185, 186, 191, 172, 184, 186, 192, 180, 177, 183, 175, 180, 170, 180, 188, 180, 178, 196, 192, 186, 175, 184, 175, 171, 187, 170, 183, 184, 178, 187, 179, 177, 172, 180, 170, 177, 184, 185, 191, 188, 193, 183, 188, 185, 183, 185, 187, 189, 188, 174, 173, 172, 179, 171, 176, 173, 185, 183, 187, 178, 176, 187, 171, 185, 174, 186, 179, 192, 173, 183, 183, 183, 186, 184, 185, 171, 184, 189, 183, 173, 184, 183, 184, 184, 179, 184, 185, 181, 170, 176, 191, 173, 183, 178, 189, 183, 187, 202, 180, 183, 186, 182, 186, 182, 190, 178, 185, 181, 186, 171, 183, 185, 184, 190, 167, 175, 172, 190, 168, 180, 188, 191, 178, 178, 175, 183, 191, 183, 182, 187, 181, 175, 186, 175, 189, 180, 188, 180, 183, 179, 184, 178, 185, 185, 182, 179, 183, 170, 183, 178, 187, 184, 168, 186, 183, 179, 186, 170, 178, 184, 191, 187, 174, 178, 186, 184, 193, 188, 185, 188, 173, 175, 195, 180, 187, 182, 183, 188, 173, 197, 173, 187, 184, 190, 188, 174, 190, 185, 182, 191, 187, 193, 173, 180, 172, 176, 191, 187, 184, 184, 199, 175, 191, 190, 183, 192, 191, 189, 174, 185, 184, 185, 185, 193, 183, 189, 177, 183, 188, 170, 185, 178, 188, 178, 170, 193, 173, 173, 180, 180, 175, 173, 185, 185, 189, 176, 173, 183, 175, 179, 193, 188, 183, 183, 175, 183, 176, 180, 185, 180, 187, 180, 177, 196, 175, 176, 188, 187, 183, 173, 191, 183, 188, 186, 176, 173, 171, 179, 173, 192, 182, 180, 191, 182, 192, 185, 192, 186, 179, 178, 186, 179, 176, 182, 184, 178, 182, 182, 190, 183, 188, 187, 183, 172, 175, 182, 179, 174, 188, 186, 174, 191, 180, 188, 183, 183, 184, 180, 175, 188, 181, 188, 186, 188, 175, 188, 178, 180, 175, 185, 185, 176, 184, 173, 182, 176, 185, 194, 185, 177, 184, 171, 186, 184, 178, 180, 187, 186, 180, 190, 188, 182, 174, 193, 178, 184, 170, 166, 176, 168, 200, 180, 182, 192, 167, 186, 178, 175, 174, 188, 184, 189, 174, 193, 182, 194, 183, 170, 170, 173, 184, 178, 177, 178, 172, 169, 191, 175, 176, 178, 183, 181, 175, 191, 181, 177, 170, 180, 184, 186, 178, 191, 183, 178, 188, 180, 178, 178, 193, 177, 183, 179, 170, 183, 179, 184, 184, 174, 190, 191, 188, 180, 185, 183, 194, 183, 178, 180, 183, 171, 178, 184, 190, 185, 185, 173, 188, 185, 178, 173, 189, 194, 169, 179, 170, 183, 188, 173, 190, 182, 191, 176, 179, 192, 189, 183, 180, 178, 194, 178, 180, 185, 183, 184, 181, 184, 170, 183, 179, 179, 172, 178, 188, 187, 170, 178, 186, 180, 185, 175, 173, 175, 173, 167, 173, 181, 188, 180, 180, 184, 164, 170, 179, 179, 173, 178, 182, 187, 179, 175, 191, 180, 180, 183, 172, 187, 179, 184, 167, 182, 175, 193, 188, 189, 182, 165, 173, 181, 183, 180, 180, 183, 183, 183, 180, 173, 180, 190, 185, 183, 167, 191, 185, 185, 182, 178, 183, 183, 184, 189, 182, 186, 178, 187, 182, 185, 182, 191, 185, 185, 191, 173, 180, 168, 187, 182, 183, 183, 186, 174, 193, 188, 185, 199, 186, 174, 170, 189, 186, 176, 178, 188, 175, 178, 173, 177, 189, 178, 183, 176, 185, 198, 175, 183, 180, 194, 175, 181, 174, 183, 188, 185, 175, 174, 171, 175, 189, 182, 189, 177, 183, 185, 183, 178, 185, 177, 175, 172, 181, 170, 179, 170, 164, 166, 176, 176, 191, 169, 175, 184, 184, 168, 178, 179, 177, 185, 171, 179, 173, 182, 183, 193, 191, 189, 176, 185, 177, 172, 177, 188, 178, 185, 181, 175, 181, 183, 175, 177, 180, 181, 174, 182, 185, 173, 185, 173, 188, 189, 188, 173, 180, 182, 190, 180, 181, 174, 184, 182, 177, 182, 188, 175, 176, 184, 187, 193, 175, 185, 181, 186, 182, 180, 178, 182, 175, 184, 184, 182, 180, 182, 178, 183, 168, 183, 186, 191, 185, 177, 186, 172, 181, 176, 181, 185, 185, 182, 185, 177, 177, 180, 175, 188, 174, 177, 179, 171, 170, 185, 186, 168, 180, 185, 176, 182, 188, 180, 179, 194, 181, 181, 181, 188, 182, 177, 191, 176, 182, 183, 176, 184, 175, 196, 177, 175, 179, 187, 181, 175, 174, 178, 192, 178, 183, 182, 167, 187, 185, 179, 166, 180, 190, 176, 177, 171, 181, 187, 185, 176, 174, 179, 188, 178, 173, 188, 180, 178, 185, 177, 172, 178, 184, 193, 185, 187, 190, 188, 189, 177, 180, 175, 180, 178, 185, 194, 188, 182, 170, 176, 190, 168, 186, 172, 177, 176, 181, 185, 175, 180, 185, 186, 193, 178, 185, 189, 190, 185, 182, 191, 178, 187, 175, 193, 178, 182, 179, 178, 187, 174, 179, 191, 170, 178, 180, 193, 182, 176, 176, 176, 186, 187, 175, 187, 187, 176, 184, 173, 186, 190, 191, 187, 186, 196, 186, 175, 194, 184, 193, 192, 172, 179, 190, 183, 192, 182, 184, 183, 186, 172, 172, 175, 192, 187, 198, 178, 172, 190, 185, 182, 196, 185, 182, 183, 184, 188, 181, 175, 176, 175, 191, 190, 174, 184, 180, 181, 184, 177, 183, 174, 180, 175, 179, 179, 177, 177, 175, 175, 182, 188, 172, 181, 185, 176, 180, 180, 195, 178, 180, 183, 186, 185, 175, 181, 180, 186, 188, 189, 193, 190, 185, 189, 191, 187, 182, 192, 181, 170, 183, 176, 188, 191, 177, 172, 177, 188, 181, 178, 178, 168, 178, 182, 189, 174, 185, 185, 183, 186, 188, 182, 186, 174, 179, 187, 185, 177, 188, 192, 183, 172, 191, 184, 168, 186, 177, 180, 199, 189, 180, 189, 178, 172, 185, 180, 171, 190, 186, 185, 173, 178, 179, 182, 184, 182, 179, 196, 182, 185, 184, 180, 179, 178, 185, 178, 184, 173, 171, 172, 185, 184, 178, 180, 175, 185, 188, 196, 180, 173, 178, 175, 182, 188, 183, 185, 177, 183, 190, 184, 186, 175, 188, 188, 171, 183, 185, 196, 185, 170, 183, 183, 170, 173, 180, 180, 188, 185, 178, 173, 185, 185, 180, 188, 185, 177, 182, 185, 184, 177, 168, 183, 188, 188, 171, 188, 191, 186, 183, 184, 180, 177, 187, 178, 180, 179, 189, 192, 187, 186, 185, 193, 179, 185, 190, 182, 185, 180, 185, 191, 173, 191, 177, 183, 175, 198, 185, 173, 178, 180, 193, 178, 176, 175, 180, 182, 191, 175, 177, 184, 185, 185, 198, 180, 188, 176, 185, 193, 173, 173, 185, 191, 188, 178, 183, 191, 192, 178, 183, 192, 175, 180, 165, 180, 180, 178, 182, 181, 192, 186, 186, 170, 183, 186, 185, 178, 189, 189, 181, 175, 172, 187, 185, 175, 180, 178, 191, 180, 188, 193, 169, 180, 170, 185, 185, 188, 180, 175, 180, 183, 175, 177, 174, 182, 184, 180, 184, 180, 178, 183, 184, 193, 175, 174, 175, 188, 183, 185, 178, 188, 175, 172, 185, 186, 186, 182, 177, 185, 176, 175, 180, 172, 175, 182, 186, 176, 182, 175, 183, 180, 184, 190, 188, 186, 185, 172, 175, 172, 172, 182, 174, 188, 190, 194, 168, 185, 188, 183, 185, 185, 178, 171, 173, 180, 200, 178, 178, 164, 182, 186, 195, 191, 186, 185, 173, 180, 185, 177, 178, 180, 184, 186, 183, 186, 183, 174, 178, 181, 183, 185, 174, 184, 192, 181, 174, 186, 191, 180, 188, 188, 188, 182, 193, 193, 179, 183, 182, 182, 183, 184, 184, 185, 168, 175, 185, 173, 181, 184, 186, 191, 179, 181, 183, 181, 196, 184, 186, 184, 181, 188, 180, 186, 180, 183, 184, 189, 182, 185, 183, 186, 193, 188, 188, 188, 180, 193, 186, 185, 185, 183, 180, 198, 178, 178, 185, 180, 182, 182, 185, 173, 180, 185, 191, 175, 180, 174, 183, 183, 181, 190, 169, 170, 182, 172, 180, 182, 186, 183, 191, 185, 185, 178, 188, 187, 175, 180, 198, 190, 192, 183, 190, 181, 170, 189, 186, 188, 178, 186, 180, 175, 180, 163, 182, 177, 183, 177, 172, 173, 165, 172, 173, 177, 184, 183, 179, 174, 170, 192, 188, 191, 191, 185, 191, 175, 185, 185, 178, 165, 163, 180, 178, 180, 175, 179, 176, 183, 186, 180, 187, 171, 170, 177, 185, 176, 182, 176, 180, 170, 183, 183, 180, 192, 178, 178, 180, 180, 165, 168, 192, 178, 185, 179, 181, 193, 186, 175, 175, 191, 190, 175, 172, 176, 189, 184, 166, 180, 183, 193, 187, 175, 190, 184, 184, 177, 178, 176, 171, 183, 184, 176, 189, 180, 181, 170, 187, 185, 173, 183, 180, 172, 178, 183, 180, 180, 187, 178, 179, 187, 179, 181, 182, 182, 187, 180, 190, 178, 174, 190, 173, 185, 173, 189, 193, 184, 185, 171, 192, 177, 180, 174, 179, 180, 172, 196, 175, 185, 178, 175, 186, 178, 185, 188, 182, 188, 183, 189, 185, 193, 190, 177, 193, 184, 176, 181, 192, 185, 174, 193, 176, 185, 188, 179, 187, 192, 183, 188, 178, 185, 178, 169, 184, 193, 173, 185, 177, 178, 185, 186, 183, 182, 183, 178, 183, 165, 178, 177, 182, 180, 190, 179, 177, 184, 183, 183, 177, 179, 188, 186, 187, 175, 186, 182, 182, 189, 184, 176, 180, 172, 189, 174, 185, 190, 186, 177, 183, 180, 178, 191, 185, 178, 189, 189, 190, 185, 187, 185, 178, 176, 176, 173, 176, 188, 178, 193, 181, 197, 180, 186, 178, 184, 187, 184, 190, 185, 190, 187, 180, 184, 171, 196, 185, 176, 186, 193, 173, 178, 183, 168, 186, 184, 189, 177, 170, 189, 188, 176, 183, 178, 183, 173, 180, 181, 178, 179, 190, 177, 187, 174, 184, 179, 188, 190, 190, 176, 187, 173, 180, 168, 170, 188, 184, 180, 185, 176, 179, 180, 176, 185, 175, 170, 170, 180, 187, 172, 178, 182, 180, 181, 180, 180, 200, 186, 178, 186, 191, 176, 178, 183, 184, 175, 181, 165, 173, 171, 180, 178, 175, 185, 180, 177, 190, 178, 191, 185, 188, 173, 183, 184, 176, 177, 184, 178, 183, 180, 187, 182, 172, 166, 185, 185, 180, 197, 181, 188, 181, 178, 183, 176, 185, 178, 190, 178, 196, 188, 187, 183, 172, 183, 198, 186, 191, 184, 189, 178, 182, 182, 178, 180, 169, 177, 172, 175, 178, 187, 187, 185, 187, 173, 188, 176, 170, 185, 184, 173, 185, 180, 187, 180, 190, 180, 183, 176, 167, 171, 185, 175, 182, 186, 178, 172, 177, 175, 181, 185, 189, 182, 182, 182, 178, 185, 183, 188, 177, 178, 192, 182, 195, 183, 180, 177, 180, 178, 178, 182, 188, 182, 188, 188, 178, 178, 183, 175, 183, 179, 178, 191, 197, 180, 178, 188, 187, 185, 188, 187, 184, 183, 171, 184, 188, 185, 175, 191, 185, 183, 173, 180, 191, 183, 186, 180, 183, 193, 176, 185, 188, 188, 191, 185, 184, 176, 188, 187, 176, 193, 181, 177, 183, 184, 181, 185, 183, 192, 185, 175, 180, 183, 182, 173, 196, 180, 188, 185, 194, 172, 175, 178, 182, 193, 188, 178, 178, 178, 180, 189, 177, 186, 185, 183, 186, 176, 185, 183, 175, 178, 187, 190, 190, 184, 187, 173, 185, 173, 193, 188, 183, 185, 174, 183, 175, 180, 186, 180, 185, 178, 188, 178, 186, 188, 180, 183, 192, 185, 188, 180, 183, 185, 183, 188, 180, 174, 175, 178, 185, 180, 188, 180, 180, 185, 185, 173, 180, 183, 174, 186, 183, 180, 188, 176, 184, 180, 188, 176, 188, 173, 188, 180, 180, 178, 186, 187, 188, 176, 182, 189, 187, 184, 188, 180, 197, 178, 174, 180, 175, 170, 180, 183, 185, 180, 185, 179, 183, 185, 193, 188, 175, 190, 180, 170, 175, 185, 170, 187, 180, 179, 165, 184, 184, 183, 186, 174, 170, 180, 185, 172, 175, 175, 175, 173, 185, 173, 185, 188, 188, 185, 180, 173, 183, 181, 174, 187, 179, 194, 183, 170, 170, 173, 180, 187, 187, 187, 185, 185, 182, 170, 186, 178, 187, 180, 179, 178, 180, 180, 171, 188, 180, 186, 185, 178, 188, 187, 180, 175, 170, 183, 179, 186, 191, 172, 193, 191, 186, 175, 187, 182, 181, 169, 188, 186, 183, 183, 180, 184, 183, 171, 183, 183, 174, 191, 193, 183, 178, 167, 178, 183, 173, 180, 163, 188, 181, 188, 188, 188, 184, 191, 178, 175, 193, 185, 165, 175, 183, 191, 183, 185, 183, 185, 180, 178, 180, 174, 180, 180, 191, 178, 185, 183, 178, 178, 183, 188, 183, 183, 180, 168, 183, 183, 191, 183, 185, 182, 185, 173, 188, 178, 175, 188, 190, 182, 174, 175, 176, 188, 183, 185, 180, 182, 194, 175, 185, 176, 180, 192, 184, 183, 173, 189, 190, 187, 179, 171, 185, 178, 189, 175, 181, 196, 176, 177, 184, 183, 184, 187, 188, 183, 183, 175, 196, 188, 183, 185, 192, 191, 183, 185, 177, 174, 176, 182, 183, 181, 177, 176, 187, 180, 182, 168, 180, 183, 173, 185, 178, 172, 178, 183, 180, 174, 185, 183, 174, 186, 183, 184, 178, 184, 188, 180, 162, 183, 183, 170, 177, 190, 175, 183, 179, 175, 188, 176, 180, 188, 180, 190, 180, 175, 191, 196, 185, 175, 167, 186, 167, 185, 186, 186, 168, 165, 179, 170, 189, 175, 184, 169, 186, 182, 175, 186, 172, 181, 177, 186, 176, 193, 175, 189, 180, 170, 184, 169, 178, 173, 186, 192, 173, 184, 185, 188, 180, 175, 190, 175, 181, 166, 191, 174, 180, 185, 193, 180, 183, 176, 180, 178, 193, 185, 175, 185, 190, 185, 188, 185, 188, 182, 176, 193, 180, 182, 183, 184, 185, 187, 185, 172, 188, 180, 174, 176, 181, 180, 179, 171, 184, 187, 193, 193, 187, 183, 180, 184, 202, 182, 176, 175, 176, 180, 180, 185, 177, 185, 167, 178, 184, 183, 181, 190, 184, 180, 180, 183, 178, 176, 187, 171, 185, 189, 193, 184, 174, 187, 192, 180, 178, 175, 188, 175, 177, 188, 185, 180, 192, 182, 178, 185, 173, 180, 178, 170, 193, 178, 176, 181, 178, 180, 178, 178, 188, 178, 183, 188, 175, 180, 188, 189, 195, 176, 178, 173, 182, 187, 183, 176, 187, 191, 180, 185, 189, 180, 186, 182, 188, 191, 195, 186, 191, 186, 177, 179, 185, 179, 192, 180, 186, 171, 178, 178, 181, 175, 182, 185, 190, 183, 193, 182, 178, 179, 172, 185, 176, 183, 175, 185, 184, 176, 180, 186, 185, 172, 186, 173, 184, 191, 196, 188, 188, 182, 186, 184, 176, 185, 178, 184, 181, 180, 180, 174, 183, 182, 173, 175, 178, 185, 175, 190, 180, 188, 178, 182, 175, 170, 181, 186, 170, 169, 177, 180, 183, 178, 177, 172, 175, 189, 180, 182, 179, 178, 188, 197, 168, 180, 187, 173, 180, 178, 175, 183, 198, 191, 191, 169, 179, 173, 178, 174, 182, 176, 186, 178, 175, 174, 180, 185, 185, 177, 183, 187, 185, 183, 185, 178, 188, 189, 191, 178, 178, 185, 193, 178, 180, 175, 178, 183, 172, 188, 183, 183, 185, 173, 191, 183, 174, 180, 178, 185, 185, 184, 184, 198, 178, 175, 180, 180, 175, 178, 183, 186, 185, 180, 178, 179, 183, 194, 171, 183, 181, 192, 191, 176, 178, 183, 172, 174, 185, 176, 188, 193, 175, 185, 180, 193, 191, 173, 175, 175, 181, 184, 176, 175, 185, 173, 193, 180, 180, 185, 185, 191, 180, 178, 178, 183, 174, 180, 185, 175, 196, 188, 186, 180, 176, 188, 175, 185, 185, 178, 191, 185, 178, 178, 183, 175, 175, 185, 186, 181, 185, 191, 186, 176, 178, 183, 171, 172, 190, 183, 184, 175, 185, 182, 188, 183, 187, 188, 181, 178, 174, 172, 178, 173, 185, 187, 188, 174, 179, 185, 185, 175, 183, 178, 161, 172, 179, 187, 177, 184, 185, 168, 180, 178, 185, 179, 172, 185, 190, 184, 174, 185, 193, 185, 175, 176, 173, 175, 181, 178, 185, 183, 170, 187, 182, 182, 185, 184, 189, 188, 178, 196, 186, 183, 179, 169, 181, 186, 187, 158, 188, 180, 174, 178, 185, 178, 191, 180, 180, 173, 173, 173, 175, 173, 173, 171, 169, 177, 178, 190, 181, 182, 180, 180, 190, 189, 181, 177, 183, 191, 181, 180, 185, 170, 185, 178, 187, 179, 172, 185, 183, 170, 187, 175, 193, 192, 184, 188, 183, 183, 178, 178, 173, 186, 169, 188, 191, 198, 190, 178, 183, 178, 183, 179, 183, 187, 181, 178, 181, 180, 178, 174, 167, 180, 170, 183, 177, 178, 187, 176, 186, 177, 191, 178, 175, 169, 188, 168, 180, 179, 182, 180, 181, 171, 178, 176, 186, 178, 180, 178, 191, 186, 183, 179, 201, 188, 178, 176, 190, 177, 181, 180, 188, 188, 186, 188, 189, 184, 188, 177, 176, 182, 188, 178, 170, 185, 190, 190, 187, 183, 176, 176, 181, 185, 173, 184, 176, 180, 177, 184, 179, 182, 183, 181, 185, 190, 181, 172, 196, 184, 190, 178, 183, 183, 190, 185, 180, 183, 181, 188, 185, 180, 170, 188, 186, 178, 180, 175, 182, 176, 189, 183, 174, 182, 192, 188, 180, 189, 193, 188, 188, 185, 173, 188, 183, 187, 180, 188, 179, 173, 183, 178, 173, 190, 170, 181, 186, 180, 178, 178, 183, 180, 175, 183, 180, 181, 181, 180, 187, 185, 188, 184, 183, 179, 177, 184, 180, 184, 188, 170, 178, 175, 188, 175, 183, 175, 192, 186, 185, 192, 193, 182, 175, 165, 188, 182, 165, 172, 172, 185, 178, 183, 180, 187, 183, 193, 191, 182, 191, 181, 180, 176, 187, 167, 178, 186, 185, 188, 182, 178, 175, 170, 170, 178, 184, 168, 183, 187, 183, 188, 175, 180, 175, 183, 184, 180, 188, 180, 188, 183, 178, 193, 180, 186, 192, 180, 180, 175, 194, 170, 173, 178, 183, 185, 191, 176, 180, 185, 185, 193, 187, 177, 176, 180, 184, 178, 184, 176, 172, 178, 175, 170, 175, 187, 171, 175, 181, 180, 178, 178, 171, 185, 180, 188, 170, 184, 180, 175, 183, 178, 181, 172, 181, 174, 173, 182, 175, 196, 187, 185, 178, 173, 185, 178, 188, 192, 179, 177, 177, 185, 186, 188, 186, 182, 169, 176, 188, 189, 175, 186, 173, 174, 176, 180, 179, 178, 188, 172, 175, 190, 185, 188, 186, 183, 180, 190, 185, 185, 175, 184, 175, 178, 188, 178, 195, 192, 184, 184, 181, 185, 177, 178, 188, 173, 180, 183, 183, 183, 178, 188, 180, 185, 186, 175, 183, 192, 190, 188, 179, 185, 190, 171, 182, 175, 180, 185, 180, 180, 185, 177, 168, 168, 190, 175, 188, 182, 178, 183, 183, 173, 187, 182, 173, 186, 185, 188, 178, 178, 176, 180, 181, 185, 166, 189, 182, 179, 184, 173, 174, 178, 185, 182, 169, 183, 192, 180, 179, 180, 183, 181, 168, 185, 182, 188, 172, 183, 191, 180, 176, 173, 181, 183, 181, 179, 194, 172, 174, 173, 183, 181, 185, 181, 168, 181, 180, 193, 188, 172, 187, 180, 191, 175, 182, 172, 186, 186, 184, 174, 189, 172, 185, 185, 181, 185, 173, 185, 190, 191, 180, 179, 193, 169, 185, 188, 180, 178, 170, 183, 172, 174, 175, 187, 178, 189, 194, 170, 188, 179, 194, 187, 183, 183, 191, 170, 183, 173, 175, 185, 178, 180, 189, 168, 172, 184, 192, 174, 184, 177, 176, 179, 187, 182, 188, 184, 189, 168, 183, 178, 180, 180, 176, 174, 189, 179, 183, 186, 183, 173, 175, 183, 173, 187, 171, 178, 190, 183, 175, 191, 180, 178, 190, 167, 171, 181, 184, 173, 185, 182, 185, 175, 173, 184, 166, 181, 192, 174, 178, 178, 189, 184, 193, 183, 186, 191, 180, 183, 180, 189, 184, 185, 172, 183, 180, 185, 176, 170, 188, 187, 184, 184, 183, 185, 190, 182, 186, 190, 180, 182, 180, 183, 185, 191, 189, 178, 188, 180, 183, 173, 174, 173, 169, 178, 173, 185, 180, 186, 190, 194, 178, 193, 179, 185, 178, 184, 188, 175, 166, 179, 178, 175, 190, 183, 174, 172, 172, 187, 172, 180, 182, 193, 199, 192, 192, 167, 184, 185, 190, 184, 183, 189, 183, 183, 182, 168, 173, 184, 168, 183, 183, 179, 187, 180, 189, 185, 178, 176, 179, 182, 178, 188, 187, 182, 183, 191, 179, 190, 169, 186, 172, 186, 186, 185, 192, 186, 193, 174, 184, 187, 180, 180, 182, 172, 176, 183, 185, 179, 176, 182, 187, 184, 188, 184, 181, 190, 185, 180, 182, 183, 184, 190, 186, 176, 182, 182, 170, 186, 168, 178, 183, 198, 189, 182, 192, 165, 179, 190, 178, 170, 177, 171, 186, 183, 185, 186, 185, 187, 183, 190, 184, 181, 182, 185, 183, 184, 182, 188, 185, 184, 192, 191, 183, 173, 163, 183, 170, 180, 186, 189, 176, 183, 174, 183, 178, 175, 175, 183, 175, 178, 184, 192, 183, 170, 186, 178, 186, 180, 178, 190, 180, 180, 191, 176, 180, 170, 181, 180, 189, 188, 180, 196, 202, 195, 180, 187, 190, 178, 178, 191, 186, 175, 180, 184, 185, 186, 174, 172, 176, 191, 178, 183, 178, 184, 168, 192, 177, 177, 184, 175, 180, 179, 182, 184, 173, 180, 180, 178, 174, 186, 184, 188, 181, 173, 183, 175, 192, 183, 183, 183, 183, 196, 172, 191, 192, 170, 178, 187, 188, 185, 176, 184, 189, 180, 194, 177, 168, 184, 174, 188, 180, 184, 184, 188, 180, 185, 180, 177, 170, 194, 202, 176, 180, 170, 175, 170, 175, 188, 174, 173, 186, 178, 185, 180, 180, 174, 186, 183, 183, 177, 183, 183, 180, 180, 172, 189, 180, 178, 180, 180, 183, 187, 182, 188, 193, 183, 179, 178, 180, 179, 182, 183, 178, 176, 170, 188, 178, 185, 180, 188, 185, 192, 183, 193, 181, 175, 185, 178, 194, 187, 178, 188, 170, 170, 180, 184, 185, 175, 180, 186, 189, 195, 188, 168, 183, 193, 183, 185, 188, 183, 186, 186, 174, 175, 180, 184, 175, 175, 175, 184, 170, 180, 176, 187, 193, 184, 183, 189, 191, 178, 185, 180, 180, 191, 183, 178, 193, 178, 184, 179, 173, 188, 180, 178, 187, 179, 187, 178, 183, 175, 187, 171, 188, 171, 183, 187, 188, 176, 169, 174, 191, 177, 168, 184, 183, 191, 191, 179, 170, 177, 191, 180, 186, 196, 171, 178, 185, 186, 180, 181, 187, 179, 175, 172, 188, 191, 197, 193, 165, 186, 195, 186, 181, 186, 185, 182, 175, 180, 174, 180, 180, 185, 185, 173, 178, 174, 193, 181, 172, 193, 187, 186, 168, 178, 183, 178, 169, 182, 176, 174, 179, 181, 179, 183, 188, 185, 193, 185, 181, 185, 183, 183, 175, 181, 172, 181, 178, 172, 184, 188, 186, 175, 178, 160, 184, 174, 178, 191, 176, 188, 171, 177, 181, 189, 175, 181, 183, 174, 186, 187, 181, 188, 187, 186, 173, 177, 187, 179, 188, 170, 178, 185, 175, 191, 185, 183, 173, 175, 182, 184, 185, 180, 183, 188, 171, 176, 180, 186, 178, 188, 186, 186, 193, 185, 181, 178, 183, 177, 183, 183, 176, 180, 183, 185, 172, 186, 177, 188, 168, 190, 188, 176, 195, 178, 181, 179, 187, 180, 179, 182, 184, 187, 180, 170, 195, 181, 178, 190, 169, 173, 181, 191, 193, 187, 183, 191, 188, 175, 192, 181, 183, 180, 185, 182, 185, 188, 184, 182, 191, 183, 190, 194, 177, 182, 184, 181, 175, 180, 178, 184, 175, 180, 181, 170, 183, 189, 176, 183, 174, 186, 194, 184, 181, 187, 181, 180, 181, 184, 191, 180, 175, 185, 168, 176, 180, 173, 176, 179, 182, 173, 181, 188, 186, 174, 183, 175, 183, 173, 181, 189, 188, 190, 174, 174, 186, 180, 180, 188, 175, 185, 190, 183, 183, 173, 180, 188, 183, 193, 178, 177, 187, 179, 184, 187, 180, 182, 191, 180, 176, 175, 170, 190, 184, 188, 184, 187, 175, 185, 173, 183, 187, 194, 180, 183, 175, 186, 184, 180, 183, 181, 173, 183, 190, 190, 182, 188, 173, 183, 190, 173, 183, 180, 184, 188, 188, 187, 183, 184, 188, 192, 178, 190, 172, 180, 176, 186, 174, 190, 183, 186, 184, 182, 180, 173, 182, 184, 178, 188, 182, 178, 184, 193, 186, 186, 191, 180, 188, 182, 191, 189, 184, 193, 177, 177, 183, 186, 173, 185, 171, 168, 184, 170, 175, 180, 173, 170, 188, 185, 190, 179, 193, 178, 182, 180, 190, 189, 183, 181, 186, 188, 189, 188, 187, 193, 191, 186, 168, 183, 182, 192, 193, 188, 191, 180, 188, 186, 176, 184, 182, 192, 184, 180, 175, 184, 173, 177, 182, 187, 192, 185, 170, 180, 171, 174, 183, 186, 188, 182, 190, 186, 180, 190, 175, 185, 181, 172, 189, 165, 173, 170, 189, 183, 180, 174, 173, 170, 182, 181, 160, 176, 178, 163, 179, 174, 191, 176, 171, 180, 173, 190, 193, 186, 183, 181, 178, 167, 179, 178, 180, 183, 182, 171, 188, 175, 182, 180, 183, 191, 183, 188, 172, 176, 180, 194, 196, 170, 186, 175, 186, 180, 192, 169, 179, 183, 175, 183, 173, 190, 191, 180, 174, 185, 184, 186, 173, 188, 192, 176, 181, 197, 169, 174, 171, 178, 175, 174, 188, 181, 180, 175, 193, 186, 184, 175, 180, 171, 188, 180, 178, 171, 192, 194, 180, 183, 175, 180, 183, 185, 176, 185, 170, 185, 186, 183, 190, 178, 183, 179, 174, 179, 182, 183, 183, 187, 181, 164, 178, 190, 183, 191, 172, 188, 190, 183, 180, 186, 186, 183, 178, 170, 179, 175, 193, 183, 183, 175, 186, 178, 182, 183, 184, 170, 183, 182, 193, 188, 184, 187, 182, 178, 178, 183, 183, 183, 188, 194, 182, 174, 185, 175, 185, 193, 182, 187, 180, 175, 182, 187, 168, 173, 178, 191, 168, 180, 172, 178, 178, 178, 176, 183, 190, 187, 183, 185, 193, 178, 188, 170, 185, 187, 175, 175, 184, 176, 183, 185, 187, 174, 175, 190, 173, 187, 186, 178, 189, 178, 182, 178, 182, 191, 197, 176, 168, 180, 173, 183, 177, 184, 180, 186, 191, 180, 194, 182, 180, 182, 177, 178, 187, 184, 190, 185, 175, 175, 178, 184, 188, 184, 180, 187, 186, 193, 186, 195, 184, 191, 183, 168, 178, 184, 170, 187, 180, 187, 190, 173, 181, 185, 183, 188, 189, 181, 184, 178, 187, 187, 184, 173, 186, 168, 184, 181, 175, 185, 175, 208, 191, 176, 178, 192, 174, 181, 192, 176, 193, 185, 182, 179, 185, 178, 183, 180, 188, 180, 183, 184, 191, 171, 183, 178, 178, 177, 183, 178, 174, 175, 178, 185, 175, 172, 185, 185, 188, 180, 195, 180, 194, 180, 170, 183, 188, 175, 194, 180, 173, 175, 179, 184, 183, 185, 187, 182, 189, 190, 174, 170, 179, 174, 191, 179, 173, 172, 188, 188, 198, 172, 175, 185, 185, 173, 183, 188, 194, 183, 176, 193, 175, 187, 182, 185, 176, 178, 191, 185, 178, 185, 191, 185, 181, 178, 180, 182, 183, 177, 185, 175, 175, 185, 185, 183, 191, 184, 187, 180, 175, 180, 179, 167, 180, 180, 182, 188, 179, 178, 192, 185, 178, 183, 180, 182, 178, 188, 179, 185, 186, 186, 174, 179, 180, 179, 170, 186, 186, 189, 191, 182, 196, 185, 175, 178, 188, 180, 170, 188, 191, 179, 175, 185, 196, 181, 189, 185, 186, 178, 185, 185, 183, 193, 185, 178, 177, 174, 188, 193, 183, 183, 180, 186, 180, 185, 183, 168, 187, 191, 172, 178, 185, 185, 193, 175, 191, 165, 179, 169, 166, 180, 178, 188, 173, 179, 192, 178, 170, 176, 180, 180, 191, 185, 186, 180, 172, 170, 185, 187, 184, 190, 180, 180, 183, 174, 177, 174, 171, 186, 183, 178, 185, 185, 180, 182, 183, 184, 187, 169, 180, 175, 178, 178, 170, 193, 183, 176, 185, 188, 182, 177, 183, 191, 185, 183, 189, 177, 183, 194, 176, 171, 179, 186, 188, 165, 181, 186, 180, 183, 185, 184, 185, 180, 174, 173, 194, 182, 176, 185, 177, 176, 183, 187, 183, 184, 183, 190, 190, 181, 182, 181, 171, 183, 177, 178, 180, 180, 172, 176, 178, 179, 194, 191, 175, 188, 186, 183, 184, 186, 188, 193, 173, 181, 180, 178, 173, 183, 168, 182, 190, 188, 180, 177, 182, 180, 195, 196, 176, 182, 196, 174, 173, 182, 176, 175, 186, 180, 173, 180, 190, 176, 182, 182, 180, 162, 174, 192, 180, 183, 170, 185, 180, 187, 181, 188, 172, 172, 179, 182, 180, 181, 175, 169, 199, 180, 173, 181, 192, 177, 178, 173, 185, 179, 196, 176, 185, 187, 184, 179, 183, 188, 192, 188, 190, 185, 180, 180, 187, 182, 194, 177, 180, 183, 168, 186, 173, 197, 182, 179, 183, 194, 176, 181, 165, 186, 180, 186, 178, 187, 171, 180, 178, 177, 183, 179, 192, 189, 180, 190, 180, 168, 183, 185, 186, 183, 178, 185, 185, 180, 183, 182, 185, 183, 178, 184, 183, 181, 168, 185, 190, 165, 188, 185, 177, 192, 181, 182, 185, 190, 180, 185, 180, 185, 182, 185, 188, 182, 183, 191, 175, 172, 183, 193, 178, 183, 186, 186, 176, 187, 181, 179, 183, 179, 179, 186, 178, 183, 184, 176, 181, 185, 178, 178, 180, 188, 190, 182, 197, 172, 189, 178, 186, 192, 186, 180, 184, 185, 186, 186, 178, 190, 202, 183, 174, 166, 176, 178, 186, 189, 180, 176, 168, 175, 174, 196, 185, 190, 182, 188, 178, 173, 190, 178, 180, 180, 188, 174, 180, 188, 192, 180, 188, 176, 193, 180, 183, 187, 184, 170, 190, 173, 183, 175, 187, 182, 185, 178, 188, 170, 183, 177, 190, 173, 179, 169, 183, 191, 180, 183, 195, 178, 182, 185, 174, 173, 183, 193, 189, 171, 189, 187, 186, 179, 180, 181, 174, 183, 188, 178, 177, 183, 190, 180, 180, 175, 178, 183, 193, 170, 171, 192, 196, 179, 172, 180, 170, 186, 188, 176, 184, 192, 181, 191, 183, 189, 188, 180, 186, 177, 186, 172, 183, 185, 178, 173, 187, 180, 177, 173, 172, 185, 177, 172, 175, 187, 172, 188, 174, 177, 173, 176, 189, 167, 175, 169, 174, 178, 172, 176, 189, 180, 182, 177, 170, 173, 187, 178, 181, 187, 190, 186, 187, 187, 169, 185, 196, 188, 180, 186, 195, 181, 186, 180, 170, 183, 180, 193, 181, 189, 189, 184, 184, 179, 176, 172, 172, 180, 177, 176, 178, 190, 183, 183, 177, 188, 190, 186, 196, 186, 187, 192, 186, 180, 179, 175, 186, 176, 185, 185, 185, 181, 184, 180, 195, 183, 179, 186, 188, 188, 183, 188, 183, 175, 180, 175, 181, 181, 193, 175, 185, 175, 180, 177, 178, 172, 179, 174, 180, 176, 170, 192, 176, 177, 185, 180, 189, 188, 188, 183, 179, 189, 187, 179, 181, 180, 183, 201, 178, 180, 184, 175, 176, 198, 190, 179, 181, 177, 178, 185, 187, 185, 180, 171, 188, 177, 176, 184, 185, 191, 192, 175, 185, 172, 183, 172, 173, 182, 180, 189, 185, 183, 185, 192, 188, 183, 184, 173, 177, 176, 174, 178, 183, 192, 174, 191, 173, 173, 180, 174, 174, 176, 188, 188, 188, 173, 185, 180, 191, 193, 185, 186, 182, 177, 178, 178, 178, 181, 188, 175, 177, 186, 180, 178, 170, 186, 191, 174, 177, 183, 182, 183, 185, 180, 185, 175, 172, 184, 177, 187, 181, 167, 182, 182, 190, 187, 185, 183, 178, 187, 178, 188, 196, 175, 183, 175, 175, 173, 180, 180, 185, 191, 179, 176, 182, 180, 175, 180, 180, 180, 181, 179, 182, 178, 183, 173, 180, 180, 180, 190, 185, 197, 174, 187, 171, 186, 183, 183, 176, 183, 186, 180, 177, 173, 185, 177, 175, 180, 193, 179, 178, 180, 177, 183, 193, 192, 180, 175, 195, 184, 180, 181, 183, 189, 176, 190, 187, 180, 188, 185, 183, 178, 180, 188, 179, 188, 181, 198, 191, 193, 180, 180, 173, 186, 193, 173, 180, 170, 188, 180, 177, 186, 176, 178, 175, 190, 188, 180, 173, 188, 179, 185, 187, 173, 180, 171, 173, 176, 174, 183, 178, 179, 186, 184, 175, 184, 174, 188, 185, 184, 186, 191, 185, 178, 182, 186, 185, 185, 178, 193, 183, 182, 185, 185, 196, 180, 178, 191, 187, 177, 170, 190, 181, 188, 194, 180, 175, 181, 188, 178, 192, 178, 185, 190, 183, 172, 181, 192, 190, 182, 185, 188, 181, 185, 168, 180, 176, 180, 174, 178, 179, 187, 183, 180, 184, 173, 183, 177, 172, 171, 186, 190, 187, 191, 187, 189, 177, 182, 187, 178, 184, 173, 188, 184, 175, 170, 186, 184, 189, 195, 182, 175, 175, 186, 174, 178, 174, 196, 192, 176, 182, 182, 194, 175, 175, 182, 184, 177, 178, 177, 182, 175, 185, 170, 185, 173, 188, 185, 173, 179, 177, 183, 178, 182, 185, 197, 191, 173, 171, 183, 181, 180, 181, 178, 189, 180, 172, 184, 188, 173, 183, 174, 190, 187, 182, 178, 174, 165, 187, 176, 176, 183, 188, 175, 183, 182, 186, 180, 183, 192, 185, 168, 184, 174, 176, 184, 186, 193, 185, 180, 174, 191, 190, 189, 190, 183, 177, 183, 183, 186, 180, 185, 185, 170, 176, 186, 175, 191, 173, 173, 176, 185, 176, 175, 183, 175, 189, 184, 181, 183, 175, 184, 190, 179, 178, 192, 184, 173, 180, 188, 188, 190, 179, 177, 190, 182, 203, 190, 183, 180, 189, 194, 180, 184, 185, 180, 187, 194, 173, 187, 173, 180, 185, 190, 179, 178, 194, 186, 180, 186, 176, 195, 182, 170, 163, 175, 178, 176, 181, 178, 178, 180, 185, 179, 192, 190, 177, 185, 175, 178, 176, 175, 172, 187, 190, 167, 193, 183, 173, 183, 175, 196, 180, 172, 187, 182, 180, 175, 171, 190, 180, 184, 177, 191, 186, 183, 185, 181, 192, 176, 166, 187, 180, 174, 181, 194, 176, 184, 187, 183, 183, 184, 180, 191, 178, 172, 174, 185, 178, 185, 172, 181, 183, 170, 175, 189, 191, 180, 176, 177, 184, 173, 178, 175, 194, 196, 184, 180, 181, 188, 180, 187, 175, 176, 179, 189, 177, 181, 177, 179, 193, 196, 187, 183, 179, 183, 182, 173, 188, 188, 175, 191, 185, 186, 187, 174, 188, 184, 182, 193, 175, 191, 185, 183, 185, 192, 177, 181, 182, 189, 184, 183, 169, 173, 197, 182, 178, 181, 185, 185, 173, 175, 181, 178, 179, 170, 180, 182, 169, 185, 185, 173, 174, 186, 178, 190, 178, 194, 180, 180, 189, 172, 171, 173, 186, 178, 178, 190, 175, 178, 179, 185, 191, 172, 179, 178, 172, 184, 183, 178, 178, 178, 186, 178, 185, 188, 186, 187, 188, 181, 193, 184, 187, 181, 181, 174, 175, 178, 178, 193, 173, 188, 176, 178, 173, 178, 185, 178, 178, 175, 180, 169, 192, 181, 176, 193, 185, 176, 185, 176, 180, 179, 187, 184, 178, 170, 175, 178, 178, 185, 180, 175, 185, 176, 175, 179, 177, 175, 180, 185, 191, 181, 171, 188, 188, 196, 187, 185, 192, 169, 190, 196, 179, 182, 180, 192, 186, 180, 191, 179, 169, 167, 183, 175, 180, 193, 191, 187, 190, 180, 191, 188, 181, 177, 173, 170, 184, 185, 175, 194, 180, 174, 180, 190, 191, 170, 182, 185, 174, 191, 181, 180, 188, 183, 183, 183, 167, 191, 170, 191, 191, 180, 181, 165, 176, 191, 191, 170, 190, 185, 183, 186, 176, 181, 188, 170, 178, 178, 188, 188, 183, 175, 175, 187, 191, 173, 184, 183, 191, 194, 184, 176, 180, 175, 181, 182, 178, 170, 183, 177, 191, 191, 176, 177, 178, 181, 183, 173, 188, 173, 180, 191, 175, 185, 175, 188, 193, 176, 186, 178, 185, 183, 194, 183, 184, 188, 188, 180, 188, 182, 188, 185, 168, 176, 196, 178, 185, 185, 172, 183, 188, 181, 184, 188, 183, 171, 184, 183, 193, 188, 168, 183, 181, 178, 182, 178, 180, 188, 191, 168, 185, 190, 175, 181, 182, 180, 177, 181, 163, 183, 182, 180, 178, 178, 178, 171, 182, 180, 193, 180, 178, 177, 175, 183, 193, 188, 180, 185, 190, 193, 190, 166, 182, 178, 167, 176, 173, 175, 185, 177, 178, 186, 173, 180, 183, 191, 187, 183, 180, 183, 181, 177, 177, 190, 180, 185, 186, 187, 196, 189, 173, 185, 183, 175, 188, 193, 180, 185, 170, 178, 182, 188, 175, 172, 183, 175, 181, 178, 182, 183, 175, 187, 170, 188, 178, 182, 188, 167, 188, 185, 187, 184, 183, 180, 191, 183, 175, 182, 191, 178, 172, 185, 180, 190, 191, 180, 175, 173, 178, 185, 188, 179, 177, 185, 193, 180, 183, 185, 188, 190, 187, 179, 189, 178, 182, 189, 184, 186, 178, 192, 184, 175, 187, 185, 180, 177, 185, 183, 185, 175, 187, 188, 184, 183, 179, 182, 193, 189, 183, 180, 194, 187, 165, 177, 180, 190, 174, 178, 178, 185, 185, 194, 185, 191, 193, 173, 185, 180, 178, 185, 188, 186, 180, 180, 180, 180, 190, 179, 179, 192, 197, 183, 168, 180, 180, 188, 179, 178, 180, 183, 178, 185, 177, 185, 180, 179, 190, 180, 183, 192, 189, 178, 178, 174, 170, 176, 170, 195, 178, 187, 178, 183, 167, 178, 178, 170, 180, 180, 180, 185, 175, 183, 180, 173, 185, 180, 175, 185, 178, 175, 184, 184, 179, 174, 189, 176, 184, 180, 182, 188, 180, 173, 186, 179, 188, 184, 180, 178, 178, 181, 185, 182, 180, 180, 188, 172, 183, 191, 181, 178, 191, 191, 178, 173, 188, 179, 180, 193, 179, 185, 178, 179, 183, 168, 183, 184, 180, 203, 173, 180, 170, 193, 175, 175, 178, 191, 174, 188, 167, 173, 183, 184, 183, 187, 177, 176, 184, 185, 184, 180, 181, 193, 175, 177, 184, 185, 189, 179, 182, 173, 165, 184, 191, 175, 185, 187, 170, 184, 178, 174, 179, 178, 181, 194, 179, 185, 180, 178, 184, 178, 188, 176, 191, 174, 180, 180, 182, 180, 192, 188, 172, 168, 177, 165, 194, 174, 181, 177, 174, 180, 177, 191, 179, 194, 185, 176, 194, 187, 187, 173, 188, 178, 185, 180, 177, 176, 185, 182, 182, 185, 169, 179, 179, 182, 176, 172, 171, 190, 175, 178, 190, 180, 191, 179, 187, 189, 180, 188, 178, 187, 181, 189, 185, 178, 190, 189, 175, 185, 176, 180, 185, 186, 188, 198, 182, 192, 182, 190, 182, 189, 191, 183, 192, 181, 180, 178, 181, 191, 182, 178, 173, 192, 188, 180, 175, 187, 187, 182, 185, 182, 185, 180, 189, 177, 182, 172, 184, 174, 184, 168, 175, 180, 183, 175, 174, 185, 185, 195, 178, 180, 180, 182, 179, 172, 187, 181, 165, 177, 198, 180, 179, 174, 180, 183, 191, 196, 182, 180, 185, 181, 178, 176, 179, 191, 188, 176, 175, 178, 190, 192, 185, 180, 174, 175, 175, 178, 181, 193, 173, 185, 170, 190, 189, 182, 180, 180, 175, 180, 179, 185, 182, 179, 182, 185, 174, 177, 173, 186, 182, 191, 171, 183, 192, 185, 184, 180, 183, 178, 170, 183, 185, 190, 179, 191, 173, 182, 191, 171, 186, 173, 175, 183, 187, 180, 178, 197, 187, 171, 179, 186, 178, 180, 175, 177, 176, 183, 183, 173, 180, 170, 178, 170, 176, 189, 185, 180, 180, 178, 176, 175, 180, 183, 170, 178, 180, 184, 181, 178, 180, 177, 178, 178, 176, 179, 188, 184, 185, 179, 190, 170, 190, 187, 183, 185, 185, 187, 177, 185, 175, 179, 181, 180, 176, 162, 179, 193, 185, 176, 178, 183, 177, 182, 177, 182, 174, 175, 180, 184, 178, 188, 180, 183, 185, 182, 177, 176, 183, 187, 197, 187, 180, 182, 182, 182, 186, 185, 172, 174, 181, 186, 189, 175, 178, 193, 180, 174, 182, 180, 193, 180, 181, 173, 188, 187, 174, 171, 180, 178, 180, 179, 191, 183, 185, 178, 183, 178, 191, 181, 184, 172, 187, 180, 180, 190, 184, 188, 188, 188, 183, 179, 182, 176, 178, 173, 185, 185, 189, 178, 188, 178, 176, 181, 167, 180, 185, 180, 183, 189, 194, 185, 190, 185, 179, 178, 173, 177, 180, 178, 175, 183, 170, 179, 186, 188, 186, 175, 179, 177, 186, 176, 173, 183, 178, 178, 186, 180, 185, 173, 171, 172, 188, 183, 182, 187, 176, 173, 185, 180, 183, 170, 180, 193, 175, 174, 177, 188, 180, 182, 186, 187, 186, 180, 184, 190, 165, 193, 189, 180, 175, 188, 180, 169, 183, 173, 183, 179, 189, 182, 186, 179, 182, 179, 181, 182, 181, 175, 190, 184, 183, 183, 186, 186, 173, 180, 188, 175, 181, 179, 183, 186, 173, 168, 184, 183, 178, 193, 178, 177, 189, 178, 176, 182, 174, 180, 179, 180, 183, 173, 183, 185, 185, 188, 188, 173, 160, 174, 182, 178, 183, 178, 183, 193, 188, 175, 196, 175, 185, 185, 183, 185, 183, 180, 165, 175, 183, 183, 183, 178, 180, 178, 173, 179, 186, 187, 185, 175, 173, 175, 191, 188, 195, 191, 185, 187, 178, 176, 184, 185, 177, 175, 170, 175, 181, 194, 186, 175, 174, 176, 188, 174, 173, 191, 182, 176, 173, 190, 181, 173, 188, 170, 194, 178, 177, 181, 186, 180, 191, 179, 178, 180, 178, 175, 181, 170, 182, 184, 182, 180, 175, 178, 168, 175, 188, 183, 184, 188, 185, 185, 190, 172, 183, 168, 180, 185, 173, 184, 172, 164, 185, 183, 191, 181, 175, 191, 178, 180, 180, 180, 175, 182, 185, 191, 175, 185, 183, 176, 173, 182, 183, 179, 192, 183, 182, 199, 188, 185, 196, 185, 178, 183, 188, 187, 183, 184, 184, 185, 188, 177, 180, 194, 187, 175, 191, 186, 178, 178, 191, 185, 180, 173, 179, 170, 183, 196, 180, 193, 188, 178, 173, 178, 179, 181, 178, 179, 176, 181, 194, 177, 184, 184, 179, 178, 180, 185, 178, 188, 174, 187, 177, 179, 170, 181, 186, 176, 180, 177, 190, 185, 180, 179, 189, 185, 175, 182, 184, 180, 182, 180, 187, 184, 187, 177, 194, 186, 176, 179, 184, 170, 185, 175, 177, 178, 182, 174, 180, 188, 175, 189, 180, 188, 183, 191, 172, 183, 189, 179, 188, 171, 180, 193, 183, 176, 182, 170, 183, 182, 178, 183, 179, 179, 178, 178, 188, 186, 175, 193, 178, 180, 176, 180, 186, 170, 169, 180, 179, 178, 180, 186, 178, 180, 178, 185, 178, 188, 193, 180, 178, 189, 180, 175, 192, 191, 183, 185, 180, 182, 183, 189, 176, 178, 183, 188, 170, 182, 183, 171, 171, 180, 178, 178, 176, 174, 187, 180, 187, 175, 188, 184, 194, 175, 173, 193, 176, 174, 197, 191, 173, 177, 175, 182, 181, 179, 189, 176, 172, 175, 186, 170, 178, 181, 180, 185, 178, 185, 185, 192, 187, 185, 185, 180, 182, 185, 180, 177, 190, 179, 190, 192, 183, 179, 183, 193, 193, 187, 178, 183, 168, 182, 186, 177, 189, 175, 183, 172, 168, 180, 193, 193, 193, 180, 181, 193, 175, 171, 183, 178, 183, 184, 178, 180, 180, 180, 180, 178, 177, 189, 175, 180, 183, 186, 178, 191, 184, 190, 181, 177, 178, 172, 189, 193, 187, 193, 181, 185, 193, 183, 192, 175, 171, 190, 169, 181, 188, 187, 188, 183, 182, 179, 178, 170, 190, 199, 180, 190, 186, 183, 190, 181, 180, 175, 177, 190, 178, 181, 182, 178, 191, 184, 181, 187, 174, 178, 183, 184, 180, 185, 185, 199, 173, 180, 180, 172, 183, 175, 175, 181, 184, 182, 182, 184, 174, 180, 178, 186, 187, 180, 183, 185, 183, 193, 185, 179, 197, 185, 171, 188, 183, 187, 188, 175, 186, 188, 188, 165, 184, 180, 191, 194, 182, 169, 191, 176, 183, 173, 182, 184, 191, 173, 173, 180, 171, 174, 170, 191, 186, 190, 188, 180, 186, 182, 173, 180, 175, 190, 183, 180, 195, 175, 182, 186, 172, 189, 170, 182, 185, 182, 170, 192, 175, 183, 187, 190, 175, 178, 191, 170, 180, 183, 174, 186, 186, 185, 180, 180, 175, 182, 193, 177, 176, 178, 180, 170, 190, 183, 178, 185, 177, 180, 180, 190, 185, 193, 180, 195, 182, 187, 189, 176, 179, 178, 180, 194, 194, 183, 171, 185, 189, 185, 183, 190, 181, 186, 175, 185, 179, 178, 181, 182, 188, 176, 182, 175, 188, 188, 178, 196, 173, 180, 190, 166, 176, 180, 185, 188, 174, 185, 189, 188, 176, 181, 190, 175, 180, 178, 188, 178, 178, 181, 189, 185, 178, 175, 183, 188, 186, 173, 191, 185, 195, 184, 175, 198, 185, 185, 170, 180, 185, 175, 185, 179, 186, 183, 176, 183, 180, 177, 187, 171, 183, 183, 185, 170, 181, 188, 177, 181, 183, 191, 195, 178, 194, 182, 174, 187, 182, 183, 193, 182, 185, 183, 176, 177, 178, 177, 179, 186, 185, 180, 184, 178, 180, 178, 185, 183, 185, 178, 188, 178, 187, 187, 178, 170, 180, 181, 192, 173, 183, 183, 180, 185, 183, 175, 183, 187, 171, 182, 185, 191, 179, 185, 183, 180, 190, 176, 175, 175, 182, 179, 175, 192, 179, 178, 182, 176, 180, 187, 185, 183, 180, 186, 171, 189, 191, 184, 186, 189, 180, 180, 192, 188, 176, 190, 183, 181, 178, 183, 178, 180, 183, 184, 180, 177, 193, 172, 191, 180, 184, 190, 178, 178, 182, 193, 184, 194, 180, 182, 186, 183, 166, 177, 190, 185, 187, 190, 178, 196, 190, 182, 183, 183, 173, 185, 184, 195, 181, 183, 183, 191, 186, 182, 191, 175, 172, 190, 185, 183, 187, 185, 179, 186, 184, 167, 184, 174, 184, 179, 185, 185, 180, 190, 191, 185, 185, 180, 191, 188, 190, 186, 173, 188, 193, 188, 179, 180, 175, 186, 187, 186, 183, 175, 181, 179, 190, 169, 184, 196, 183, 190, 189, 194, 186, 170, 175, 180, 181, 187, 184, 187, 166, 185, 183, 177, 184, 175, 178, 186, 186, 183, 187, 173, 180, 172, 185, 182, 184, 188, 175, 175, 182, 175, 188, 185, 188, 183, 182, 180, 194, 186, 187, 173, 190, 182, 185, 187, 180, 177, 180, 196, 177, 191, 190, 193, 182, 169, 190, 175, 182, 193, 170, 174, 174, 170, 181, 181, 191, 180, 183, 171, 180, 180, 191, 178, 178, 188, 180, 175, 169, 191, 180, 188, 173, 188, 191, 189, 188, 185, 196, 188, 188, 188, 176, 191, 171, 180, 183, 180, 196, 183, 180, 170, 182, 181, 193, 172, 175, 194, 178, 189, 184, 185, 185, 177, 163, 190, 175, 201, 191, 184, 193, 175, 183, 183, 178, 191, 193, 194, 178, 181, 180, 183, 175, 182, 183, 178, 178, 178, 181, 173, 186, 184, 193, 175, 175, 185, 179, 175, 182, 178, 175, 187, 173, 180, 180, 185, 178, 176, 179, 189, 183, 184, 173, 178, 178, 176, 193, 183, 182, 170, 185, 185, 198, 180, 173, 182, 187, 188, 175, 168, 185, 182, 174, 190, 179, 181, 183, 185, 180, 185, 178, 188, 182, 179, 175, 189, 179, 179, 181, 193, 188, 186, 188, 183, 183, 178, 182, 180, 177, 179, 181, 177, 181, 175, 175, 185, 191, 188, 181, 186, 194, 191, 179, 188, 193, 185, 178, 185, 191, 180, 164, 186, 190, 174, 181, 173, 191, 182, 178, 178, 173, 178, 180, 177, 193, 168, 184, 185, 185, 175, 191, 180, 184, 190, 188, 185, 188, 170, 180, 177, 188, 196, 168, 183, 191, 191, 185, 188, 174, 170, 178, 180, 193, 170, 182, 176, 173, 170, 183, 180, 183, 173, 183, 185, 191, 179, 180, 173, 183, 173, 181, 185, 192, 191, 198, 185, 183, 178, 191, 185, 174, 178, 180, 191, 181, 191, 178, 182, 178, 175, 174, 175, 190, 175, 183, 175, 193, 173, 184, 178, 183, 191, 178, 174, 189, 174, 193, 180, 178, 189, 175, 185, 180, 185, 177, 173, 186, 173, 178, 175, 175, 183, 188, 188, 193, 188, 170, 183, 175, 175, 183, 180, 185, 185, 185, 173, 180, 180, 178, 182, 183, 185, 180, 175, 178, 193, 183, 185, 183, 178, 180, 187, 178, 180, 178, 191, 188, 185, 183, 177, 170, 188, 173, 182, 186, 185, 185, 186, 185, 184, 182, 188, 192, 183, 185, 173, 196, 182, 176, 181, 185, 188, 185, 183, 184, 188, 173, 186, 178, 188, 179, 191, 191, 188, 183, 176, 186, 175, 180, 183, 180, 185, 185, 187, 183, 180, 170, 181, 182, 181, 185, 168, 184, 191, 184, 183, 194, 190, 189, 181, 177, 190, 179, 186, 178, 190, 175, 192, 191, 183, 191, 184, 174, 192, 187, 178, 176, 175, 191, 179, 188, 178, 171, 180, 182, 173, 177, 192, 183, 175, 182, 178, 188, 192, 183, 186, 188, 180, 191, 180, 173, 191, 185, 181, 175, 180, 178, 175, 184, 179, 171, 180, 182, 174, 190, 170, 179, 175, 178, 177, 178, 171, 188, 173, 179, 182, 183, 185, 165, 182, 194, 181, 176, 180, 172, 187, 178, 187, 180, 182, 174, 196, 196, 175, 189, 175, 183, 179, 179]\n",
    "positions = ['GK', 'M', 'A', 'D', 'M', 'D', 'M', 'M', 'M', 'A', 'M', 'M', 'A', 'A', 'A', 'M', 'D', 'A', 'D', 'M', 'GK', 'D', 'D', 'M', 'M', 'M', 'M', 'D', 'M', 'GK', 'D', 'GK', 'D', 'D', 'M', 'A', 'M', 'D', 'M', 'GK', 'M', 'GK', 'A', 'D', 'GK', 'A', 'GK', 'GK', 'GK', 'GK', 'A', 'D', 'A', 'D', 'D', 'M', 'D', 'M', 'D', 'D', 'GK', 'GK', 'D', 'M', 'M', 'GK', 'M', 'D', 'M', 'M', 'D', 'D', 'M', 'M', 'D', 'A', 'A', 'M', 'M', 'M', 'A', 'D', 'D', 'A', 'A', 'M', 'M', 'M', 'D', 'D', 'A', 'A', 'D', 'M', 'M', 'M', 'D', 'M', 'M', 'D', 'M', 'A', 'M', 'M', 'GK', 'M', 'D', 'M', 'M', 'D', 'M', 'M', 'A', 'GK', 'D', 'M', 'GK', 'M', 'M', 'M', 'M', 'D', 'D', 'M', 'D', 'M', 'D', 'M', 'M', 'A', 'M', 'GK', 'A', 'M', 'D', 'M', 'D', 'GK', 'D', 'D', 'M', 'A', 'GK', 'M', 'D', 'A', 'D', 'A', 'A', 'M', 'D', 'M', 'A', 'GK', 'D', 'M', 'GK', 'A', 'D', 'D', 'D', 'GK', 'GK', 'M', 'D', 'GK', 'D', 'M', 'GK', 'A', 'D', 'GK', 'GK', 'D', 'M', 'GK', 'D', 'D', 'D', 'M', 'D', 'M', 'D', 'D', 'A', 'D', 'D', 'D', 'M', 'M', 'A', 'D', 'M', 'M', 'D', 'M', 'A', 'A', 'D', 'A', 'GK', 'M', 'A', 'A', 'D', 'D', 'A', 'D', 'GK', 'D', 'M', 'D', 'D', 'M', 'M', 'GK', 'D', 'M', 'GK', 'GK', 'D', 'M', 'D', 'D', 'M', 'A', 'D', 'D', 'M', 'A', 'A', 'A', 'A', 'A', 'M', 'D', 'D', 'A', 'M', 'GK', 'M', 'GK', 'A', 'A', 'GK', 'M', 'D', 'M', 'D', 'D', 'M', 'M', 'A', 'A', 'D', 'D', 'D', 'M', 'M', 'GK', 'D', 'M', 'M', 'D', 'D', 'D', 'M', 'M', 'M', 'D', 'M', 'A', 'A', 'D', 'D', 'M', 'GK', 'A', 'D', 'D', 'D', 'GK', 'D', 'M', 'D', 'A', 'A', 'GK', 'A', 'D', 'M', 'M', 'GK', 'A', 'A', 'M', 'D', 'A', 'M', 'M', 'M', 'D', 'D', 'D', 'M', 'D', 'A', 'M', 'M', 'M', 'A', 'M', 'M', 'D', 'M', 'D', 'M', 'M', 'A', 'D', 'D', 'M', 'A', 'D', 'D', 'M', 'M', 'M', 'D', 'M', 'D', 'A', 'D', 'D', 'M', 'D', 'A', 'D', 'D', 'GK', 'M', 'M', 'M', 'GK', 'M', 'A', 'D', 'D', 'M', 'A', 'GK', 'M', 'D', 'A', 'M', 'A', 'A', 'A', 'M', 'GK', 'A', 'A', 'M', 'A', 'D', 'D', 'D', 'A', 'GK', 'D', 'D', 'D', 'D', 'GK', 'A', 'GK', 'D', 'D', 'M', 'GK', 'D', 'D', 'D', 'A', 'D', 'D', 'GK', 'D', 'D', 'D', 'GK', 'D', 'GK', 'A', 'M', 'A', 'M', 'A', 'D', 'D', 'D', 'GK', 'GK', 'GK', 'M', 'A', 'M', 'D', 'M', 'A', 'GK', 'M', 'D', 'M', 'M', 'D', 'A', 'GK', 'M', 'A', 'GK', 'GK', 'M', 'A', 'A', 'M', 'GK', 'GK', 'D', 'M', 'A', 'D', 'A', 'D', 'D', 'A', 'D', 'M', 'D', 'D', 'M', 'D', 'A', 'GK', 'D', 'D', 'GK', 'A', 'D', 'D', 'GK', 'D', 'A', 'M', 'A', 'A', 'GK', 'D', 'A', 'D', 'A', 'D', 'GK', 'D', 'D', 'A', 'A', 'M', 'A', 'GK', 'M', 'D', 'A', 'D', 'M', 'M', 'D', 'M', 'GK', 'D', 'M', 'A', 'A', 'M', 'M', 'M', 'GK', 'GK', 'D', 'A', 'M', 'GK', 'D', 'M', 'GK', 'M', 'M', 'GK', 'M', 'D', 'A', 'D', 'M', 'M', 'A', 'M', 'GK', 'A', 'GK', 'A', 'M', 'GK', 'GK', 'D', 'D', 'M', 'M', 'D', 'GK', 'A', 'M', 'GK', 'A', 'GK', 'D', 'D', 'M', 'M', 'M', 'D', 'M', 'M', 'GK', 'M', 'D', 'M', 'D', 'GK', 'M', 'A', 'GK', 'A', 'M', 'M', 'A', 'M', 'M', 'A', 'A', 'A', 'M', 'GK', 'D', 'D', 'M', 'D', 'GK', 'D', 'M', 'M', 'M', 'A', 'D', 'A', 'D', 'A', 'M', 'M', 'D', 'M', 'M', 'D', 'D', 'GK', 'M', 'A', 'GK', 'A', 'A', 'M', 'D', 'GK', 'D', 'M', 'M', 'GK', 'GK', 'D', 'D', 'M', 'D', 'M', 'M', 'M', 'M', 'GK', 'M', 'D', 'M', 'D', 'GK', 'A', 'M', 'D', 'M', 'A', 'A', 'D', 'D', 'D', 'M', 'GK', 'D', 'A', 'M', 'D', 'A', 'GK', 'M', 'D', 'M', 'D', 'A', 'A', 'M', 'A', 'D', 'D', 'M', 'A', 'M', 'M', 'A', 'D', 'GK', 'A', 'M', 'D', 'M', 'A', 'D', 'D', 'D', 'GK', 'D', 'M', 'GK', 'M', 'M', 'GK', 'M', 'M', 'D', 'M', 'D', 'D', 'M', 'D', 'A', 'M', 'D', 'D', 'GK', 'D', 'M', 'M', 'GK', 'GK', 'M', 'D', 'D', 'A', 'GK', 'D', 'D', 'D', 'GK', 'A', 'A', 'D', 'A', 'D', 'M', 'D', 'D', 'A', 'M', 'GK', 'D', 'M', 'D', 'M', 'A', 'A', 'GK', 'M', 'D', 'A', 'D', 'D', 'M', 'A', 'A', 'D', 'M', 'M', 'D', 'A', 'D', 'M', 'A', 'M', 'D', 'D', 'D', 'A', 'GK', 'D', 'D', 'M', 'M', 'A', 'M', 'A', 'D', 'M', 'A', 'A', 'GK', 'A', 'D', 'A', 'M', 'A', 'D', 'D', 'D', 'GK', 'A', 'D', 'D', 'D', 'A', 'A', 'A', 'M', 'GK', 'GK', 'D', 'A', 'GK', 'D', 'A', 'M', 'M', 'D', 'GK', 'M', 'A', 'M', 'D', 'M', 'M', 'M', 'D', 'A', 'GK', 'GK', 'D', 'M', 'D', 'D', 'D', 'M', 'GK', 'M', 'D', 'D', 'D', 'A', 'A', 'GK', 'D', 'D', 'M', 'M', 'D', 'D', 'M', 'M', 'D', 'A', 'M', 'D', 'M', 'M', 'M', 'A', 'GK', 'D', 'D', 'D', 'A', 'M', 'M', 'A', 'M', 'M', 'D', 'M', 'D', 'M', 'A', 'D', 'D', 'M', 'M', 'M', 'D', 'M', 'M', 'D', 'M', 'M', 'M', 'D', 'D', 'A', 'D', 'A', 'A', 'D', 'D', 'M', 'M', 'A', 'A', 'GK', 'A', 'GK', 'M', 'M', 'GK', 'D', 'GK', 'A', 'GK', 'D', 'M', 'GK', 'M', 'D', 'D', 'D', 'GK', 'M', 'GK', 'D', 'D', 'D', 'D', 'GK', 'A', 'M', 'M', 'D', 'GK', 'GK', 'GK', 'D', 'D', 'M', 'D', 'D', 'GK', 'D', 'A', 'D', 'M', 'D', 'D', 'D', 'M', 'D', 'M', 'D', 'M', 'D', 'D', 'M', 'M', 'D', 'D', 'A', 'M', 'D', 'M', 'A', 'M', 'D', 'A', 'M', 'D', 'GK', 'D', 'D', 'A', 'D', 'M', 'D', 'GK', 'A', 'D', 'A', 'M', 'A', 'A', 'GK', 'D', 'M', 'D', 'A', 'D', 'A', 'M', 'M', 'D', 'D', 'D', 'A', 'GK', 'A', 'D', 'M', 'M', 'M', 'D', 'A', 'A', 'D', 'D', 'M', 'D', 'D', 'D', 'GK', 'D', 'M', 'D', 'D', 'A', 'D', 'M', 'M', 'M', 'M', 'A', 'M', 'M', 'D', 'A', 'M', 'D', 'M', 'M', 'M', 'M', 'M', 'GK', 'D', 'M', 'A', 'D', 'D', 'M', 'M', 'M', 'A', 'M', 'GK', 'A', 'A', 'GK', 'A', 'A', 'GK', 'M', 'D', 'M', 'D', 'A', 'D', 'D', 'M', 'D', 'M', 'D', 'D', 'M', 'D', 'D', 'A', 'A', 'A', 'M', 'A', 'D', 'D', 'M', 'A', 'GK', 'D', 'M', 'A', 'D', 'GK', 'D', 'M', 'M', 'A', 'D', 'M', 'D', 'D', 'D', 'GK', 'M', 'A', 'A', 'A', 'D', 'GK', 'M', 'GK', 'M', 'GK', 'GK', 'M', 'M', 'M', 'D', 'GK', 'D', 'A', 'A', 'A', 'A', 'A', 'D', 'M', 'D', 'D', 'M', 'D', 'A', 'A', 'M', 'D', 'GK', 'D', 'M', 'A', 'D', 'D', 'A', 'M', 'M', 'D', 'D', 'A', 'D', 'M', 'D', 'A', 'A', 'D', 'M', 'M', 'GK', 'D', 'A', 'A', 'A', 'D', 'D', 'GK', 'M', 'M', 'A', 'M', 'M', 'GK', 'D', 'D', 'D', 'A', 'GK', 'M', 'D', 'M', 'D', 'GK', 'M', 'A', 'M', 'D', 'A', 'M', 'GK', 'D', 'D', 'A', 'M', 'D', 'M', 'GK', 'M', 'M', 'GK', 'A', 'M', 'D', 'D', 'A', 'D', 'A', 'D', 'D', 'M', 'M', 'D', 'M', 'GK', 'D', 'M', 'M', 'D', 'GK', 'M', 'M', 'GK', 'D', 'D', 'M', 'M', 'D', 'D', 'A', 'M', 'A', 'M', 'A', 'D', 'D', 'D', 'A', 'D', 'GK', 'A', 'M', 'D', 'D', 'D', 'GK', 'M', 'A', 'D', 'GK', 'M', 'D', 'A', 'GK', 'GK', 'A', 'D', 'M', 'A', 'D', 'GK', 'D', 'D', 'A', 'D', 'D', 'A', 'M', 'M', 'GK', 'D', 'D', 'M', 'GK', 'D', 'D', 'D', 'D', 'D', 'D', 'D', 'D', 'A', 'D', 'M', 'A', 'M', 'M', 'M', 'A', 'D', 'D', 'D', 'M', 'D', 'A', 'D', 'A', 'D', 'D', 'D', 'D', 'D', 'M', 'D', 'GK', 'D', 'M', 'A', 'M', 'GK', 'M', 'M', 'M', 'D', 'M', 'M', 'M', 'M', 'A', 'D', 'M', 'A', 'GK', 'M', 'M', 'D', 'D', 'M', 'A', 'A', 'A', 'GK', 'M', 'D', 'M', 'M', 'D', 'GK', 'D', 'GK', 'D', 'M', 'M', 'A', 'D', 'GK', 'A', 'D', 'A', 'A', 'D', 'A', 'M', 'A', 'M', 'M', 'M', 'D', 'M', 'M', 'D', 'D', 'M', 'D', 'D', 'D', 'A', 'M', 'D', 'M', 'A', 'A', 'GK', 'GK', 'M', 'A', 'M', 'D', 'D', 'D', 'GK', 'A', 'GK', 'D', 'M', 'D', 'M', 'D', 'A', 'M', 'D', 'M', 'D', 'GK', 'M', 'D', 'D', 'M', 'D', 'GK', 'A', 'D', 'D', 'GK', 'GK', 'D', 'A', 'A', 'M', 'A', 'D', 'GK', 'A', 'M', 'GK', 'GK', 'D', 'M', 'D', 'M', 'D', 'M', 'M', 'M', 'M', 'A', 'D', 'A', 'D', 'M', 'M', 'M', 'A', 'M', 'GK', 'M', 'A', 'M', 'M', 'A', 'D', 'GK', 'M', 'M', 'D', 'D', 'M', 'M', 'M', 'D', 'D', 'M', 'A', 'M', 'D', 'GK', 'D', 'M', 'D', 'D', 'M', 'A', 'GK', 'A', 'GK', 'GK', 'D', 'M', 'A', 'M', 'D', 'M', 'GK', 'D', 'M', 'D', 'A', 'D', 'D', 'D', 'GK', 'D', 'GK', 'M', 'D', 'A', 'A', 'M', 'M', 'M', 'A', 'GK', 'M', 'D', 'A', 'A', 'GK', 'A', 'M', 'M', 'D', 'D', 'D', 'D', 'A', 'D', 'GK', 'D', 'M', 'A', 'M', 'A', 'M', 'M', 'M', 'M', 'M', 'M', 'A', 'M', 'M', 'D', 'GK', 'M', 'A', 'GK', 'A', 'GK', 'M', 'M', 'M', 'M', 'A', 'A', 'GK', 'GK', 'A', 'M', 'M', 'A', 'M', 'D', 'A', 'M', 'M', 'M', 'GK', 'M', 'M', 'A', 'D', 'GK', 'D', 'GK', 'D', 'D', 'D', 'A', 'M', 'M', 'M', 'D', 'A', 'D', 'M', 'M', 'D', 'D', 'A', 'A', 'A', 'A', 'M', 'A', 'GK', 'M', 'D', 'M', 'M', 'A', 'D', 'M', 'M', 'GK', 'M', 'A', 'M', 'D', 'M', 'A', 'M', 'M', 'GK', 'D', 'D', 'GK', 'D', 'M', 'D', 'D', 'M', 'D', 'D', 'D', 'M', 'M', 'M', 'A', 'M', 'A', 'M', 'D', 'M', 'GK', 'D', 'A', 'M', 'A', 'M', 'GK', 'A', 'D', 'D', 'D', 'GK', 'D', 'A', 'A', 'M', 'M', 'D', 'M', 'A', 'M', 'M', 'M', 'M', 'D', 'A', 'D', 'A', 'M', 'A', 'M', 'M', 'M', 'M', 'M', 'GK', 'A', 'M', 'D', 'M', 'D', 'A', 'GK', 'D', 'M', 'A', 'A', 'A', 'A', 'M', 'D', 'GK', 'A', 'M', 'A', 'GK', 'D', 'D', 'D', 'D', 'A', 'D', 'M', 'D', 'D', 'A', 'M', 'GK', 'D', 'M', 'M', 'GK', 'A', 'M', 'D', 'M', 'M', 'M', 'A', 'A', 'A', 'D', 'M', 'A', 'D', 'M', 'A', 'D', 'A', 'GK', 'A', 'A', 'GK', 'GK', 'M', 'M', 'D', 'M', 'M', 'D', 'M', 'D', 'GK', 'D', 'M', 'A', 'D', 'M', 'GK', 'D', 'M', 'GK', 'D', 'GK', 'A', 'D', 'M', 'A', 'A', 'M', 'M', 'D', 'D', 'M', 'A', 'D', 'M', 'A', 'D', 'D', 'A', 'M', 'M', 'M', 'M', 'A', 'M', 'D', 'M', 'D', 'GK', 'GK', 'A', 'A', 'A', 'A', 'D', 'D', 'A', 'D', 'M', 'M', 'A', 'A', 'D', 'D', 'M', 'GK', 'A', 'D', 'A', 'GK', 'GK', 'A', 'D', 'M', 'A', 'D', 'M', 'M', 'A', 'D', 'M', 'M', 'D', 'D', 'M', 'D', 'GK', 'M', 'A', 'A', 'D', 'A', 'D', 'D', 'GK', 'D', 'D', 'GK', 'D', 'A', 'D', 'D', 'D', 'M', 'D', 'M', 'M', 'GK', 'A', 'D', 'GK', 'D', 'M', 'A', 'M', 'M', 'GK', 'M', 'GK', 'D', 'D', 'D', 'M', 'A', 'D', 'D', 'D', 'GK', 'M', 'A', 'D', 'M', 'GK', 'M', 'D', 'M', 'M', 'A', 'A', 'M', 'D', 'M', 'A', 'M', 'A', 'M', 'D', 'M', 'D', 'GK', 'M', 'A', 'D', 'A', 'A', 'D', 'M', 'D', 'D', 'M', 'D', 'D', 'M', 'M', 'M', 'M', 'M', 'A', 'D', 'A', 'D', 'M', 'A', 'M', 'M', 'M', 'D', 'M', 'D', 'M', 'M', 'M', 'A', 'D', 'M', 'M', 'M', 'M', 'D', 'D', 'GK', 'D', 'M', 'D', 'M', 'A', 'D', 'GK', 'D', 'A', 'A', 'A', 'M', 'M', 'M', 'M', 'M', 'GK', 'D', 'D', 'A', 'M', 'D', 'D', 'M', 'A', 'A', 'D', 'GK', 'GK', 'M', 'D', 'A', 'M', 'GK', 'GK', 'GK', 'D', 'M', 'M', 'A', 'D', 'D', 'M', 'M', 'D', 'A', 'M', 'D', 'M', 'A', 'GK', 'GK', 'D', 'GK', 'M', 'M', 'M', 'M', 'D', 'M', 'D', 'A', 'D', 'M', 'D', 'D', 'GK', 'A', 'A', 'M', 'D', 'D', 'A', 'M', 'M', 'D', 'A', 'M', 'M', 'M', 'D', 'A', 'M', 'GK', 'D', 'D', 'A', 'A', 'M', 'A', 'M', 'D', 'D', 'GK', 'M', 'D', 'M', 'M', 'D', 'D', 'D', 'D', 'D', 'A', 'M', 'M', 'M', 'D', 'M', 'GK', 'A', 'D', 'D', 'GK', 'M', 'M', 'A', 'A', 'M', 'M', 'A', 'D', 'A', 'D', 'M', 'GK', 'M', 'D', 'D', 'M', 'M', 'A', 'M', 'M', 'GK', 'A', 'A', 'GK', 'D', 'D', 'M', 'D', 'D', 'D', 'A', 'D', 'GK', 'M', 'A', 'D', 'D', 'GK', 'GK', 'GK', 'D', 'M', 'GK', 'M', 'D', 'M', 'M', 'A', 'GK', 'M', 'D', 'D', 'M', 'GK', 'A', 'GK', 'A', 'A', 'M', 'D', 'A', 'M', 'A', 'M', 'D', 'GK', 'D', 'M', 'A', 'A', 'M', 'M', 'D', 'GK', 'D', 'D', 'A', 'A', 'A', 'GK', 'D', 'M', 'D', 'GK', 'D', 'D', 'D', 'GK', 'M', 'M', 'D', 'D', 'D', 'A', 'A', 'D', 'A', 'A', 'D', 'D', 'M', 'GK', 'M', 'M', 'D', 'M', 'A', 'M', 'A', 'GK', 'D', 'D', 'M', 'M', 'A', 'GK', 'D', 'GK', 'D', 'D', 'M', 'A', 'M', 'M', 'M', 'A', 'A', 'D', 'M', 'M', 'M', 'M', 'A', 'D', 'D', 'M', 'M', 'M', 'GK', 'M', 'A', 'M', 'A', 'D', 'M', 'D', 'D', 'A', 'D', 'M', 'M', 'D', 'M', 'A', 'D', 'M', 'D', 'M', 'M', 'M', 'GK', 'A', 'D', 'M', 'D', 'D', 'M', 'D', 'A', 'GK', 'D', 'D', 'A', 'D', 'D', 'GK', 'M', 'D', 'D', 'M', 'M', 'M', 'M', 'M', 'D', 'A', 'A', 'A', 'A', 'M', 'M', 'A', 'A', 'A', 'D', 'M', 'M', 'A', 'A', 'A', 'D', 'M', 'M', 'M', 'GK', 'M', 'M', 'M', 'M', 'A', 'M', 'D', 'D', 'D', 'D', 'A', 'M', 'M', 'M', 'A', 'M', 'D', 'M', 'D', 'M', 'M', 'M', 'M', 'M', 'D', 'A', 'M', 'M', 'M', 'D', 'M', 'A', 'D', 'D', 'D', 'D', 'A', 'D', 'A', 'A', 'D', 'A', 'GK', 'M', 'M', 'A', 'D', 'D', 'M', 'A', 'M', 'A', 'A', 'GK', 'A', 'D', 'D', 'M', 'A', 'M', 'D', 'A', 'GK', 'A', 'A', 'D', 'D', 'M', 'A', 'GK', 'A', 'D', 'M', 'M', 'M', 'M', 'M', 'D', 'D', 'M', 'GK', 'D', 'M', 'M', 'A', 'D', 'M', 'D', 'GK', 'A', 'D', 'D', 'A', 'M', 'D', 'D', 'M', 'M', 'A', 'M', 'D', 'M', 'D', 'D', 'D', 'M', 'M', 'M', 'D', 'GK', 'D', 'D', 'GK', 'D', 'D', 'A', 'A', 'D', 'A', 'A', 'D', 'M', 'D', 'D', 'D', 'A', 'A', 'GK', 'M', 'A', 'D', 'M', 'M', 'M', 'D', 'M', 'GK', 'A', 'GK', 'M', 'M', 'GK', 'D', 'D', 'M', 'GK', 'M', 'M', 'M', 'M', 'GK', 'D', 'GK', 'M', 'M', 'M', 'D', 'D', 'D', 'M', 'A', 'M', 'M', 'A', 'M', 'M', 'A', 'M', 'D', 'A', 'D', 'A', 'D', 'D', 'M', 'A', 'GK', 'A', 'M', 'D', 'M', 'D', 'A', 'M', 'D', 'M', 'M', 'M', 'M', 'GK', 'M', 'M', 'A', 'A', 'GK', 'M', 'D', 'M', 'A', 'M', 'M', 'D', 'D', 'M', 'GK', 'A', 'D', 'A', 'M', 'A', 'D', 'D', 'M', 'A', 'M', 'M', 'D', 'M', 'D', 'D', 'D', 'M', 'A', 'M', 'D', 'A', 'D', 'A', 'D', 'GK', 'M', 'A', 'D', 'M', 'M', 'M', 'GK', 'D', 'M', 'A', 'A', 'A', 'D', 'D', 'D', 'D', 'M', 'D', 'M', 'A', 'A', 'GK', 'D', 'D', 'GK', 'D', 'A', 'D', 'M', 'A', 'D', 'A', 'A', 'D', 'GK', 'A', 'D', 'D', 'A', 'A', 'M', 'A', 'M', 'A', 'M', 'D', 'D', 'D', 'M', 'A', 'GK', 'M', 'M', 'A', 'D', 'D', 'M', 'A', 'A', 'D', 'D', 'M', 'D', 'D', 'A', 'M', 'D', 'M', 'A', 'D', 'D', 'M', 'A', 'D', 'M', 'A', 'D', 'D', 'GK', 'D', 'M', 'D', 'GK', 'A', 'M', 'D', 'D', 'M', 'A', 'M', 'M', 'M', 'M', 'M', 'M', 'A', 'M', 'M', 'GK', 'M', 'M', 'M', 'A', 'A', 'A', 'D', 'M', 'GK', 'GK', 'A', 'M', 'D', 'GK', 'M', 'A', 'M', 'D', 'D', 'M', 'D', 'A', 'D', 'D', 'GK', 'D', 'M', 'A', 'A', 'D', 'A', 'M', 'D', 'A', 'GK', 'A', 'D', 'A', 'D', 'GK', 'GK', 'GK', 'M', 'D', 'D', 'M', 'GK', 'D', 'A', 'D', 'GK', 'D', 'M', 'M', 'D', 'M', 'M', 'M', 'A', 'D', 'M', 'GK', 'D', 'D', 'A', 'GK', 'M', 'M', 'M', 'D', 'GK', 'D', 'D', 'M', 'D', 'D', 'GK', 'A', 'GK', 'D', 'A', 'D', 'M', 'D', 'A', 'A', 'M', 'D', 'D', 'D', 'M', 'GK', 'M', 'D', 'D', 'GK', 'D', 'M', 'D', 'A', 'D', 'A', 'M', 'M', 'M', 'D', 'A', 'GK', 'M', 'M', 'D', 'D', 'A', 'A', 'GK', 'GK', 'D', 'A', 'M', 'GK', 'M', 'M', 'A', 'D', 'M', 'A', 'A', 'GK', 'M', 'A', 'A', 'D', 'M', 'M', 'D', 'A', 'D', 'A', 'A', 'D', 'M', 'D', 'A', 'D', 'D', 'M', 'M', 'M', 'M', 'M', 'A', 'D', 'D', 'M', 'D', 'D', 'GK', 'D', 'M', 'D', 'M', 'GK', 'D', 'M', 'A', 'M', 'M', 'M', 'M', 'D', 'D', 'D', 'A', 'GK', 'A', 'GK', 'M', 'D', 'GK', 'GK', 'A', 'M', 'A', 'D', 'D', 'D', 'M', 'M', 'D', 'D', 'A', 'M', 'A', 'M', 'M', 'GK', 'M', 'D', 'A', 'M', 'A', 'M', 'D', 'D', 'D', 'D', 'D', 'D', 'A', 'D', 'GK', 'M', 'M', 'GK', 'GK', 'D', 'D', 'M', 'A', 'D', 'D', 'D', 'GK', 'GK', 'M', 'M', 'M', 'GK', 'D', 'M', 'M', 'M', 'M', 'D', 'D', 'A', 'D', 'A', 'A', 'GK', 'M', 'D', 'D', 'M', 'M', 'M', 'D', 'A', 'M', 'GK', 'M', 'GK', 'GK', 'D', 'M', 'GK', 'D', 'M', 'M', 'D', 'M', 'D', 'A', 'D', 'D', 'D', 'A', 'M', 'A', 'D', 'D', 'A', 'D', 'D', 'M', 'M', 'D', 'A', 'D', 'A', 'D', 'A', 'A', 'M', 'A', 'D', 'M', 'M', 'M', 'GK', 'GK', 'M', 'M', 'D', 'A', 'D', 'D', 'M', 'A', 'A', 'M', 'D', 'D', 'D', 'D', 'GK', 'M', 'M', 'D', 'D', 'D', 'D', 'M', 'D', 'D', 'D', 'M', 'D', 'M', 'D', 'A', 'D', 'D', 'A', 'A', 'D', 'D', 'M', 'D', 'GK', 'D', 'M', 'A', 'M', 'GK', 'D', 'D', 'M', 'A', 'M', 'A', 'M', 'A', 'A', 'A', 'M', 'D', 'M', 'D', 'M', 'D', 'A', 'M', 'D', 'M', 'A', 'M', 'M', 'D', 'A', 'A', 'A', 'D', 'A', 'M', 'D', 'M', 'A', 'M', 'D', 'A', 'M', 'A', 'GK', 'D', 'M', 'D', 'M', 'D', 'A', 'M', 'A', 'D', 'M', 'M', 'D', 'GK', 'A', 'M', 'M', 'M', 'M', 'D', 'D', 'M', 'A', 'M', 'M', 'D', 'M', 'M', 'D', 'GK', 'D', 'D', 'M', 'M', 'D', 'M', 'A', 'D', 'GK', 'A', 'M', 'D', 'A', 'A', 'A', 'A', 'GK', 'M', 'D', 'M', 'M', 'D', 'A', 'M', 'GK', 'D', 'M', 'A', 'M', 'GK', 'M', 'A', 'GK', 'A', 'D', 'A', 'M', 'M', 'D', 'M', 'D', 'M', 'D', 'A', 'M', 'A', 'D', 'D', 'M', 'GK', 'D', 'D', 'M', 'M', 'A', 'M', 'D', 'A', 'A', 'D', 'GK', 'GK', 'D', 'A', 'M', 'D', 'D', 'M', 'GK', 'D', 'M', 'M', 'D', 'M', 'GK', 'D', 'A', 'M', 'GK', 'M', 'M', 'M', 'A', 'M', 'M', 'GK', 'M', 'D', 'D', 'D', 'D', 'D', 'M', 'D', 'M', 'D', 'A', 'GK', 'M', 'D', 'D', 'A', 'GK', 'D', 'M', 'A', 'M', 'D', 'M', 'D', 'GK', 'M', 'GK', 'A', 'D', 'D', 'A', 'D', 'A', 'M', 'M', 'M', 'D', 'D', 'D', 'M', 'D', 'D', 'M', 'D', 'D', 'M', 'M', 'GK', 'M', 'GK', 'M', 'M', 'D', 'D', 'GK', 'D', 'M', 'D', 'D', 'A', 'M', 'GK', 'D', 'M', 'D', 'D', 'D', 'M', 'M', 'M', 'D', 'A', 'A', 'A', 'A', 'GK', 'D', 'GK', 'A', 'A', 'D', 'M', 'M', 'A', 'A', 'D', 'M', 'M', 'GK', 'M', 'D', 'D', 'M', 'D', 'GK', 'D', 'GK', 'M', 'D', 'D', 'GK', 'D', 'A', 'M', 'D', 'GK', 'D', 'A', 'A', 'A', 'D', 'GK', 'D', 'D', 'GK', 'GK', 'A', 'A', 'M', 'D', 'D', 'D', 'GK', 'A', 'M', 'M', 'M', 'A', 'A', 'M', 'D', 'D', 'D', 'D', 'M', 'D', 'A', 'A', 'D', 'D', 'D', 'D', 'M', 'M', 'M', 'D', 'D', 'M', 'A', 'M', 'D', 'D', 'A', 'GK', 'D', 'D', 'GK', 'M', 'D', 'M', 'A', 'A', 'A', 'A', 'GK', 'A', 'D', 'D', 'M', 'M', 'A', 'A', 'A', 'D', 'M', 'A', 'A', 'A', 'D', 'GK', 'D', 'M', 'D', 'M', 'M', 'M', 'A', 'A', 'A', 'D', 'A', 'A', 'D', 'A', 'A', 'M', 'D', 'M', 'A', 'A', 'M', 'A', 'M', 'M', 'D', 'D', 'M', 'D', 'GK', 'D', 'A', 'D', 'M', 'D', 'A', 'A', 'D', 'M', 'A', 'D', 'M', 'D', 'D', 'M', 'D', 'A', 'D', 'M', 'D', 'M', 'GK', 'A', 'D', 'GK', 'A', 'D', 'A', 'A', 'D', 'M', 'M', 'M', 'D', 'M', 'A', 'D', 'M', 'D', 'D', 'M', 'D', 'M', 'D', 'D', 'M', 'D', 'M', 'D', 'M', 'GK', 'D', 'M', 'M', 'M', 'M', 'M', 'D', 'M', 'GK', 'M', 'M', 'D', 'M', 'D', 'M', 'D', 'D', 'GK', 'A', 'D', 'A', 'A', 'M', 'D', 'M', 'M', 'GK', 'D', 'D', 'GK', 'A', 'GK', 'D', 'A', 'A', 'A', 'D', 'GK', 'A', 'M', 'A', 'A', 'GK', 'M', 'A', 'D', 'GK', 'D', 'M', 'A', 'M', 'A', 'A', 'M', 'D', 'M', 'GK', 'D', 'D', 'M', 'A', 'D', 'M', 'D', 'M', 'M', 'D', 'D', 'A', 'A', 'M', 'D', 'A', 'M', 'D', 'A', 'D', 'D', 'M', 'D', 'M', 'M', 'A', 'M', 'A', 'D', 'M', 'D', 'A', 'D', 'D', 'A', 'A', 'GK', 'D', 'M', 'A', 'A', 'A', 'M', 'D', 'D', 'GK', 'M', 'A', 'D', 'GK', 'M', 'D', 'A', 'M', 'M', 'A', 'D', 'M', 'D', 'A', 'M', 'M', 'D', 'D', 'M', 'M', 'GK', 'D', 'A', 'M', 'A', 'D', 'M', 'M', 'M', 'M', 'M', 'D', 'M', 'D', 'A', 'A', 'D', 'D', 'A', 'GK', 'D', 'M', 'GK', 'M', 'GK', 'D', 'D', 'A', 'A', 'D', 'D', 'A', 'M', 'D', 'M', 'M', 'M', 'D', 'M', 'D', 'A', 'M', 'M', 'A', 'A', 'M', 'M', 'D', 'D', 'D', 'D', 'D', 'A', 'M', 'M', 'M', 'D', 'GK', 'GK', 'A', 'D', 'M', 'M', 'M', 'M', 'M', 'A', 'D', 'M', 'D', 'D', 'A', 'D', 'D', 'M', 'D', 'A', 'D', 'D', 'D', 'A', 'M', 'M', 'D', 'A', 'A', 'D', 'A', 'A', 'D', 'D', 'D', 'M', 'M', 'M', 'D', 'A', 'A', 'A', 'M', 'M', 'D', 'GK', 'M', 'A', 'A', 'D', 'D', 'D', 'A', 'A', 'A', 'M', 'D', 'A', 'GK', 'A', 'M', 'A', 'D', 'A', 'D', 'D', 'M', 'A', 'M', 'M', 'M', 'M', 'M', 'A', 'M', 'A', 'A', 'D', 'GK', 'M', 'GK', 'D', 'A', 'M', 'GK', 'D', 'M', 'D', 'M', 'A', 'A', 'D', 'D', 'M', 'D', 'M', 'M', 'D', 'M', 'GK', 'A', 'D', 'D', 'D', 'A', 'D', 'M', 'D', 'D', 'A', 'M', 'D', 'A', 'D', 'M', 'D', 'A', 'GK', 'D', 'D', 'A', 'GK', 'M', 'M', 'GK', 'A', 'D', 'M', 'M', 'A', 'D', 'M', 'A', 'M', 'D', 'M', 'M', 'A', 'M', 'D', 'D', 'M', 'D', 'A', 'D', 'D', 'D', 'D', 'M', 'M', 'D', 'M', 'A', 'M', 'D', 'M', 'D', 'A', 'A', 'GK', 'M', 'D', 'D', 'M', 'D', 'M', 'A', 'A', 'D', 'GK', 'A', 'D', 'D', 'A', 'M', 'M', 'M', 'A', 'M', 'M', 'M', 'M', 'M', 'A', 'D', 'D', 'D', 'D', 'D', 'M', 'D', 'D', 'M', 'D', 'M', 'D', 'D', 'M', 'D', 'M', 'M', 'M', 'GK', 'D', 'GK', 'GK', 'GK', 'D', 'M', 'A', 'D', 'A', 'D', 'M', 'M', 'A', 'M', 'M', 'D', 'D', 'A', 'GK', 'GK', 'M', 'D', 'M', 'GK', 'M', 'D', 'D', 'D', 'D', 'D', 'GK', 'M', 'D', 'M', 'A', 'D', 'M', 'A', 'M', 'GK', 'M', 'M', 'D', 'D', 'D', 'M', 'M', 'D', 'M', 'GK', 'M', 'D', 'GK', 'A', 'M', 'A', 'D', 'D', 'D', 'A', 'A', 'GK', 'A', 'M', 'M', 'D', 'M', 'M', 'D', 'A', 'GK', 'A', 'D', 'GK', 'M', 'A', 'M', 'GK', 'D', 'GK', 'M', 'A', 'M', 'M', 'A', 'D', 'M', 'D', 'D', 'D', 'D', 'M', 'M', 'M', 'A', 'A', 'M', 'D', 'A', 'M', 'A', 'M', 'M', 'A', 'M', 'A', 'A', 'A', 'M', 'M', 'GK', 'D', 'D', 'D', 'D', 'D', 'M', 'GK', 'A', 'D', 'D', 'D', 'M', 'GK', 'M', 'D', 'GK', 'A', 'D', 'D', 'M', 'M', 'M', 'M', 'M', 'M', 'A', 'D', 'M', 'A', 'A', 'M', 'M', 'A', 'A', 'M', 'A', 'D', 'A', 'D', 'D', 'M', 'M', 'M', 'D', 'D', 'M', 'GK', 'A', 'A', 'M', 'A', 'D', 'A', 'D', 'D', 'A', 'M', 'A', 'A', 'M', 'M', 'D', 'M', 'A', 'A', 'D', 'D', 'D', 'A', 'D', 'M', 'A', 'D', 'D', 'D', 'M', 'M', 'D', 'D', 'D', 'GK', 'M', 'M', 'A', 'A', 'A', 'D', 'M', 'M', 'GK', 'GK', 'D', 'D', 'A', 'D', 'D', 'M', 'D', 'A', 'D', 'A', 'M', 'M', 'D', 'M', 'GK', 'A', 'M', 'D', 'M', 'M', 'M', 'GK', 'D', 'A', 'D', 'A', 'D', 'M', 'D', 'D', 'A', 'A', 'M', 'D', 'M', 'M', 'GK', 'M', 'D', 'M', 'D', 'M', 'GK', 'A', 'M', 'D', 'A', 'D', 'M', 'D', 'M', 'A', 'M', 'M', 'M', 'D', 'GK', 'GK', 'D', 'GK', 'D', 'D', 'A', 'D', 'A', 'M', 'D', 'A', 'M', 'A', 'A', 'GK', 'M', 'A', 'GK', 'M', 'M', 'A', 'M', 'A', 'GK', 'A', 'M', 'A', 'M', 'D', 'A', 'M', 'GK', 'M', 'M', 'A', 'GK', 'A', 'D', 'M', 'M', 'A', 'M', 'D', 'D', 'A', 'D', 'D', 'A', 'GK', 'M', 'M', 'GK', 'M', 'M', 'A', 'A', 'D', 'A', 'M', 'A', 'M', 'M', 'M', 'M', 'M', 'A', 'M', 'M', 'A', 'D', 'M', 'M', 'D', 'A', 'D', 'M', 'GK', 'D', 'M', 'A', 'D', 'M', 'D', 'A', 'M', 'D', 'A', 'M', 'D', 'M', 'D', 'A', 'A', 'A', 'M', 'A', 'D', 'M', 'M', 'D', 'M', 'A', 'D', 'M', 'A', 'A', 'D', 'D', 'D', 'M', 'D', 'M', 'M', 'A', 'M', 'M', 'M', 'A', 'A', 'M', 'M', 'GK', 'M', 'M', 'M', 'M', 'GK', 'D', 'D', 'M', 'A', 'D', 'GK', 'D', 'A', 'GK', 'D', 'A', 'D', 'M', 'M', 'A', 'M', 'A', 'M', 'D', 'A', 'M', 'D', 'M', 'A', 'M', 'D', 'M', 'D', 'D', 'M', 'D', 'D', 'D', 'A', 'D', 'M', 'A', 'A', 'M', 'A', 'M', 'A', 'M', 'D', 'A', 'D', 'A', 'M', 'M', 'M', 'M', 'A', 'M', 'D', 'M', 'D', 'A', 'GK', 'D', 'GK', 'M', 'D', 'A', 'D', 'GK', 'GK', 'M', 'M', 'A', 'GK', 'M', 'D', 'M', 'A', 'A', 'D', 'D', 'A', 'D', 'D', 'M', 'M', 'D', 'M', 'A', 'M', 'D', 'GK', 'A', 'M', 'GK', 'A', 'D', 'M', 'A', 'M', 'M', 'D', 'A', 'A', 'D', 'D', 'M', 'M', 'D', 'M', 'M', 'A', 'M', 'A', 'D', 'M', 'A', 'M', 'M', 'D', 'M', 'A', 'A', 'M', 'GK', 'M', 'M', 'D', 'M', 'D', 'D', 'M', 'M', 'D', 'M', 'M', 'M', 'A', 'M', 'A', 'A', 'D', 'M', 'GK', 'A', 'M', 'GK', 'A', 'A', 'A', 'A', 'A', 'A', 'D', 'M', 'D', 'D', 'M', 'GK', 'D', 'A', 'M', 'D', 'M', 'A', 'M', 'D', 'D', 'A', 'A', 'A', 'D', 'M', 'M', 'M', 'M', 'M', 'GK', 'M', 'A', 'A', 'D', 'D', 'D', 'M', 'A', 'M', 'D', 'A', 'D', 'D', 'A', 'M', 'GK', 'M', 'GK', 'D', 'A', 'GK', 'A', 'A', 'D', 'M', 'D', 'A', 'GK', 'M', 'M', 'D', 'D', 'D', 'GK', 'GK', 'A', 'D', 'D', 'M', 'A', 'D', 'D', 'D', 'M', 'D', 'GK', 'M', 'M', 'M', 'M', 'GK', 'D', 'GK', 'M', 'A', 'A', 'A', 'M', 'M', 'M', 'M', 'A', 'A', 'A', 'GK', 'D', 'D', 'D', 'M', 'M', 'D', 'GK', 'D', 'A', 'A', 'M', 'M', 'D', 'M', 'M', 'M', 'A', 'D', 'A', 'D', 'D', 'M', 'D', 'M', 'M', 'D', 'A', 'D', 'GK', 'A', 'GK', 'M', 'M', 'D', 'A', 'GK', 'A', 'A', 'M', 'M', 'M', 'GK', 'A', 'M', 'M', 'GK', 'A', 'A', 'D', 'A', 'A', 'M', 'A', 'D', 'A', 'A', 'M', 'A', 'A', 'M', 'M', 'A', 'GK', 'M', 'M', 'D', 'M', 'M', 'M', 'A', 'M', 'D', 'M', 'M', 'A', 'M', 'M', 'D', 'M', 'GK', 'GK', 'M', 'M', 'A', 'M', 'D', 'D', 'D', 'M', 'M', 'M', 'A', 'M', 'D', 'M', 'A', 'A', 'A', 'D', 'GK', 'M', 'M', 'M', 'A', 'GK', 'D', 'M', 'A', 'D', 'M', 'M', 'A', 'GK', 'A', 'D', 'A', 'M', 'D', 'A', 'M', 'A', 'D', 'A', 'D', 'A', 'D', 'A', 'D', 'A', 'D', 'M', 'A', 'M', 'M', 'A', 'D', 'M', 'D', 'M', 'D', 'GK', 'A', 'M', 'D', 'A', 'A', 'GK', 'A', 'A', 'A', 'D', 'M', 'D', 'A', 'D', 'A', 'M', 'D', 'M', 'M', 'D', 'M', 'A', 'M', 'D', 'A', 'D', 'A', 'M', 'M', 'M', 'A', 'A', 'M', 'A', 'M', 'D', 'A', 'A', 'M', 'M', 'D', 'D', 'D', 'M', 'A', 'A', 'M', 'D', 'D', 'A', 'D', 'D', 'A', 'D', 'D', 'D', 'A', 'D', 'M', 'D', 'GK', 'GK', 'D', 'M', 'D', 'D', 'GK', 'D', 'D', 'GK', 'D', 'M', 'D', 'M', 'M', 'A', 'GK', 'A', 'M', 'A', 'M', 'A', 'A', 'M', 'D', 'D', 'A', 'D', 'M', 'A', 'M', 'M', 'M', 'M', 'D', 'M', 'A', 'A', 'D', 'D', 'GK', 'D', 'M', 'M', 'D', 'M', 'D', 'D', 'M', 'D', 'M', 'M', 'M', 'D', 'M', 'M', 'A', 'M', 'M', 'D', 'A', 'A', 'A', 'M', 'D', 'M', 'M', 'M', 'D', 'A', 'D', 'M', 'M', 'D', 'GK', 'D', 'D', 'M', 'D', 'M', 'M', 'D', 'A', 'M', 'D', 'M', 'D', 'D', 'A', 'A', 'GK', 'M', 'A', 'A', 'D', 'A', 'M', 'D', 'GK', 'A', 'M', 'M', 'D', 'D', 'A', 'A', 'D', 'D', 'A', 'D', 'D', 'D', 'D', 'A', 'M', 'M', 'M', 'D', 'GK', 'M', 'A', 'M', 'GK', 'M', 'GK', 'D', 'A', 'D', 'A', 'M', 'A', 'D', 'D', 'M', 'M', 'D', 'GK', 'M', 'M', 'D', 'D', 'D', 'D', 'M', 'M', 'D', 'GK', 'D', 'A', 'M', 'GK', 'D', 'D', 'GK', 'A', 'M', 'A', 'D', 'D', 'D', 'M', 'GK', 'M', 'D', 'A', 'D', 'M', 'A', 'A', 'M', 'M', 'D', 'M', 'M', 'M', 'M', 'M', 'D', 'A', 'M', 'D', 'A', 'M', 'D', 'D', 'GK', 'D', 'D', 'A', 'D', 'A', 'GK', 'D', 'A', 'A', 'M', 'A', 'M', 'M', 'M', 'D', 'A', 'M', 'M', 'A', 'M', 'M', 'M', 'D', 'M', 'M', 'M', 'A', 'A', 'GK', 'A', 'A', 'D', 'A', 'GK', 'D', 'A', 'D', 'M', 'D', 'GK', 'A', 'M', 'D', 'A', 'D', 'M', 'M', 'M', 'M', 'A', 'M', 'D', 'GK', 'M', 'M', 'D', 'A', 'M', 'A', 'A', 'D', 'A', 'D', 'D', 'D', 'M', 'D', 'A', 'A', 'GK', 'GK', 'D', 'D', 'M', 'D', 'M', 'D', 'M', 'M', 'D', 'M', 'D', 'D', 'M', 'D', 'D', 'A', 'D', 'A', 'M', 'M', 'GK', 'A', 'A', 'M', 'D', 'GK', 'D', 'D', 'A', 'D', 'M', 'M', 'M', 'D', 'M', 'M', 'A', 'D', 'D', 'A', 'D', 'M', 'A', 'A', 'A', 'M', 'A', 'M', 'M', 'GK', 'GK', 'D', 'D', 'M', 'A', 'D', 'D', 'GK', 'M', 'GK', 'D', 'D', 'A', 'M', 'M', 'D', 'M', 'M', 'M', 'M', 'D', 'A', 'M', 'M', 'GK', 'M', 'D', 'A', 'D', 'D', 'D', 'D', 'D', 'A', 'M', 'M', 'D', 'A', 'GK', 'D', 'M', 'D', 'D', 'D', 'D', 'M', 'M', 'D', 'GK', 'M', 'D', 'M', 'M', 'A', 'A', 'M', 'M', 'GK', 'A', 'D', 'M', 'M', 'M', 'A', 'M', 'A', 'A', 'D', 'M', 'D', 'D', 'M', 'D', 'D', 'D', 'M', 'GK', 'D', 'D', 'GK', 'A', 'A', 'D', 'A', 'D', 'M', 'D', 'A', 'D', 'D', 'A', 'A', 'M', 'A', 'M', 'M', 'M', 'A', 'A', 'M', 'A', 'A', 'D', 'M', 'M', 'D', 'A', 'A', 'M', 'M', 'M', 'D', 'A', 'M', 'D', 'A', 'D', 'D', 'A', 'D', 'A', 'D', 'A', 'M', 'D', 'D', 'D', 'GK', 'M', 'M', 'M', 'A', 'M', 'M', 'D', 'M', 'D', 'D', 'A', 'D', 'M', 'M', 'M', 'M', 'M', 'GK', 'GK', 'A', 'A', 'GK', 'GK', 'D', 'D', 'D', 'A', 'A', 'M', 'GK', 'A', 'M', 'A', 'M', 'A', 'M', 'A', 'A', 'M', 'A', 'D', 'M', 'M', 'M', 'M', 'A', 'GK', 'D', 'M', 'M', 'D', 'A', 'A', 'A', 'M', 'D', 'D', 'D', 'M', 'M', 'M', 'D', 'M', 'A', 'D', 'M', 'M', 'M', 'M', 'M', 'D', 'A', 'GK', 'M', 'M', 'M', 'D', 'A', 'D', 'GK', 'M', 'D', 'A', 'D', 'D', 'A', 'A', 'D', 'M', 'M', 'D', 'D', 'M', 'D', 'A', 'M', 'M', 'A', 'M', 'D', 'D', 'M', 'D', 'D', 'M', 'A', 'GK', 'A', 'A', 'D', 'M', 'A', 'A', 'A', 'D', 'GK', 'M', 'A', 'A', 'M', 'A', 'GK', 'D', 'A', 'M', 'M', 'A', 'D', 'A', 'D', 'A', 'A', 'M', 'M', 'A', 'A', 'M', 'D', 'D', 'D', 'D', 'GK', 'A', 'GK', 'A', 'D', 'D', 'D', 'A', 'D', 'A', 'M', 'M', 'M', 'M', 'M', 'A', 'M', 'D', 'D', 'D', 'A', 'D', 'M', 'GK', 'M', 'D', 'D', 'M', 'D', 'GK', 'M', 'A', 'M', 'M', 'D', 'D', 'M', 'A', 'D', 'A', 'M', 'GK', 'M', 'D', 'A', 'D', 'A', 'D', 'M', 'GK', 'D', 'M', 'A', 'A', 'A', 'A', 'D', 'A', 'D', 'D', 'D', 'D', 'GK', 'D', 'GK', 'D', 'D', 'A', 'A', 'A', 'GK', 'D', 'M', 'GK', 'M', 'M', 'GK', 'D', 'A', 'A', 'D', 'M', 'M', 'M', 'A', 'D', 'M', 'D', 'M', 'A', 'D', 'M', 'D', 'A', 'GK', 'D', 'M', 'D', 'GK', 'D', 'M', 'GK', 'M', 'D', 'A', 'A', 'D', 'A', 'D', 'A', 'D', 'A', 'D', 'M', 'M', 'D', 'M', 'A', 'D', 'M', 'D', 'D', 'M', 'A', 'A', 'M', 'A', 'M', 'M', 'A', 'GK', 'GK', 'M', 'GK', 'D', 'D', 'A', 'M', 'D', 'GK', 'D', 'GK', 'D', 'A', 'M', 'A', 'GK', 'D', 'GK', 'A', 'M', 'M', 'M', 'D', 'M', 'M', 'M', 'GK', 'D', 'D', 'M', 'M', 'D', 'D', 'A', 'M', 'M', 'M', 'A', 'GK', 'D', 'A', 'M', 'M', 'GK', 'A', 'A', 'M', 'A', 'M', 'M', 'M', 'M', 'M', 'M', 'GK', 'M', 'M', 'D', 'M', 'M', 'D', 'D', 'GK', 'M', 'D', 'GK', 'D', 'M', 'M', 'A', 'D', 'M', 'M', 'D', 'D', 'D', 'M', 'M', 'M', 'A', 'D', 'A', 'GK', 'M', 'A', 'M', 'D', 'M', 'M', 'D', 'M', 'M', 'M', 'M', 'D', 'M', 'D', 'M', 'A', 'GK', 'A', 'A', 'D', 'D', 'D', 'A', 'M', 'D', 'D', 'M', 'M', 'M', 'M', 'M', 'D', 'D', 'GK', 'GK', 'D', 'M', 'D', 'A', 'D', 'D', 'M', 'D', 'M', 'M', 'A', 'A', 'D', 'D', 'D', 'M', 'D', 'D', 'A', 'D', 'M', 'A', 'A', 'D', 'D', 'A', 'A', 'D', 'GK', 'M', 'M', 'A', 'A', 'M', 'A', 'A', 'M', 'GK', 'M', 'D', 'A', 'A', 'A', 'M', 'M', 'M', 'D', 'M', 'A', 'M', 'A', 'A', 'M', 'D', 'A', 'GK', 'M', 'D', 'A', 'D', 'D', 'M', 'M', 'A', 'D', 'M', 'D', 'A', 'M', 'M', 'M', 'A', 'M', 'M', 'M', 'M', 'A', 'A', 'M', 'A', 'A', 'D', 'D', 'GK', 'A', 'M', 'A', 'D', 'A', 'M', 'GK', 'D', 'M', 'M', 'D', 'M', 'D', 'D', 'A', 'M', 'A', 'GK', 'A', 'A', 'D', 'M', 'D', 'A', 'D', 'M', 'D', 'M', 'A', 'GK', 'M', 'M', 'M', 'M', 'A', 'M', 'M', 'D', 'M', 'M', 'D', 'M', 'M', 'A', 'M', 'M', 'M', 'M', 'D', 'M', 'M', 'D', 'A', 'A', 'D', 'D', 'M', 'M', 'M', 'M', 'GK', 'GK', 'A', 'M', 'M', 'A', 'M', 'M', 'M', 'D', 'M', 'D', 'M', 'M', 'A', 'M', 'GK', 'A', 'A', 'A', 'GK', 'M', 'A', 'M', 'D', 'M', 'M', 'A', 'M', 'M', 'M', 'M', 'M', 'M', 'M', 'M', 'M', 'GK', 'D', 'M', 'M', 'D', 'GK', 'GK', 'D', 'M', 'A', 'A', 'M', 'A', 'M', 'M', 'M', 'A', 'GK', 'M', 'M', 'A', 'D', 'M', 'M', 'M', 'D', 'M', 'A', 'M', 'D', 'M', 'A', 'A', 'A', 'D', 'D', 'D', 'D', 'A', 'D', 'M', 'D', 'M', 'D', 'A', 'M', 'D', 'A', 'D', 'A', 'GK', 'A', 'D', 'M', 'A', 'M', 'D', 'M', 'D', 'M', 'M', 'D', 'A', 'M', 'A', 'D', 'M', 'D', 'D', 'A', 'GK', 'A', 'A', 'M', 'M', 'M', 'M', 'A', 'M', 'A', 'A', 'D', 'M', 'GK', 'M', 'D', 'A', 'M', 'A', 'M', 'GK', 'A', 'M', 'D', 'M', 'D', 'A', 'A', 'D', 'M', 'A', 'M', 'M', 'A', 'M', 'A', 'M', 'M', 'A', 'D', 'D', 'D', 'GK', 'D', 'A', 'D', 'D', 'M', 'D', 'A', 'D', 'D', 'D', 'M', 'M', 'A', 'D', 'M', 'D', 'A', 'D', 'M', 'M', 'D', 'D', 'M', 'M', 'D', 'GK', 'D', 'D', 'D', 'M', 'D', 'A', 'D', 'A', 'D', 'M', 'M', 'GK', 'A', 'A', 'M', 'D', 'GK', 'D', 'M', 'D', 'M', 'A', 'GK', 'GK', 'M', 'M', 'A', 'M', 'M', 'A', 'M', 'GK', 'D', 'D', 'M', 'M', 'D', 'M', 'A', 'M', 'GK', 'D', 'D', 'D', 'A', 'A', 'GK', 'D', 'GK', 'D', 'D', 'GK', 'D', 'A', 'A', 'M', 'D', 'A', 'D', 'D', 'M', 'D', 'A', 'A', 'M', 'M', 'A', 'D', 'M', 'M', 'A', 'D', 'M', 'M', 'A', 'A', 'M', 'M', 'A', 'D', 'M', 'M', 'D', 'M', 'D', 'GK', 'A', 'M', 'A', 'A', 'D', 'A', 'M', 'M', 'M', 'D', 'D', 'D', 'M', 'D', 'A', 'M', 'GK', 'M', 'A', 'GK', 'M', 'M', 'M', 'A', 'M', 'GK', 'D', 'A', 'D', 'D', 'D', 'D', 'D', 'M', 'M', 'M', 'GK', 'A', 'D', 'A', 'M', 'A', 'A', 'M', 'A', 'D', 'M', 'M', 'A', 'M', 'A', 'D', 'M', 'D', 'A', 'D', 'M', 'M', 'M', 'A', 'D', 'A', 'D', 'A', 'M', 'M', 'M', 'A', 'M', 'M', 'A', 'D', 'M', 'D', 'D', 'M', 'M', 'D', 'M', 'A', 'D', 'M', 'A', 'M', 'GK', 'D', 'M', 'A', 'GK', 'M', 'A', 'A', 'D', 'M', 'A', 'D', 'A', 'GK', 'D', 'D', 'A', 'M', 'A', 'D', 'D', 'D', 'A', 'M', 'D', 'GK', 'A', 'A', 'M', 'D', 'D', 'GK', 'D', 'M', 'M', 'D', 'M', 'A', 'A', 'M', 'M', 'A', 'D', 'M', 'M', 'M', 'D', 'M', 'D', 'M', 'M', 'A', 'A', 'D', 'A', 'A', 'A', 'M', 'M', 'A', 'M', 'M', 'GK', 'M', 'D', 'D', 'M', 'A', 'M', 'M', 'M', 'A', 'A', 'A', 'A', 'D', 'D', 'A', 'D', 'D', 'M', 'D', 'GK', 'GK', 'M', 'D', 'D', 'A', 'D', 'M', 'GK', 'A', 'M', 'M', 'A', 'M', 'A', 'A', 'D', 'A', 'D', 'A', 'D', 'D', 'D', 'D', 'D', 'M', 'GK', 'M', 'A', 'M', 'M', 'M', 'D', 'M', 'M', 'A', 'M', 'D', 'D', 'D', 'M', 'D', 'M', 'M', 'D', 'GK', 'GK', 'D', 'M', 'M', 'M', 'D', 'M', 'M', 'D', 'GK', 'A', 'GK', 'D', 'M', 'A', 'M', 'M', 'M', 'A', 'A', 'A', 'M', 'M', 'A', 'D', 'A', 'A', 'D', 'M', 'D', 'D', 'M', 'A', 'D', 'A', 'D', 'M', 'A', 'A', 'M', 'A', 'A', 'M', 'D', 'M', 'A', 'M', 'M', 'M', 'A', 'D', 'A', 'A', 'A', 'D', 'D', 'M', 'M', 'M', 'D', 'D', 'M', 'A', 'M', 'M', 'A', 'M', 'D', 'D', 'A', 'M', 'A', 'M', 'D', 'D', 'M', 'M', 'GK', 'D', 'M', 'D', 'M', 'D', 'D', 'D', 'A', 'A', 'M', 'M', 'M', 'A', 'D', 'A', 'D', 'M', 'D', 'M', 'A', 'A', 'D', 'M', 'A', 'A', 'D', 'A', 'GK', 'D', 'M', 'M', 'M', 'A', 'M', 'A', 'A', 'GK', 'M', 'D', 'A', 'A', 'A', 'GK', 'GK', 'M', 'M', 'D', 'D', 'M', 'M', 'D', 'GK', 'M', 'GK', 'M', 'M', 'A', 'M', 'A', 'M', 'D', 'M', 'M', 'D', 'A', 'GK', 'D', 'GK', 'M', 'D', 'A', 'M', 'D', 'D', 'D', 'A', 'D', 'M', 'M', 'M', 'A', 'M', 'A', 'M', 'D', 'M', 'A', 'A', 'D', 'M', 'M', 'M', 'M', 'A', 'D', 'M', 'A', 'D', 'D', 'A', 'D', 'M', 'M', 'D', 'M', 'A', 'M', 'M', 'A', 'A', 'M', 'A', 'GK', 'M', 'GK', 'A', 'A', 'A', 'M', 'A', 'GK', 'M', 'A', 'D', 'M', 'D', 'M', 'D', 'A', 'A', 'D', 'M', 'M', 'D', 'D', 'D', 'D', 'M', 'M', 'A', 'D', 'GK', 'M', 'M', 'A', 'GK', 'D', 'A', 'M', 'D', 'D', 'GK', 'A', 'D', 'D', 'M', 'M', 'A', 'D', 'GK', 'D', 'M', 'M', 'M', 'A', 'M', 'M', 'A', 'D', 'GK', 'GK', 'D', 'D', 'M', 'D', 'M', 'D', 'M', 'GK', 'A', 'A', 'D', 'A', 'M', 'D', 'D', 'D', 'GK', 'D', 'A', 'A', 'D', 'D', 'D', 'M', 'A', 'D', 'M', 'A', 'M', 'GK', 'A', 'M', 'A', 'D', 'D', 'M', 'D', 'D', 'A', 'M', 'M', 'D', 'D', 'D', 'D', 'M', 'M', 'A', 'A', 'D', 'D', 'M', 'GK', 'A', 'A', 'A', 'M', 'D', 'M', 'D', 'M', 'M', 'M', 'D', 'D', 'A', 'D', 'M', 'M', 'D', 'M', 'M', 'A', 'A', 'A', 'GK', 'M', 'D', 'D', 'M', 'M', 'D', 'M', 'D', 'D', 'M', 'D', 'A', 'M', 'D', 'M', 'A', 'A', 'GK', 'D', 'M', 'M', 'A', 'A', 'A', 'GK', 'A', 'M', 'M', 'M', 'A', 'D', 'M', 'D', 'A', 'A', 'A', 'M', 'A', 'A', 'M', 'GK', 'A', 'A', 'A', 'M', 'D', 'M', 'D', 'D', 'D', 'A', 'M', 'A', 'GK', 'M', 'D', 'D', 'D', 'M', 'A', 'GK', 'M', 'D', 'M', 'M', 'M', 'M', 'GK', 'D', 'M', 'A', 'D', 'D', 'D', 'A', 'GK', 'M', 'D', 'M', 'M', 'A', 'A', 'M', 'M', 'D', 'D', 'D', 'GK', 'GK', 'M', 'A', 'D', 'A', 'D', 'D', 'M', 'GK', 'D', 'M', 'A', 'M', 'A', 'M', 'D', 'D', 'M', 'A', 'D', 'M', 'D', 'D', 'M', 'M', 'D', 'M', 'A', 'A', 'D', 'M', 'A', 'M', 'M', 'GK', 'M', 'M', 'M', 'D', 'GK', 'D', 'A', 'M', 'M', 'GK', 'M', 'A', 'A', 'D', 'D', 'D', 'GK', 'M', 'M', 'A', 'M', 'M', 'M', 'D', 'M', 'A', 'M', 'D', 'D', 'A', 'M', 'GK', 'D', 'D', 'M', 'D', 'A', 'GK', 'D', 'A', 'M', 'A', 'D', 'D', 'GK', 'A', 'D', 'M', 'M', 'A', 'M', 'M', 'D', 'GK', 'M', 'M', 'D', 'GK', 'M', 'GK', 'A', 'D', 'M', 'M', 'A', 'A', 'M', 'A', 'M', 'GK', 'D', 'D', 'M', 'M', 'M', 'M', 'A', 'D', 'A', 'GK', 'D', 'D', 'D', 'M', 'GK', 'D', 'GK', 'GK', 'A', 'D', 'GK', 'GK', 'A', 'GK', 'M', 'A', 'M', 'M', 'M', 'M', 'M', 'D', 'GK', 'M', 'D', 'D', 'A', 'A', 'D', 'D', 'GK', 'M', 'A', 'M', 'M', 'D', 'M', 'D', 'D', 'A', 'M', 'M', 'M', 'D', 'A', 'D', 'GK', 'M', 'D', 'M', 'A', 'A', 'D', 'A', 'M', 'A', 'D', 'M', 'A', 'M', 'GK', 'D', 'A', 'A', 'M', 'A', 'D', 'A', 'A', 'M', 'D', 'M', 'D', 'D', 'M', 'GK', 'A', 'A', 'D', 'D', 'D', 'M', 'M', 'M', 'A', 'M', 'D', 'A', 'M', 'D', 'M', 'M', 'A', 'D', 'GK', 'M', 'A', 'D', 'M', 'A', 'D', 'M', 'M', 'D', 'M', 'D', 'A', 'M', 'A', 'M', 'GK', 'A', 'M', 'M', 'D', 'M', 'M', 'D', 'D', 'A', 'M', 'M', 'M', 'M', 'A', 'M', 'M', 'D', 'A', 'D', 'A', 'M', 'A', 'D', 'GK', 'A', 'D', 'M', 'GK', 'D', 'D', 'D', 'A', 'D', 'M', 'M', 'A', 'M', 'A', 'M', 'M', 'D', 'A', 'A', 'D', 'D', 'M', 'D', 'GK', 'A', 'D', 'A', 'D', 'M', 'D', 'D', 'D', 'GK', 'D', 'D', 'A', 'GK', 'D', 'D', 'D', 'A', 'A', 'GK', 'D', 'D', 'D', 'A', 'A', 'M', 'M', 'D', 'D', 'D', 'GK', 'A', 'D', 'M', 'D', 'A', 'D', 'M', 'D', 'A', 'D', 'M', 'A', 'A', 'D', 'A', 'M', 'M', 'A', 'D', 'A', 'A', 'M', 'D', 'GK', 'M', 'A', 'M', 'D', 'D', 'D', 'A', 'D', 'M', 'D', 'A', 'M', 'D', 'D', 'D', 'D', 'M', 'A', 'M', 'M', 'GK', 'D', 'M', 'GK', 'A', 'A', 'D', 'M', 'M', 'A', 'D', 'M', 'M', 'M', 'A', 'A', 'M', 'A', 'A', 'D', 'A', 'A', 'D', 'M', 'M', 'D', 'D', 'M', 'M', 'GK', 'M', 'D', 'D', 'M', 'GK', 'A', 'D', 'D', 'A', 'A', 'D', 'A', 'M', 'GK', 'A', 'D', 'M', 'M', 'M', 'GK', 'A', 'M', 'A', 'A', 'A', 'A', 'M', 'A', 'A', 'M', 'D', 'M', 'M', 'A', 'D', 'D', 'A', 'A', 'M', 'M', 'M', 'M', 'D', 'D', 'A', 'M', 'D', 'A', 'D', 'D', 'D', 'A', 'M', 'M', 'M', 'D', 'M', 'M', 'M', 'M', 'M', 'M', 'A', 'A', 'A', 'D', 'GK', 'M', 'M', 'M', 'A', 'A', 'M', 'M', 'M', 'A', 'M', 'M', 'GK', 'M', 'D', 'A', 'M', 'D', 'GK', 'M', 'GK', 'M', 'M', 'A', 'M', 'D', 'A', 'M', 'M', 'A', 'M', 'M', 'A', 'M', 'M', 'A', 'D', 'M', 'M', 'D', 'D', 'M', 'D', 'A', 'D', 'A', 'A', 'D', 'A', 'M', 'A', 'M', 'GK', 'A', 'M', 'M', 'A', 'D', 'D', 'A', 'A', 'A', 'A', 'A', 'D', 'M', 'D', 'M', 'M', 'GK', 'D', 'D', 'A', 'GK', 'M', 'D', 'D', 'M', 'D', 'D', 'M', 'D', 'M', 'M', 'M', 'M', 'M', 'M', 'M', 'D', 'M', 'M', 'A', 'M', 'D', 'D', 'D', 'D', 'M', 'A', 'D', 'D', 'D', 'A', 'D', 'A', 'A', 'D', 'D', 'D', 'A', 'D', 'M', 'M', 'D', 'M', 'A', 'D', 'M', 'D', 'A', 'D', 'A', 'D', 'A', 'M', 'GK', 'D', 'GK', 'M', 'D', 'M', 'A', 'D', 'A', 'D', 'A', 'M', 'D', 'GK', 'A', 'A', 'M', 'M', 'M', 'M', 'M', 'M', 'M', 'A', 'D', 'M', 'D', 'D', 'D', 'A', 'A', 'A', 'M', 'M', 'D', 'GK', 'A', 'A', 'M', 'A', 'A', 'M', 'D', 'M', 'M', 'M', 'M', 'M', 'M', 'A', 'A', 'D', 'A', 'A', 'M', 'M', 'M', 'M', 'M', 'D', 'D', 'A', 'A', 'M', 'D', 'D', 'M', 'A', 'M', 'D', 'M', 'M', 'D', 'D', 'M', 'D', 'M', 'M', 'A', 'A', 'D', 'A', 'A', 'D', 'A', 'A', 'M', 'D', 'M', 'GK', 'A', 'D', 'D', 'GK', 'GK', 'D', 'D', 'M', 'M', 'A', 'A', 'A', 'D', 'M', 'D', 'M', 'D', 'D', 'A', 'A', 'A', 'A', 'D', 'A', 'A', 'M', 'M', 'D', 'A', 'M', 'M', 'M', 'A', 'M', 'M', 'D', 'GK', 'A', 'M', 'GK', 'D', 'D', 'M', 'A', 'GK', 'M', 'M', 'M', 'D', 'M', 'M', 'M', 'M', 'A', 'M', 'GK', 'M', 'A', 'M', 'M', 'M', 'M', 'A', 'A', 'A', 'M', 'D', 'M', 'D', 'D', 'M', 'M', 'A', 'D', 'M', 'D', 'M', 'A', 'M', 'A', 'D', 'A', 'GK', 'M', 'M', 'D', 'M', 'A', 'M', 'M', 'M', 'D', 'GK', 'GK', 'D', 'M', 'D', 'A', 'M', 'A', 'GK', 'D', 'D', 'M', 'GK', 'D', 'D', 'A', 'M', 'D', 'A', 'M', 'M', 'M', 'D', 'M', 'D', 'A', 'M', 'A', 'A', 'M', 'M', 'A', 'M', 'M', 'A', 'GK', 'D', 'GK', 'D', 'A', 'D', 'M', 'GK', 'D', 'M', 'M', 'GK', 'M', 'M', 'A', 'A', 'M', 'GK', 'D', 'GK', 'A', 'D', 'M', 'A', 'D', 'A', 'A', 'A', 'A', 'M', 'A', 'D', 'A', 'A', 'GK', 'M', 'M', 'D', 'D', 'D', 'A', 'GK', 'GK', 'D', 'M', 'D', 'GK', 'M', 'GK', 'M', 'D', 'A', 'M', 'D', 'M', 'M', 'A', 'D', 'A', 'A', 'M', 'D', 'A', 'GK', 'A', 'A', 'M', 'GK', 'M', 'M', 'A', 'D', 'M', 'M', 'GK', 'D', 'M', 'M', 'M', 'M', 'A', 'D', 'GK', 'A', 'M', 'D', 'M', 'A', 'M', 'D', 'D', 'M', 'M', 'A', 'GK', 'GK', 'A', 'D', 'M', 'M', 'M', 'M', 'D', 'D', 'D', 'M', 'M', 'D', 'D', 'D', 'GK', 'D', 'D', 'M', 'D', 'D', 'D', 'M', 'M', 'A', 'A', 'M', 'A', 'GK', 'D', 'D', 'M', 'M', 'A', 'D', 'GK', 'A', 'M', 'D', 'A', 'D', 'GK', 'GK', 'M', 'D', 'A', 'M', 'D', 'A', 'A', 'M', 'M', 'D', 'D', 'D', 'A', 'GK', 'A', 'A', 'M', 'M', 'M', 'M', 'D', 'A', 'M', 'A', 'A', 'D', 'D', 'D', 'A', 'M', 'D', 'D', 'D', 'D', 'D', 'A', 'A', 'A', 'M', 'D', 'A', 'A', 'M', 'M', 'D', 'D', 'A', 'M', 'M', 'A', 'A', 'M', 'D', 'D', 'A', 'A', 'GK', 'A', 'A', 'M', 'A', 'D', 'GK', 'D', 'M', 'A', 'M', 'A', 'M', 'D', 'M', 'D', 'D', 'GK', 'M', 'D', 'A', 'M', 'D', 'D', 'M', 'A', 'D', 'M', 'M', 'D', 'D', 'D', 'A', 'D', 'D', 'M', 'M', 'M', 'A', 'GK', 'GK', 'M', 'D', 'M', 'A', 'D', 'A', 'GK', 'M', 'A', 'A', 'A', 'GK', 'M', 'M', 'M', 'M', 'M', 'D', 'M', 'GK', 'A', 'A', 'M', 'A', 'A', 'A', 'M', 'D', 'M', 'D', 'A', 'M', 'M', 'GK', 'M', 'D', 'GK', 'D', 'D', 'M', 'D', 'A', 'M', 'A', 'M', 'D', 'D', 'GK', 'D', 'D', 'M', 'D', 'M', 'A', 'M', 'D', 'GK', 'A', 'M', 'GK', 'A', 'A', 'A', 'M', 'M', 'GK', 'M', 'D', 'M', 'D', 'GK', 'GK', 'D', 'D', 'M', 'A', 'M', 'D', 'A', 'A', 'D', 'A', 'M', 'D', 'M', 'A', 'A', 'GK', 'M', 'D', 'M', 'A', 'M', 'A', 'A', 'A', 'D', 'D', 'M', 'M', 'M', 'A', 'A', 'A', 'GK', 'M', 'A', 'D', 'D', 'M', 'D', 'M', 'A', 'M', 'M', 'A', 'A', 'D', 'D', 'D', 'A', 'D', 'A', 'D', 'D', 'A', 'GK', 'D', 'M', 'M', 'GK', 'M', 'M', 'D', 'A', 'A', 'M', 'D', 'M', 'D', 'D', 'D', 'A', 'GK', 'D', 'GK', 'M', 'D', 'M', 'A', 'A', 'D', 'M', 'D', 'D', 'A', 'A', 'M', 'M', 'D', 'D', 'D', 'D', 'M', 'M', 'D', 'A', 'M', 'D', 'D', 'M', 'A', 'M', 'M', 'D', 'A', 'M', 'D', 'M', 'D', 'M', 'D', 'D', 'D', 'M', 'A', 'M', 'A', 'A', 'GK', 'A', 'D', 'M', 'A', 'D', 'GK', 'D', 'A', 'M', 'M', 'M', 'M', 'M', 'M', 'M', 'M', 'A', 'D', 'A', 'D', 'M', 'M', 'A', 'D', 'D', 'D', 'D', 'D', 'A', 'A', 'A', 'A', 'A', 'M', 'GK', 'M', 'M', 'D', 'M', 'M', 'M', 'M', 'M', 'M', 'D', 'D', 'M', 'M', 'M', 'D', 'M', 'M', 'A', 'M', 'M', 'M', 'D', 'A', 'M', 'GK', 'A', 'D', 'A', 'M', 'M', 'D', 'M', 'A', 'M', 'A', 'A', 'M', 'D', 'A', 'A', 'A', 'M', 'A', 'M', 'D', 'M', 'D', 'A', 'D', 'M', 'A', 'D', 'GK', 'D', 'D', 'A', 'A', 'A', 'M', 'M', 'A', 'M', 'M', 'M', 'A', 'D', 'D', 'A', 'A', 'GK', 'A', 'D', 'GK', 'M', 'M', 'D', 'M', 'GK', 'D', 'GK', 'D', 'M', 'A', 'M', 'A', 'M', 'A', 'D', 'D', 'D', 'D', 'D', 'GK', 'A', 'A', 'A', 'D', 'D', 'M', 'M', 'D', 'M', 'GK', 'M', 'A', 'GK', 'M', 'M', 'D', 'A', 'A', 'M', 'GK', 'D', 'A', 'A', 'M', 'A', 'D', 'GK', 'M', 'GK', 'M', 'A', 'D', 'A', 'D', 'A', 'A', 'M', 'A', 'A', 'GK', 'M', 'D', 'D', 'M', 'A', 'A', 'GK', 'D', 'M', 'M', 'M', 'A', 'A', 'A', 'D', 'GK', 'A', 'D', 'M', 'A', 'GK', 'A', 'A', 'GK', 'D', 'M', 'A', 'A', 'D', 'M', 'D', 'D', 'A', 'M', 'M', 'GK', 'D', 'D', 'A', 'A', 'M', 'D', 'A', 'A', 'M', 'D', 'M', 'A', 'D', 'D', 'D', 'M', 'M', 'D', 'D', 'M', 'M', 'A', 'D', 'A', 'M', 'D', 'D', 'M', 'M', 'A', 'A', 'D', 'M', 'M', 'D', 'A', 'A', 'M', 'D', 'D', 'D', 'M', 'GK', 'D', 'A', 'M', 'D', 'A', 'M', 'M', 'A', 'M', 'A', 'GK', 'A', 'D', 'D', 'M', 'A', 'A', 'A', 'D', 'D', 'A', 'D', 'D', 'M', 'GK', 'D', 'D', 'M', 'M', 'M', 'M', 'A', 'D', 'M', 'D', 'D', 'M', 'A', 'D', 'M', 'D', 'A', 'A', 'A', 'A', 'M', 'GK', 'M', 'A', 'A', 'D', 'D', 'M', 'M', 'M', 'A', 'D', 'A', 'GK', 'D', 'D', 'A', 'M', 'M', 'D', 'A', 'GK', 'D', 'M', 'M', 'M', 'A', 'M', 'D', 'D', 'M', 'D', 'GK', 'GK', 'D', 'D', 'M', 'D', 'M', 'M', 'M', 'M', 'M', 'D', 'M', 'M', 'D', 'M', 'M', 'GK', 'D', 'GK', 'A', 'M', 'M', 'D', 'D', 'M', 'M', 'D', 'M', 'D', 'D', 'M', 'D', 'D', 'A', 'GK', 'A', 'M', 'A', 'D', 'D', 'A', 'M', 'GK', 'D', 'A', 'D', 'A', 'M', 'D', 'A', 'M', 'GK', 'M', 'A', 'A', 'GK', 'M', 'D', 'M', 'A', 'M', 'D', 'M', 'M', 'GK', 'D', 'M', 'A', 'A', 'A', 'M', 'A', 'D', 'M', 'M', 'A', 'M', 'A', 'M', 'GK', 'M', 'A', 'D', 'M', 'A', 'M', 'D', 'GK', 'A', 'A', 'D', 'D', 'D', 'M', 'D', 'A', 'A', 'A', 'M', 'M', 'D', 'A', 'A', 'A', 'M', 'A', 'M', 'A', 'D', 'GK', 'GK', 'M', 'D', 'GK', 'A', 'A', 'M', 'M', 'D', 'D', 'M', 'M', 'GK', 'D', 'D', 'GK', 'M', 'M', 'M', 'A', 'GK', 'A', 'M', 'A', 'M', 'D', 'M', 'M', 'GK', 'M', 'A', 'GK', 'D', 'GK', 'GK', 'A', 'D', 'A', 'GK', 'M', 'M', 'A', 'GK', 'A', 'M', 'M', 'A', 'M', 'D', 'D', 'M', 'M', 'A', 'M', 'M', 'M', 'A', 'A', 'M', 'A', 'D', 'D', 'GK', 'A', 'D', 'D', 'D', 'D', 'M', 'D', 'M', 'A', 'GK', 'A', 'D', 'A', 'A', 'A', 'A', 'D', 'GK', 'D', 'M', 'D', 'M', 'A', 'D', 'A', 'M', 'D', 'GK', 'A', 'M', 'D', 'D', 'GK', 'D', 'A', 'M', 'M', 'D', 'M', 'A', 'M', 'M', 'M', 'M', 'M', 'D', 'M', 'A', 'D', 'M', 'D', 'A', 'GK', 'D', 'A', 'M', 'D', 'D', 'GK', 'A', 'M', 'M', 'D', 'D', 'M', 'D', 'D', 'D', 'GK', 'A', 'M', 'M', 'D', 'M', 'D', 'M', 'D', 'A', 'A', 'M', 'D', 'GK', 'D', 'D', 'A', 'D', 'GK', 'D', 'GK', 'M', 'M', 'GK', 'A', 'D', 'M', 'D', 'D', 'A', 'GK', 'GK', 'D', 'A', 'A', 'D', 'D', 'M', 'M', 'D', 'M', 'M', 'D', 'M', 'D', 'M', 'M', 'D', 'D', 'D', 'M', 'D', 'D', 'GK', 'GK', 'M', 'GK', 'D', 'A', 'M', 'D', 'GK', 'M', 'GK', 'D', 'M', 'D', 'M', 'D', 'D', 'A', 'D', 'M', 'M', 'M', 'D', 'M', 'M', 'D', 'D', 'A', 'D', 'A', 'A', 'M', 'D', 'A', 'M', 'D', 'D', 'D', 'D', 'M', 'D', 'D', 'A', 'M', 'D', 'M', 'A', 'M', 'D', 'M', 'M', 'M', 'A', 'M', 'D', 'GK', 'M', 'M', 'A', 'D', 'D', 'D', 'D', 'A', 'D', 'D', 'D', 'M', 'D', 'D', 'D', 'A', 'D', 'M', 'A', 'D', 'M', 'M', 'GK', 'M', 'A', 'M', 'M', 'M', 'D', 'M', 'M', 'M', 'D', 'A', 'M', 'D', 'M', 'A', 'D', 'D', 'A', 'D', 'M', 'M', 'M', 'GK', 'M', 'D', 'M', 'A', 'D', 'D', 'M', 'A', 'M', 'A', 'M', 'A', 'D', 'A', 'M', 'M', 'M', 'M', 'D', 'A', 'A', 'M', 'GK', 'A', 'D', 'D', 'M', 'D', 'M', 'D', 'M', 'D', 'M', 'A', 'M', 'D', 'M', 'M', 'D', 'M', 'D', 'A', 'A', 'D', 'A', 'D', 'GK', 'D', 'M', 'D', 'M', 'D', 'D', 'D', 'M', 'M', 'M', 'D', 'A', 'D', 'GK', 'D', 'M', 'D', 'A', 'M', 'GK', 'D', 'M', 'D', 'M', 'D', 'M', 'GK', 'GK', 'D', 'M', 'A', 'D', 'GK', 'M', 'M', 'D', 'M', 'D', 'GK', 'GK', 'D', 'A', 'M', 'GK', 'A', 'M', 'M', 'M', 'M', 'D', 'GK', 'D', 'M', 'D', 'M', 'D', 'A', 'A', 'GK', 'GK', 'A', 'D', 'A', 'GK', 'M', 'A', 'A', 'M', 'GK', 'GK', 'D', 'M', 'D', 'M', 'A', 'D', 'D', 'M', 'GK', 'D', 'A', 'M', 'M', 'M', 'M', 'A', 'D', 'GK', 'GK', 'D', 'M', 'D', 'M', 'A', 'D', 'A', 'M', 'D', 'M', 'M', 'D', 'A', 'M', 'D', 'M', 'M', 'D', 'A', 'GK', 'M', 'GK', 'D', 'D', 'D', 'GK', 'D', 'M', 'M', 'M', 'D', 'GK', 'M', 'D', 'A', 'M', 'M', 'A', 'GK', 'M', 'D', 'D', 'M', 'M', 'D', 'M', 'M', 'GK', 'A', 'M', 'A', 'A', 'A', 'GK', 'D', 'D', 'D', 'D', 'GK', 'D', 'GK', 'D', 'D', 'GK', 'M', 'D', 'D', 'M', 'D', 'M', 'GK', 'A', 'M', 'M', 'A', 'D', 'D', 'D', 'D', 'GK', 'A', 'D', 'M', 'D', 'D', 'A', 'M', 'M', 'M', 'A', 'GK', 'M', 'D', 'M', 'D', 'M', 'M', 'GK', 'D', 'GK', 'A', 'D', 'GK', 'M', 'M', 'M', 'M', 'M', 'A', 'M', 'D', 'M', 'D', 'D', 'GK', 'M', 'D', 'GK', 'M', 'D', 'D', 'M', 'D', 'GK', 'A', 'A', 'D', 'D', 'M', 'M', 'M', 'M', 'D', 'A', 'M', 'M', 'D', 'A', 'GK', 'D', 'D', 'D', 'M', 'GK', 'D', 'D', 'D', 'M', 'M', 'D', 'M', 'M', 'D', 'D', 'M', 'D', 'M', 'A', 'M', 'M', 'D', 'M', 'D', 'D', 'GK', 'A', 'M', 'GK', 'M', 'M', 'D', 'M', 'GK', 'M', 'D', 'A', 'D', 'M', 'D', 'M', 'A', 'A', 'M', 'M', 'M', 'M', 'D', 'D', 'D', 'A', 'D', 'A', 'D', 'A', 'A', 'D', 'GK', 'A', 'D', 'A', 'D', 'A', 'A', 'D', 'M', 'M', 'D', 'M', 'A', 'M', 'D', 'M', 'M', 'A', 'A', 'D', 'GK', 'A', 'M', 'M', 'D', 'M', 'D', 'D', 'D', 'GK', 'D', 'GK', 'A', 'M', 'M', 'D', 'A', 'D', 'M', 'D', 'D', 'D', 'A', 'D', 'M', 'M', 'M', 'D', 'GK', 'M', 'M', 'M', 'M', 'M', 'D', 'D', 'GK', 'M', 'M', 'A', 'A', 'M', 'A', 'M', 'D', 'M', 'A', 'M', 'D', 'A', 'D', 'D', 'M', 'A', 'M', 'D', 'M', 'M', 'GK', 'GK', 'GK', 'A', 'A', 'M', 'A', 'M', 'A', 'M', 'GK', 'D', 'GK', 'M', 'GK', 'M', 'D', 'D', 'A', 'GK', 'D', 'M', 'D', 'M', 'A', 'A', 'D', 'D', 'A', 'D', 'M', 'A', 'M', 'M', 'D', 'M', 'M', 'M', 'A', 'M', 'GK', 'D', 'GK', 'M', 'D', 'A', 'M', 'D', 'D', 'D', 'A', 'M', 'GK', 'A', 'A', 'D', 'M', 'A', 'GK', 'D', 'D', 'A', 'M', 'D', 'M', 'D', 'D', 'D', 'D', 'D', 'A', 'M', 'M', 'M', 'M', 'GK', 'D', 'A', 'A', 'GK', 'A', 'M', 'D', 'D', 'D', 'GK', 'D', 'M', 'GK', 'M', 'A', 'M', 'GK', 'M', 'A', 'M', 'A', 'D', 'M', 'D', 'A', 'D', 'A', 'GK', 'D', 'A', 'M', 'GK', 'M', 'GK', 'D', 'GK', 'D', 'M', 'M', 'D', 'D', 'M', 'M', 'D', 'A', 'A', 'M', 'D', 'M', 'A', 'D', 'D', 'GK', 'M', 'D', 'A', 'D', 'M', 'GK', 'D', 'GK', 'M', 'D', 'D', 'M', 'D', 'A', 'D', 'M', 'D', 'GK', 'M', 'GK', 'A', 'M', 'GK', 'GK', 'D', 'D', 'A', 'D', 'M', 'GK', 'D', 'A', 'D', 'A', 'A', 'M', 'A', 'A', 'M', 'D', 'M', 'A', 'GK', 'D', 'M', 'D', 'M', 'GK', 'A', 'A', 'GK', 'A', 'A', 'A', 'D', 'D', 'A', 'GK', 'M', 'A', 'M', 'M', 'D', 'D', 'M', 'M', 'M', 'D', 'D', 'M', 'M', 'D', 'M', 'M', 'D', 'M', 'D', 'M', 'GK', 'GK', 'M', 'M', 'M', 'A', 'A', 'M', 'D', 'A', 'M', 'M', 'GK', 'M', 'A', 'A', 'A', 'D', 'D', 'M']\n",
    "# Import numpy\n",
    "import numpy as np\n",
    "\n",
    "# Convert positions and heights to numpy arrays: np_positions, np_heights\n",
    "np_positions = np.array(positions)\n",
    "np_heights = np.array(heights)\n",
    "\n",
    "# Heights of the goalkeepers: gk_heights\n",
    "gk_heights = np_heights[np_positions == 'GK']\n",
    "\n",
    "# Heights of the other players: other_heights\n",
    "other_heights = np_heights[np_positions != 'GK']\n",
    "\n",
    "# Print out the median height of goalkeepers. Replace 'None'\n",
    "print(\"Median height of goalkeepers: \" + str(np.median(gk_heights)))\n",
    "\n",
    "# Print out the median height of other players. Replace 'None'\n",
    "print(\"Median height of other players: \" + str(np.median(other_heights)))"
   ]
  },
  {
   "cell_type": "markdown",
   "metadata": {},
   "source": [
    "## iPython Notes"
   ]
  },
  {
   "cell_type": "markdown",
   "metadata": {},
   "source": [
    "Accessible via '?'\n",
    "\n",
    "### IPython -- An enhanced Interactive Python\n",
    "=========================================\n",
    "\n",
    "IPython offers a combination of convenient shell features, special commands\n",
    "and a history mechanism for both input (command history) and output (results\n",
    "caching, similar to Mathematica). It is intended to be a fully compatible\n",
    "replacement for the standard Python interpreter, while offering vastly\n",
    "improved functionality and flexibility.\n",
    "\n",
    "At your system command line, type 'ipython -h' to see the command line\n",
    "options available. This document only describes interactive features.\n",
    "\n",
    "### MAIN FEATURES\n",
    "-------------\n",
    "\n",
    "* Access to the standard Python help. As of Python 2.1, a help system is\n",
    "  available with access to object docstrings and the Python manuals. Simply\n",
    "  type 'help' (no quotes) to access it.\n",
    "\n",
    "* Magic commands: type %magic for information on the magic subsystem.\n",
    "\n",
    "* System command aliases, via the %alias command or the configuration file(s).\n",
    "\n",
    "* Dynamic object information:\n",
    "\n",
    "  Typing ?word or word? prints detailed information about an object.  If\n",
    "  certain strings in the object are too long (docstrings, code, etc.) they get\n",
    "  snipped in the center for brevity.\n",
    "\n",
    "  Typing ??word or word?? gives access to the full information without\n",
    "  snipping long strings. Long strings are sent to the screen through the less\n",
    "  pager if longer than the screen, printed otherwise.\n",
    "\n",
    "  The ?/?? system gives access to the full source code for any object (if\n",
    "  available), shows function prototypes and other useful information.\n",
    "\n",
    "  If you just want to see an object's docstring, type '%pdoc object' (without\n",
    "  quotes, and without % if you have automagic on).\n",
    "\n",
    "* Completion in the local namespace, by typing TAB at the prompt.\n",
    "\n",
    "  At any time, hitting tab will complete any available python commands or\n",
    "  variable names, and show you a list of the possible completions if there's\n",
    "  no unambiguous one. It will also complete filenames in the current directory.\n",
    "\n",
    "  This feature requires the readline and rlcomplete modules, so it won't work\n",
    "  if your Python lacks readline support (such as under Windows).\n",
    "\n",
    "* Search previous command history in two ways (also requires readline):\n",
    "\n",
    "  - Start typing, and then use Ctrl-p (previous,up) and Ctrl-n (next,down) to\n",
    "    search through only the history items that match what you've typed so\n",
    "    far. If you use Ctrl-p/Ctrl-n at a blank prompt, they just behave like\n",
    "    normal arrow keys.\n",
    "\n",
    "  - Hit Ctrl-r: opens a search prompt. Begin typing and the system searches\n",
    "    your history for lines that match what you've typed so far, completing as\n",
    "        much as it can.\n",
    "\n",
    "  - %hist: search history by index (this does *not* require readline).\n",
    "\n",
    "* Persistent command history across sessions.\n",
    "\n",
    "* Logging of input with the ability to save and restore a working session.\n",
    "\n",
    "* System escape with !. Typing !ls will run 'ls' in the current directory.\n",
    "\n",
    "* The reload command does a 'deep' reload of a module: changes made to the\n",
    "  module since you imported will actually be available without having to exit.\n",
    "\n",
    "* Verbose and colored exception traceback printouts. See the magic xmode and\n",
    "  xcolor functions for details (just type %magic).\n",
    "\n",
    "* Input caching system:\n",
    "\n",
    "  IPython offers numbered prompts (In/Out) with input and output caching. All\n",
    "  input is saved and can be retrieved as variables (besides the usual arrow\n",
    "  key recall).\n",
    "\n",
    "  The following GLOBAL variables always exist (so don't overwrite them!):\n",
    "  _i: stores previous input.\n",
    "  _ii: next previous.\n",
    "  _iii: next-next previous.\n",
    "  _ih : a list of all input _ih[n] is the input from line n.\n",
    "\n",
    "  Additionally, global variables named _i<n> are dynamically created (<n>\n",
    "  being the prompt counter), such that _i<n> == _ih[<n>]\n",
    "\n",
    "  For example, what you typed at prompt 14 is available as _i14 and _ih[14].\n",
    "\n",
    "  You can create macros which contain multiple input lines from this history,\n",
    "  for later re-execution, with the %macro function.\n",
    "\n",
    "  The history function %hist allows you to see any part of your input history\n",
    "  by printing a range of the _i variables. Note that inputs which contain\n",
    "  magic functions (%) appear in the history with a prepended comment. This is\n",
    "  because they aren't really valid Python code, so you can't exec them.\n",
    "\n",
    "* Output caching system:\n",
    "\n",
    "  For output that is returned from actions, a system similar to the input\n",
    "  cache exists but using _ instead of _i. Only actions that produce a result\n",
    "  (NOT assignments, for example) are cached. If you are familiar with\n",
    "  Mathematica, IPython's _ variables behave exactly like Mathematica's %\n",
    "  variables.\n",
    "\n",
    "  The following GLOBAL variables always exist (so don't overwrite them!):\n",
    "  _ (one underscore): previous output.\n",
    "  __ (two underscores): next previous.\n",
    "  ___ (three underscores): next-next previous.\n",
    "\n",
    "  Global variables named _<n> are dynamically created (<n> being the prompt\n",
    "  counter), such that the result of output <n> is always available as _<n>.\n",
    "\n",
    "  Finally, a global dictionary named _oh exists with entries for all lines\n",
    "  which generated output.\n",
    "\n",
    "* Directory history:\n",
    "\n",
    "  Your history of visited directories is kept in the global list _dh, and the\n",
    "  magic %cd command can be used to go to any entry in that list.\n",
    "\n",
    "* Auto-parentheses and auto-quotes (adapted from Nathan Gray's LazyPython)\n",
    "\n",
    "  1. Auto-parentheses\n",
    "        \n",
    "     Callable objects (i.e. functions, methods, etc) can be invoked like\n",
    "     this (notice the commas between the arguments)::\n",
    "       \n",
    "         In [1]: callable_ob arg1, arg2, arg3\n",
    "       \n",
    "     and the input will be translated to this::\n",
    "       \n",
    "         callable_ob(arg1, arg2, arg3)\n",
    "       \n",
    "     This feature is off by default (in rare cases it can produce\n",
    "     undesirable side-effects), but you can activate it at the command-line\n",
    "     by starting IPython with `--autocall 1`, set it permanently in your\n",
    "     configuration file, or turn on at runtime with `%autocall 1`.\n",
    "\n",
    "     You can force auto-parentheses by using '/' as the first character\n",
    "     of a line.  For example::\n",
    "       \n",
    "          In [1]: /globals             # becomes 'globals()'\n",
    "       \n",
    "     Note that the '/' MUST be the first character on the line!  This\n",
    "     won't work::\n",
    "       \n",
    "          In [2]: print /globals    # syntax error\n",
    "\n",
    "     In most cases the automatic algorithm should work, so you should\n",
    "     rarely need to explicitly invoke /. One notable exception is if you\n",
    "     are trying to call a function with a list of tuples as arguments (the\n",
    "     parenthesis will confuse IPython)::\n",
    "       \n",
    "          In [1]: zip (1,2,3),(4,5,6)  # won't work\n",
    "       \n",
    "     but this will work::\n",
    "       \n",
    "          In [2]: /zip (1,2,3),(4,5,6)\n",
    "          ------> zip ((1,2,3),(4,5,6))\n",
    "          Out[2]= [(1, 4), (2, 5), (3, 6)]\n",
    "\n",
    "     IPython tells you that it has altered your command line by\n",
    "     displaying the new command line preceded by -->.  e.g.::\n",
    "       \n",
    "          In [18]: callable list\n",
    "          -------> callable (list)\n",
    "\n",
    "  2. Auto-Quoting\n",
    "    \n",
    "     You can force auto-quoting of a function's arguments by using ',' as\n",
    "     the first character of a line.  For example::\n",
    "       \n",
    "          In [1]: ,my_function /home/me   # becomes my_function(\"/home/me\")\n",
    "\n",
    "     If you use ';' instead, the whole argument is quoted as a single\n",
    "     string (while ',' splits on whitespace)::\n",
    "       \n",
    "          In [2]: ,my_function a b c   # becomes my_function(\"a\",\"b\",\"c\")\n",
    "          In [3]: ;my_function a b c   # becomes my_function(\"a b c\")\n",
    "\n",
    "     Note that the ',' MUST be the first character on the line!  This\n",
    "     won't work::\n",
    "       \n",
    "          In [4]: x = ,my_function /home/me    # syntax error"
   ]
  }
 ],
 "metadata": {
  "kernelspec": {
   "display_name": "Python 3",
   "language": "python",
   "name": "python3"
  },
  "language_info": {
   "codemirror_mode": {
    "name": "ipython",
    "version": 3
   },
   "file_extension": ".py",
   "mimetype": "text/x-python",
   "name": "python",
   "nbconvert_exporter": "python",
   "pygments_lexer": "ipython3",
   "version": "3.7.3"
  }
 },
 "nbformat": 4,
 "nbformat_minor": 2
}
